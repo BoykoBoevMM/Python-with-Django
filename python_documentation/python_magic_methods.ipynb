{
 "cells": [
  {
   "cell_type": "markdown",
   "metadata": {},
   "source": [
    "# Python Magic Methods\n",
    "\n",
    "In Python, magic methods help you emulate the behavior of built-in functions in your Python classes. These methods have leading and trailing double underscores (__), and hence are also called dunder methods.\n",
    "\n",
    "\n",
    "Object Initialization and Representation:\n",
    "- `__init__`(self, ...): Called when an instance is created.\n",
    "- `__str__`(self): Called by str() and print().\n",
    "- `__repr__`(self): Called by repr(); should return an unambiguous string representation of the object.\n",
    "\n",
    "Comparison Operators:\n",
    "- `__eq__`(self, other): Equality operator (==).\n",
    "- `__ne__`(self, other): Inequality operator (!=).\n",
    "- `__lt__`(self, other): Less than operator (<).\n",
    "- `__le__`(self, other): Less than or equal to operator (<=).\n",
    "- `__gt__`(self, other): Greater than operator (>).\n",
    "- `__ge__`(self, other): Greater than or equal to operator (>=).\n",
    "\n",
    "Arithmetic Operators:\n",
    "- `__add__`(self, other): Addition (+).\n",
    "- `__sub__`(self, other): Subtraction (-).\n",
    "- `__mul__`(self, other): Multiplication (*).\n",
    "- `__truediv__`(self, other): Division (/).\n",
    "- `__floordiv__`(self, other): Floor division (//).\n",
    "- `__mod__`(self, other): Modulus (%).\n",
    "- `__pow__`(self, other): Power (**).\n",
    "\n",
    "Unary Operators:\n",
    "- `__neg__`(self): Negation (-).\n",
    "- `__pos__`(self): Unary positive (+).\n",
    "- `__abs__`(self): Absolute value (abs())\n",
    "\n",
    "Container Emulation:\n",
    "- `__len__`(self): Called by len().\n",
    "- `__getitem__`(self, key): Called to get an item (obj[key]).\n",
    "- `__setitem__`(self, key, value): Called to set an item (obj[key] = value).\n",
    "- `__delitem__`(self, key): Called to delete an item (del obj[key]).\n",
    "- `__contains__`(self, item): Called by in and not in.\n",
    "\n",
    "Attribute Access:\n",
    "- `__getattr__`(self, name): Called when an attribute is not found.\n",
    "- `__setattr__`(self, name, value): Called when setting an attribute.\n",
    "- `__delattr__`(self, name): Called when deleting an attribute.\n",
    "- `__getattribute__`(self, name): Called unconditionally to get an attribute"
   ]
  },
  {
   "cell_type": "markdown",
   "metadata": {},
   "source": [
    "###  `__init__`"
   ]
  },
  {
   "cell_type": "code",
   "execution_count": 1,
   "metadata": {},
   "outputs": [
    {
     "name": "stdout",
     "output_type": "stream",
     "text": [
      "<__main__.Vector2D object at 0x000001A96FEF4990>\n"
     ]
    }
   ],
   "source": [
    "class Vector2D:\n",
    "    def __init__(self, x, y):\n",
    "        self.x = x\n",
    "        self.y = y\n",
    "\n",
    "v = Vector2D(3, 5)\n",
    "print(v)"
   ]
  },
  {
   "cell_type": "markdown",
   "metadata": {},
   "source": [
    "###  `__repr__`"
   ]
  },
  {
   "cell_type": "code",
   "execution_count": 2,
   "metadata": {},
   "outputs": [
    {
     "name": "stdout",
     "output_type": "stream",
     "text": [
      "Vector2D(x=3, y=5)\n"
     ]
    }
   ],
   "source": [
    "class Vector2D:\n",
    "    def __init__(self, x, y):\n",
    "        self.x = x\n",
    "        self.y = y\n",
    "\n",
    "    def __repr__(self):\n",
    "        return f\"Vector2D(x={self.x}, y={self.y})\"\n",
    "\n",
    "v = Vector2D(3, 5)\n",
    "print(v)"
   ]
  },
  {
   "cell_type": "markdown",
   "metadata": {},
   "source": [
    "### `__str__`"
   ]
  },
  {
   "cell_type": "code",
   "execution_count": 3,
   "metadata": {},
   "outputs": [
    {
     "name": "stdout",
     "output_type": "stream",
     "text": [
      "Vector2D(x=3, y=5)\n"
     ]
    }
   ],
   "source": [
    "class Vector2D:\n",
    "    def __init__(self, x, y):\n",
    "        self.x = x\n",
    "        self.y = y\n",
    "\n",
    "    def __str__(self):\n",
    "        return f\"Vector2D(x={self.x}, y={self.y})\"\n",
    "\n",
    "v = Vector2D(3, 5)\n",
    "print(v)"
   ]
  },
  {
   "cell_type": "markdown",
   "metadata": {},
   "source": [
    "### `__eq__`"
   ]
  },
  {
   "cell_type": "code",
   "execution_count": 4,
   "metadata": {},
   "outputs": [
    {
     "name": "stdout",
     "output_type": "stream",
     "text": [
      "True\n"
     ]
    }
   ],
   "source": [
    "class Vector2D:\n",
    "    def __init__(self, x, y):\n",
    "        self.x = x\n",
    "        self.y = y\n",
    "\n",
    "    def __repr__(self):\n",
    "        return f\"Vector2D(x={self.x}, y={self.y})\"\n",
    "\n",
    "    def __eq__(self, other):\n",
    "        return self.x == other.x and self.y == other.y\n",
    "    \n",
    "v1 = Vector2D(3, 5)\n",
    "v2 = Vector2D(3, 5)\n",
    "print(v1 == v2)"
   ]
  },
  {
   "cell_type": "markdown",
   "metadata": {},
   "source": [
    "### `__len__`"
   ]
  },
  {
   "cell_type": "code",
   "execution_count": 5,
   "metadata": {},
   "outputs": [
    {
     "name": "stdout",
     "output_type": "stream",
     "text": [
      "2\n"
     ]
    }
   ],
   "source": [
    "class Vector2D:\n",
    "    def __init__(self, x, y):\n",
    "        self.x = x\n",
    "        self.y = y\n",
    "\n",
    "    def __repr__(self):\n",
    "        return f\"Vector2D(x={self.x}, y={self.y})\"\n",
    "\n",
    "    def __len__(self):\n",
    "        return 2\n",
    "\n",
    "v = Vector2D(3, 5)\n",
    "print(len(v))"
   ]
  },
  {
   "cell_type": "markdown",
   "metadata": {},
   "source": [
    "### `__add__`"
   ]
  },
  {
   "cell_type": "code",
   "execution_count": 6,
   "metadata": {},
   "outputs": [
    {
     "name": "stdout",
     "output_type": "stream",
     "text": [
      "Vector2D(x=4, y=7)\n"
     ]
    }
   ],
   "source": [
    "class Vector2D:\n",
    "    def __init__(self, x, y):\n",
    "        self.x = x\n",
    "        self.y = y\n",
    "\n",
    "    def __repr__(self):\n",
    "        return f\"Vector2D(x={self.x}, y={self.y})\"\n",
    "\n",
    "    def __add__(self, other):\n",
    "        return Vector2D(self.x + other.x, self.y + other.y)\n",
    "    \n",
    "v1 = Vector2D(3, 5)\n",
    "v2 = Vector2D(1, 2)\n",
    "result = v1 + v2\n",
    "print(result)"
   ]
  },
  {
   "cell_type": "markdown",
   "metadata": {},
   "source": [
    "### `__sub__`"
   ]
  },
  {
   "cell_type": "code",
   "execution_count": 7,
   "metadata": {},
   "outputs": [
    {
     "name": "stdout",
     "output_type": "stream",
     "text": [
      "Vector2D(x=2, y=3)\n"
     ]
    }
   ],
   "source": [
    "class Vector2D:\n",
    "    def __init__(self, x, y):\n",
    "        self.x = x\n",
    "        self.y = y\n",
    "\n",
    "    def __repr__(self):\n",
    "        return f\"Vector2D(x={self.x}, y={self.y})\"\n",
    "\n",
    "    def __sub__(self, other):\n",
    "        return Vector2D(self.x - other.x, self.y - other.y)\n",
    " \n",
    "\n",
    "v1 = Vector2D(3, 5)\n",
    "v2 = Vector2D(1, 2)\n",
    "result = v1 - v2\n",
    "print(result)"
   ]
  },
  {
   "cell_type": "markdown",
   "metadata": {},
   "source": [
    "### `__mul__`"
   ]
  },
  {
   "cell_type": "code",
   "execution_count": 8,
   "metadata": {},
   "outputs": [
    {
     "name": "stdout",
     "output_type": "stream",
     "text": [
      "Vector2D(x=6, y=10)\n",
      "13\n"
     ]
    },
    {
     "ename": "TypeError",
     "evalue": "Unsupported operand type for *",
     "output_type": "error",
     "traceback": [
      "\u001b[1;31m---------------------------------------------------------------------------\u001b[0m",
      "\u001b[1;31mTypeError\u001b[0m                                 Traceback (most recent call last)",
      "Cell \u001b[1;32mIn[8], line 27\u001b[0m\n\u001b[0;32m     24\u001b[0m result2 \u001b[38;5;241m=\u001b[39m v1 \u001b[38;5;241m*\u001b[39m v2\n\u001b[0;32m     25\u001b[0m \u001b[38;5;28mprint\u001b[39m(result2)\n\u001b[1;32m---> 27\u001b[0m result2 \u001b[38;5;241m=\u001b[39m \u001b[43mv1\u001b[49m\u001b[43m \u001b[49m\u001b[38;5;241;43m*\u001b[39;49m\u001b[43m \u001b[49m\u001b[38;5;124;43m'\u001b[39;49m\u001b[38;5;124;43m10\u001b[39;49m\u001b[38;5;124;43m'\u001b[39;49m\n\u001b[0;32m     28\u001b[0m \u001b[38;5;28mprint\u001b[39m(result2)\n",
      "Cell \u001b[1;32mIn[8], line 15\u001b[0m, in \u001b[0;36mVector2D.__mul__\u001b[1;34m(self, other)\u001b[0m\n\u001b[0;32m     13\u001b[0m     \u001b[38;5;28;01mreturn\u001b[39;00m \u001b[38;5;28mself\u001b[39m\u001b[38;5;241m.\u001b[39mx \u001b[38;5;241m*\u001b[39m other\u001b[38;5;241m.\u001b[39mx \u001b[38;5;241m+\u001b[39m \u001b[38;5;28mself\u001b[39m\u001b[38;5;241m.\u001b[39my \u001b[38;5;241m*\u001b[39m other\u001b[38;5;241m.\u001b[39my\n\u001b[0;32m     14\u001b[0m \u001b[38;5;28;01melse\u001b[39;00m:\n\u001b[1;32m---> 15\u001b[0m     \u001b[38;5;28;01mraise\u001b[39;00m \u001b[38;5;167;01mTypeError\u001b[39;00m(\u001b[38;5;124m\"\u001b[39m\u001b[38;5;124mUnsupported operand type for *\u001b[39m\u001b[38;5;124m\"\u001b[39m)\n",
      "\u001b[1;31mTypeError\u001b[0m: Unsupported operand type for *"
     ]
    }
   ],
   "source": [
    "class Vector2D:\n",
    "    def __init__(self, x, y):\n",
    "        self.x = x\n",
    "        self.y = y\n",
    "\n",
    "    def __repr__(self):\n",
    "        return f\"Vector2D(x={self.x}, y={self.y})\"\n",
    "\n",
    "    def __mul__(self, other):\n",
    "        if isinstance(other, (int, float)):\n",
    "            return Vector2D(self.x * other, self.y * other)\n",
    "        elif isinstance(other, Vector2D):\n",
    "            return self.x * other.x + self.y * other.y\n",
    "        else:\n",
    "            raise TypeError(\"Unsupported operand type for *\")\n",
    "        \n",
    "\n",
    "v1 = Vector2D(3, 5)\n",
    "v2 = Vector2D(1, 2)\n",
    "\n",
    "result1 = v1 * 2\n",
    "print(result1)  \n",
    "\n",
    "result2 = v1 * v2\n",
    "print(result2)\n",
    "\n",
    "result2 = v1 * '10'\n",
    "print(result2)"
   ]
  },
  {
   "cell_type": "markdown",
   "metadata": {},
   "source": [
    "### `__getitem__`"
   ]
  },
  {
   "cell_type": "code",
   "execution_count": 9,
   "metadata": {},
   "outputs": [
    {
     "name": "stdout",
     "output_type": "stream",
     "text": [
      "3\n",
      "5\n"
     ]
    },
    {
     "ename": "IndexError",
     "evalue": "Index out of range",
     "output_type": "error",
     "traceback": [
      "\u001b[1;31m---------------------------------------------------------------------------\u001b[0m",
      "\u001b[1;31mIndexError\u001b[0m                                Traceback (most recent call last)",
      "Cell \u001b[1;32mIn[9], line 20\u001b[0m\n\u001b[0;32m     18\u001b[0m \u001b[38;5;28mprint\u001b[39m(v[\u001b[38;5;241m0\u001b[39m])  \n\u001b[0;32m     19\u001b[0m \u001b[38;5;28mprint\u001b[39m(v[\u001b[38;5;241m1\u001b[39m])\n\u001b[1;32m---> 20\u001b[0m \u001b[38;5;28mprint\u001b[39m(\u001b[43mv\u001b[49m\u001b[43m[\u001b[49m\u001b[38;5;241;43m2\u001b[39;49m\u001b[43m]\u001b[49m)\n",
      "Cell \u001b[1;32mIn[9], line 15\u001b[0m, in \u001b[0;36mVector2D.__getitem__\u001b[1;34m(self, key)\u001b[0m\n\u001b[0;32m     13\u001b[0m     \u001b[38;5;28;01mreturn\u001b[39;00m \u001b[38;5;28mself\u001b[39m\u001b[38;5;241m.\u001b[39my\n\u001b[0;32m     14\u001b[0m \u001b[38;5;28;01melse\u001b[39;00m:\n\u001b[1;32m---> 15\u001b[0m     \u001b[38;5;28;01mraise\u001b[39;00m \u001b[38;5;167;01mIndexError\u001b[39;00m(\u001b[38;5;124m\"\u001b[39m\u001b[38;5;124mIndex out of range\u001b[39m\u001b[38;5;124m\"\u001b[39m)\n",
      "\u001b[1;31mIndexError\u001b[0m: Index out of range"
     ]
    }
   ],
   "source": [
    "class Vector2D:\n",
    "    def __init__(self, x, y):\n",
    "        self.x = x\n",
    "        self.y = y\n",
    "\n",
    "    def __repr__(self):\n",
    "        return f\"Vector2D(x={self.x}, y={self.y})\"\n",
    "\n",
    "    def __getitem__(self, key):\n",
    "        if key == 0:\n",
    "            return self.x\n",
    "        elif key == 1:\n",
    "            return self.y\n",
    "        else:\n",
    "            raise IndexError(\"Index out of range\")\n",
    "        \n",
    "v = Vector2D(3, 5)\n",
    "print(v[0])  \n",
    "print(v[1])\n",
    "print(v[2])"
   ]
  },
  {
   "cell_type": "markdown",
   "metadata": {},
   "source": [
    "### `__call__`"
   ]
  },
  {
   "cell_type": "code",
   "execution_count": 10,
   "metadata": {},
   "outputs": [
    {
     "name": "stdout",
     "output_type": "stream",
     "text": [
      "Vector2D(x=9, y=15)\n"
     ]
    }
   ],
   "source": [
    "class Vector2D:\n",
    "    def __init__(self, x, y):\n",
    "        self.x = x\n",
    "        self.y = y\n",
    " \t \n",
    "    def __repr__(self):\n",
    "        return f\"Vector2D(x={self.x}, y={self.y})\"\n",
    "\n",
    "    def __call__(self, scalar):\n",
    "        return Vector2D(self.x * scalar, self.y * scalar)\n",
    "    \n",
    "v = Vector2D(3, 5)\n",
    "result = v(3)\n",
    "print(result)"
   ]
  },
  {
   "cell_type": "markdown",
   "metadata": {},
   "source": [
    "### `__getattr__`"
   ]
  },
  {
   "cell_type": "code",
   "execution_count": 14,
   "metadata": {},
   "outputs": [
    {
     "name": "stdout",
     "output_type": "stream",
     "text": [
      "5.0\n"
     ]
    },
    {
     "ename": "AttributeError",
     "evalue": "'Vector2D' object has no attribute 'magnitudeeeeee'",
     "output_type": "error",
     "traceback": [
      "\u001b[1;31m---------------------------------------------------------------------------\u001b[0m",
      "\u001b[1;31mAttributeError\u001b[0m                            Traceback (most recent call last)",
      "Cell \u001b[1;32mIn[14], line 18\u001b[0m\n\u001b[0;32m     16\u001b[0m v \u001b[38;5;241m=\u001b[39m Vector2D(\u001b[38;5;241m3\u001b[39m, \u001b[38;5;241m4\u001b[39m)\n\u001b[0;32m     17\u001b[0m \u001b[38;5;28mprint\u001b[39m(v\u001b[38;5;241m.\u001b[39mmagnitude)\n\u001b[1;32m---> 18\u001b[0m \u001b[38;5;28mprint\u001b[39m(\u001b[43mv\u001b[49m\u001b[38;5;241;43m.\u001b[39;49m\u001b[43mmagnitudeeeeee\u001b[49m)\n",
      "Cell \u001b[1;32mIn[14], line 13\u001b[0m, in \u001b[0;36mVector2D.__getattr__\u001b[1;34m(self, name)\u001b[0m\n\u001b[0;32m     11\u001b[0m     \u001b[38;5;28;01mreturn\u001b[39;00m (\u001b[38;5;28mself\u001b[39m\u001b[38;5;241m.\u001b[39mx \u001b[38;5;241m*\u001b[39m\u001b[38;5;241m*\u001b[39m \u001b[38;5;241m2\u001b[39m \u001b[38;5;241m+\u001b[39m \u001b[38;5;28mself\u001b[39m\u001b[38;5;241m.\u001b[39my \u001b[38;5;241m*\u001b[39m\u001b[38;5;241m*\u001b[39m \u001b[38;5;241m2\u001b[39m) \u001b[38;5;241m*\u001b[39m\u001b[38;5;241m*\u001b[39m \u001b[38;5;241m0.5\u001b[39m\n\u001b[0;32m     12\u001b[0m \u001b[38;5;28;01melse\u001b[39;00m:\n\u001b[1;32m---> 13\u001b[0m     \u001b[38;5;28;01mraise\u001b[39;00m \u001b[38;5;167;01mAttributeError\u001b[39;00m(\u001b[38;5;124mf\u001b[39m\u001b[38;5;124m\"\u001b[39m\u001b[38;5;124m'\u001b[39m\u001b[38;5;124mVector2D\u001b[39m\u001b[38;5;124m'\u001b[39m\u001b[38;5;124m object has no attribute \u001b[39m\u001b[38;5;124m'\u001b[39m\u001b[38;5;132;01m{\u001b[39;00mname\u001b[38;5;132;01m}\u001b[39;00m\u001b[38;5;124m'\u001b[39m\u001b[38;5;124m\"\u001b[39m)\n",
      "\u001b[1;31mAttributeError\u001b[0m: 'Vector2D' object has no attribute 'magnitudeeeeee'"
     ]
    }
   ],
   "source": [
    "class Vector2D:\n",
    "    def __init__(self, x, y):\n",
    "        self.x = x\n",
    "        self.y = y\n",
    "\n",
    "    def __repr__(self):\n",
    "        return f\"Vector2D(x={self.x}, y={self.y})\"\n",
    "\n",
    "    def __getattr__(self, name):\n",
    "        if name == \"magnitude\":\n",
    "            return (self.x ** 2 + self.y ** 2) ** 0.5\n",
    "        else:\n",
    "            raise AttributeError(f\"'Vector2D' object has no attribute '{name}'\")\n",
    " \n",
    "\n",
    "v = Vector2D(3, 4)\n",
    "print(v.magnitude)\n",
    "print(v.magnitudeeeeee)"
   ]
  }
 ],
 "metadata": {
  "kernelspec": {
   "display_name": ".venv",
   "language": "python",
   "name": "python3"
  },
  "language_info": {
   "codemirror_mode": {
    "name": "ipython",
    "version": 3
   },
   "file_extension": ".py",
   "mimetype": "text/x-python",
   "name": "python",
   "nbconvert_exporter": "python",
   "pygments_lexer": "ipython3",
   "version": "3.11.8"
  }
 },
 "nbformat": 4,
 "nbformat_minor": 2
}
