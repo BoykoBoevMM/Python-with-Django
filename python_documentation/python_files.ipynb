{
 "cells": [
  {
   "cell_type": "markdown",
   "metadata": {},
   "source": [
    "# Reading and Writing Files in Python\n",
    "\n",
    "- \"r\" - Read - Default value. Opens a file for reading, error if the file does not exist\n",
    "- \"a\" - Append - Opens a file for appending, creates the file if it does not exist\n",
    "- \"w\" - Write - Opens a file for writing, creates the file if it does not exist\n",
    "- \"x\" - Create - Creates the specified file, returns an error if the file exists\n",
    "- 'rb' or 'wb'\tOpen in binary mode (read/write using byte data)\n",
    "\n",
    "A file object is:\n",
    "“an object exposing a file-oriented API (with methods such as read() or write()) to an underlying resource.” (Source)\n"
   ]
  },
  {
   "cell_type": "markdown",
   "metadata": {},
   "source": [
    "### Text File Types\n",
    "\n",
    "A text file is the most common file that you’ll encounter."
   ]
  },
  {
   "cell_type": "code",
   "execution_count": 1,
   "metadata": {},
   "outputs": [
    {
     "name": "stdout",
     "output_type": "stream",
     "text": [
      "<_io.TextIOWrapper name='test.txt' mode='r' encoding='cp1252'>\n",
      "<_io.TextIOWrapper name='test.txt' mode='r' encoding='cp1252'>\n"
     ]
    }
   ],
   "source": [
    "file = open('test.txt')\n",
    "print(file)\n",
    "file.close()\n",
    "\n",
    "with open('test.txt') as file:\n",
    "    print(file)"
   ]
  },
  {
   "cell_type": "markdown",
   "metadata": {},
   "source": [
    "### Buffered Binary File Types\n",
    "\n",
    "A buffered binary file type is used for reading and writing binary files."
   ]
  },
  {
   "cell_type": "code",
   "execution_count": 2,
   "metadata": {},
   "outputs": [
    {
     "name": "stdout",
     "output_type": "stream",
     "text": [
      "<class '_io.BufferedReader'>\n",
      "<class '_io.BufferedWriter'>\n"
     ]
    }
   ],
   "source": [
    "file = open('test.txt', 'rb')\n",
    "print(type(file))\n",
    "file.close()\n",
    "\n",
    "file = open('test.txt', 'wb')\n",
    "print(type(file))\n",
    "file.close()"
   ]
  },
  {
   "cell_type": "markdown",
   "metadata": {},
   "source": [
    "### Raw File Types\n",
    "\n",
    "generally used as a low-level building-block for binary and text streams. It is therefore not typically used."
   ]
  },
  {
   "cell_type": "code",
   "execution_count": 3,
   "metadata": {},
   "outputs": [
    {
     "name": "stdout",
     "output_type": "stream",
     "text": [
      "<class '_io.FileIO'>\n"
     ]
    }
   ],
   "source": [
    "file = open('test.txt', 'rb', buffering=0)\n",
    "print(type(file))\n",
    "file.close()"
   ]
  },
  {
   "cell_type": "markdown",
   "metadata": {},
   "source": [
    "### Writing Files\n",
    "\n",
    "- `.write(string)`\tThis writes the string to the file.\n",
    "- `.writelines(seq)`\tThis writes the sequence to the file. No line endings are appended to each sequence item. It’s up to you to add the appropriate line ending(s)."
   ]
  },
  {
   "cell_type": "code",
   "execution_count": 4,
   "metadata": {},
   "outputs": [
    {
     "name": "stdout",
     "output_type": "stream",
     "text": [
      "Line 1 text\n",
      "Line 2 Text\n"
     ]
    }
   ],
   "source": [
    "file_content = [\"Line 1 text\\n\", \"Line 2 Text\"]\n",
    "\n",
    "with open('test.txt', 'w') as writer:\n",
    "    writer.writelines(file_content)\n",
    "\n",
    "with open('test.txt', 'w') as writer:\n",
    "    for text in file_content:\n",
    "        writer.write(text)\n",
    "\n",
    "with open('test.txt', 'r') as reader:\n",
    "    print(reader.read())"
   ]
  },
  {
   "cell_type": "markdown",
   "metadata": {},
   "source": [
    "### Reading Files\n",
    "\n",
    "- `.read(size=-1)`\tThis reads from the file based on the number of size bytes. If no argument is passed or None or -1 is passed, then the entire file is read.\n",
    "- `.readline(size=-1)`\tThis reads at most size number of characters from the line. This continues to the end of the line and then wraps back around. If no argument is passed or None or -1 is passed, then the entire line (or rest of the line) is read.\n",
    "- `.readlines()`\tThis reads the remaining lines from the file object and returns them as a list.\n"
   ]
  },
  {
   "cell_type": "code",
   "execution_count": 5,
   "metadata": {},
   "outputs": [
    {
     "name": "stdout",
     "output_type": "stream",
     "text": [
      "Line 1 text\n",
      "Line 2 Text\n",
      "Line\n",
      " 1 text\n",
      "\n",
      "Line 2\n",
      "['Line 1 text\\n', 'Line 2 Text']\n",
      "Line 1 text\n",
      "Line 2 Text"
     ]
    }
   ],
   "source": [
    "with open('test.txt', 'r') as reader:\n",
    "    print(reader.read())\n",
    "\n",
    "\n",
    "with open('test.txt', 'r') as reader:\n",
    "    print(reader.readline(4))\n",
    "    print(reader.readline(10))\n",
    "    print(reader.readline(6))\n",
    "\n",
    "\n",
    "with open('test.txt', 'r') as reader:\n",
    "    print(reader.readlines())\n",
    "\n",
    "\n",
    "with open('test.txt', 'r') as reader:\n",
    "    for line in reader.readlines():\n",
    "        print(line, end='')"
   ]
  }
 ],
 "metadata": {
  "kernelspec": {
   "display_name": ".venv",
   "language": "python",
   "name": "python3"
  },
  "language_info": {
   "codemirror_mode": {
    "name": "ipython",
    "version": 3
   },
   "file_extension": ".py",
   "mimetype": "text/x-python",
   "name": "python",
   "nbconvert_exporter": "python",
   "pygments_lexer": "ipython3",
   "version": "3.11.8"
  }
 },
 "nbformat": 4,
 "nbformat_minor": 2
}
