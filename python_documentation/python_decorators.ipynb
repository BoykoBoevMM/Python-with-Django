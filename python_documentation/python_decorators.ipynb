{
 "cells": [
  {
   "cell_type": "markdown",
   "metadata": {},
   "source": [
    "# Python Decorators\n",
    "\n",
    "A decorator is a design pattern in Python that allows a user to add new functionality to an existing object without modifying its structure. Decorators are typically applied to functions, and they play a crucial role in enhancing or modifying the behavior of functions.\n",
    "\n",
    "Decorators dynamically alter the functionality of a function, method, or class without having to directly use subclasses or change the source code of the function being decorated. Using decorators in Python also ensures that your code is DRY(Don't Repeat Yourself). Decorators have several use cases such as:\n",
    "\n",
    "- Authorization in Python frameworks such as Flask and Django\n",
    "- Logging\n",
    "- Measuring execution time\n",
    "- Synchronization"
   ]
  },
  {
   "cell_type": "markdown",
   "metadata": {},
   "source": [
    "### Assigning Functions to Variables"
   ]
  },
  {
   "cell_type": "code",
   "execution_count": 5,
   "metadata": {},
   "outputs": [
    {
     "data": {
      "text/plain": [
       "10"
      ]
     },
     "execution_count": 5,
     "metadata": {},
     "output_type": "execute_result"
    }
   ],
   "source": [
    "def plus_one(number):\n",
    "    return number + 1\n",
    "\n",
    "add_one = plus_one\n",
    "add_one(9)"
   ]
  },
  {
   "cell_type": "markdown",
   "metadata": {},
   "source": [
    "### Defining Functions Inside other Functions \n"
   ]
  },
  {
   "cell_type": "code",
   "execution_count": 6,
   "metadata": {},
   "outputs": [
    {
     "data": {
      "text/plain": [
       "10"
      ]
     },
     "execution_count": 6,
     "metadata": {},
     "output_type": "execute_result"
    }
   ],
   "source": [
    "def plus_one(number):\n",
    "    def add_one(number):\n",
    "        return number + 1\n",
    "\n",
    "    result = add_one(number)\n",
    "    return result\n",
    "\n",
    "plus_one(9)"
   ]
  },
  {
   "cell_type": "markdown",
   "metadata": {},
   "source": [
    "### Passing Functions as Arguments to other Functions"
   ]
  },
  {
   "cell_type": "code",
   "execution_count": 4,
   "metadata": {},
   "outputs": [
    {
     "data": {
      "text/plain": [
       "10"
      ]
     },
     "execution_count": 4,
     "metadata": {},
     "output_type": "execute_result"
    }
   ],
   "source": [
    "def plus_one(number):\n",
    "    return number + 1\n",
    "\n",
    "def function_call(function):\n",
    "    number_to_add = 9\n",
    "    return function(number_to_add)\n",
    "\n",
    "function_call(plus_one)"
   ]
  },
  {
   "cell_type": "markdown",
   "metadata": {},
   "source": [
    "### Functions Returning other Functions"
   ]
  },
  {
   "cell_type": "code",
   "execution_count": 7,
   "metadata": {},
   "outputs": [
    {
     "data": {
      "text/plain": [
       "'Hi'"
      ]
     },
     "execution_count": 7,
     "metadata": {},
     "output_type": "execute_result"
    }
   ],
   "source": [
    "def hello_function():\n",
    "    def say_hi():\n",
    "        return \"Hi\"\n",
    "    return say_hi\n",
    "\n",
    "hello = hello_function()\n",
    "hello()"
   ]
  },
  {
   "cell_type": "markdown",
   "metadata": {},
   "source": [
    "### Nested Functions have access to the Enclosing Function's Variable Scope"
   ]
  },
  {
   "cell_type": "code",
   "execution_count": 8,
   "metadata": {},
   "outputs": [
    {
     "name": "stdout",
     "output_type": "stream",
     "text": [
      "Some random message\n"
     ]
    }
   ],
   "source": [
    "def print_message(message):\n",
    "    # \"Enclosong Function\"\n",
    "    def message_sender():\n",
    "        # \"Nested Function\"\n",
    "        print(message)\n",
    "\n",
    "    message_sender()\n",
    "\n",
    "print_message(\"Some random message\")"
   ]
  },
  {
   "cell_type": "markdown",
   "metadata": {},
   "source": [
    "### Creating Decorators"
   ]
  },
  {
   "cell_type": "code",
   "execution_count": 14,
   "metadata": {},
   "outputs": [
    {
     "name": "stdout",
     "output_type": "stream",
     "text": [
      "THE DECORATOR FUNCTION TAKES A FUNCTION AS AN ARGUMENT, AND WE SHALL, THEREFORE, DEFINE A FUNCTION AND PASS IT TO OUR DECORATOR.\n",
      "PYTHON PROVIDES A MUCH EASIER WAY FOR US TO APPLY DECORATORS. WE SIMPLY USE THE @ SYMBOL BEFORE THE FUNCTION WE'D LIKE TO DECORATE.\n"
     ]
    }
   ],
   "source": [
    "def uppercase_decorator(function):\n",
    "    def wrapper():\n",
    "        result = function()\n",
    "        make_uppercase = result.upper()\n",
    "        return make_uppercase\n",
    "\n",
    "    return wrapper\n",
    "\n",
    "# First variant for using decorators\n",
    "def say_hi():\n",
    "    return \"The decorator function takes a function as an argument, and we shall, therefore, define a function and pass it to our decorator.\"\n",
    "decorate = uppercase_decorator(say_hi)\n",
    "result = decorate()\n",
    "print(result)\n",
    "\n",
    "\n",
    "# Second variant for using decorators\n",
    "@uppercase_decorator\n",
    "def say_hi():\n",
    "    return \"Python provides a much easier way for us to apply decorators. We simply use the @ symbol before the function we'd like to decorate.\"\n",
    "result = say_hi()\n",
    "print(result)"
   ]
  },
  {
   "cell_type": "markdown",
   "metadata": {},
   "source": [
    "### Applying Multiple Decorators to a Single Function"
   ]
  },
  {
   "cell_type": "code",
   "execution_count": 16,
   "metadata": {},
   "outputs": [
    {
     "data": {
      "text/plain": [
       "['HELLO', 'THERE']"
      ]
     },
     "execution_count": 16,
     "metadata": {},
     "output_type": "execute_result"
    }
   ],
   "source": [
    "from functools import wraps\n",
    "\n",
    "\n",
    "def uppercase_decorator(function):\n",
    "    def wrapper():\n",
    "        result = function()\n",
    "        make_uppercase = result.upper()\n",
    "        return make_uppercase\n",
    "\n",
    "    return wrapper\n",
    "\n",
    "\n",
    "def split_string_decorator(function):\n",
    "    @wraps(function)\n",
    "    def wrapper():\n",
    "        func = function()\n",
    "        splitted_string = func.split()\n",
    "        return splitted_string\n",
    "\n",
    "    return wrapper \n",
    "\n",
    "\n",
    "@split_string_decorator\n",
    "@uppercase_decorator\n",
    "def say_hi():\n",
    "    return 'hello there'\n",
    "say_hi()"
   ]
  },
  {
   "cell_type": "markdown",
   "metadata": {},
   "source": [
    "### Accepting Arguments in Decorator Functions"
   ]
  },
  {
   "cell_type": "code",
   "execution_count": 18,
   "metadata": {},
   "outputs": [
    {
     "name": "stdout",
     "output_type": "stream",
     "text": [
      "My arguments are: First, Second\n",
      "Cities I love are First and Second\n"
     ]
    }
   ],
   "source": [
    "def decorator_with_arguments(function):\n",
    "    def wrapper_accepting_arguments(arg1, arg2):\n",
    "        print(\"My arguments are: {0}, {1}\".format(arg1,arg2))\n",
    "        function(arg1, arg2)\n",
    "    return wrapper_accepting_arguments\n",
    "\n",
    "\n",
    "@decorator_with_arguments\n",
    "def cities(city_one, city_two):\n",
    "    print(\"Cities I love are {0} and {1}\".format(city_one, city_two))\n",
    "\n",
    "cities(\"First\", \"Second\")"
   ]
  },
  {
   "cell_type": "markdown",
   "metadata": {},
   "source": [
    "### Defining General Purpose Decorators"
   ]
  },
  {
   "cell_type": "code",
   "execution_count": 22,
   "metadata": {},
   "outputs": [
    {
     "name": "stdout",
     "output_type": "stream",
     "text": [
      "The positional arguments are ()\n",
      "The keyword arguments are {}\n",
      "No arguments here.\n",
      "The positional arguments are (1, 2, 3)\n",
      "The keyword arguments are {}\n",
      "1 2 3\n",
      "The positional arguments are ()\n",
      "The keyword arguments are {'first_name': 'Derrick', 'last_name': 'Mwiti'}\n",
      "This has shown keyword arguments\n"
     ]
    }
   ],
   "source": [
    "def a_decorator_passing_arbitrary_arguments(function_to_decorate):\n",
    "    def a_wrapper_accepting_arbitrary_arguments(*args,**kwargs):\n",
    "        print('The positional arguments are', args)\n",
    "        print('The keyword arguments are', kwargs)\n",
    "        function_to_decorate(*args)\n",
    "    return a_wrapper_accepting_arbitrary_arguments\n",
    "\n",
    "\n",
    "@a_decorator_passing_arbitrary_arguments\n",
    "def function_with_no_argument():\n",
    "    print(\"No arguments here.\")\n",
    "\n",
    "function_with_no_argument()\n",
    "\n",
    "\n",
    "@a_decorator_passing_arbitrary_arguments\n",
    "def function_with_arguments(a, b, c):\n",
    "    print(a, b, c)\n",
    "\n",
    "function_with_arguments(1,2,3)\n",
    "\n",
    "\n",
    "@a_decorator_passing_arbitrary_arguments\n",
    "def function_with_keyword_arguments():\n",
    "    print(\"This has shown keyword arguments\")\n",
    "\n",
    "function_with_keyword_arguments(first_name=\"Derrick\", last_name=\"Mwiti\")"
   ]
  },
  {
   "cell_type": "markdown",
   "metadata": {},
   "source": [
    "### Passing Arguments to the Decorator"
   ]
  },
  {
   "cell_type": "code",
   "execution_count": 26,
   "metadata": {},
   "outputs": [
    {
     "name": "stdout",
     "output_type": "stream",
     "text": [
      "The wrapper can access all the variables\n",
      "\t- from the decorator maker: Pandas Numpy Scikit-learn\n",
      "\t- from the function call: Pandas Science Tools\n",
      "and pass them to the decorated function\n",
      "This is the decorated function and it only knows about its arguments: Pandas Science Tools\n"
     ]
    }
   ],
   "source": [
    "def decorator_maker_with_arguments(decorator_arg1, decorator_arg2, decorator_arg3):\n",
    "    def decorator(func):\n",
    "        def wrapper(function_arg1, function_arg2, function_arg3) :\n",
    "            print(\n",
    "                \"The wrapper can access all the variables\\n\"\n",
    "                f\"\\t- from the decorator maker: {decorator_arg1} {decorator_arg2} {decorator_arg3}\\n\"\n",
    "                f\"\\t- from the function call: {function_arg1} {function_arg2} {function_arg3}\\n\"\n",
    "                \"and pass them to the decorated function\"\n",
    "            )\n",
    "            return func(function_arg1, function_arg2,function_arg3)\n",
    "        return wrapper\n",
    "    return decorator\n",
    "\n",
    "\n",
    "@decorator_maker_with_arguments(\"Pandas\", \"Numpy\", \"Scikit-learn\")\n",
    "def decorated_function_with_arguments(arg1, arg2, arg3):\n",
    "    print(f\"This is the decorated function and it only knows about its arguments: {arg1} {arg2} {arg3}\")\n",
    "\n",
    "\n",
    "decorated_function_with_arguments(\"Pandas\", \"Science\", \"Tools\")"
   ]
  }
 ],
 "metadata": {
  "kernelspec": {
   "display_name": ".venv",
   "language": "python",
   "name": "python3"
  },
  "language_info": {
   "codemirror_mode": {
    "name": "ipython",
    "version": 3
   },
   "file_extension": ".py",
   "mimetype": "text/x-python",
   "name": "python",
   "nbconvert_exporter": "python",
   "pygments_lexer": "ipython3",
   "version": "3.11.8"
  }
 },
 "nbformat": 4,
 "nbformat_minor": 2
}
