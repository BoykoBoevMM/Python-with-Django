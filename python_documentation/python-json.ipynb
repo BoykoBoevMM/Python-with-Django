{
 "cells": [
  {
   "cell_type": "markdown",
   "metadata": {},
   "source": [
    "# JSON Module in Python\n",
    "\n",
    "JSON (JavaScript Object Notation) is a popular, lightweight data interchange standard. It represents data structures made up of key-value pairs that's quite straightforward and human-readable.\n",
    "\n",
    "The built-in JSON module in Python provides a powerful set of methods and classes that make working with JSON data simple. "
   ]
  },
  {
   "cell_type": "code",
   "execution_count": 2,
   "metadata": {},
   "outputs": [],
   "source": [
    "import requests\n",
    "import json"
   ]
  },
  {
   "cell_type": "markdown",
   "metadata": {},
   "source": [
    "### Store JSON Data in a File\n",
    "\n",
    "The `json.dump()` function in Python allows you to store JSON data directly into a file. This function takes two parameters: the data to be serialized and the file object where the data will be written."
   ]
  },
  {
   "cell_type": "code",
   "execution_count": 4,
   "metadata": {},
   "outputs": [
    {
     "name": "stdout",
     "output_type": "stream",
     "text": [
      "{'data': {'date': 'Jul 24, 2024', 'horoscope_data': \"Unexpected information may be coming at you today from out of the blue, Capricorn. You'll find that this information is extremely important, so make sure to keep all lines of communication open. You're apt to learn some important lessons regarding working harmoniously with groups to fulfill not just your own needs but also those of others. Let other people's viewpoints be heard.\"}, 'status': 200, 'success': True}\n"
     ]
    }
   ],
   "source": [
    "url = \"https://horoscope-app-api.vercel.app/api/v1/get-horoscope/daily?sign=capricorn&day=today\"\n",
    "\n",
    "# Make the GET request to the horoscope API\n",
    "response = requests.get(url)\n",
    "data = response.json()  # Convert the response to JSON\n",
    "\n",
    "# Store the JSON data in a file\n",
    "with open(\"test.json\", \"w\") as file:\n",
    "    json.dump(data, file)\n",
    "\n",
    "print(data)"
   ]
  },
  {
   "cell_type": "markdown",
   "metadata": {},
   "source": [
    "### Retrieve Data from a JSON File\n",
    "\n",
    "The `json.load()` function accepts a file object as an argument and returns deserialized JSON data in the form of Python objects such as dictionaries, lists, strings, numbers, booleans, and null values."
   ]
  },
  {
   "cell_type": "code",
   "execution_count": 10,
   "metadata": {},
   "outputs": [
    {
     "name": "stdout",
     "output_type": "stream",
     "text": [
      "{'data': {'date': 'Jul 24, 2024', 'horoscope_data': \"Unexpected information may be coming at you today from out of the blue, Capricorn. You'll find that this information is extremely important, so make sure to keep all lines of communication open. You're apt to learn some important lessons regarding working harmoniously with groups to fulfill not just your own needs but also those of others. Let other people's viewpoints be heard.\"}, 'status': 200, 'success': True}\n"
     ]
    }
   ],
   "source": [
    "with open(\"test.json\", \"r\") as file:\n",
    "    data = json.load(file)\n",
    "\n",
    "date = data[\"data\"][\"date\"]\n",
    "horoscope_data = data[\"data\"][\"horoscope_data\"]\n",
    "\n",
    "print(data)"
   ]
  },
  {
   "cell_type": "markdown",
   "metadata": {},
   "source": [
    "### Format the JSON Output\n",
    "\n",
    "The `json.dumps()` function provides several options to customize the output. The most commonly used is the indent which allows you to specify the number of spaces used for indentation."
   ]
  },
  {
   "cell_type": "code",
   "execution_count": 11,
   "metadata": {},
   "outputs": [
    {
     "name": "stdout",
     "output_type": "stream",
     "text": [
      "{\n",
      "  \"data\": {\n",
      "    \"date\": \"Jul 24, 2024\",\n",
      "    \"horoscope_data\": \"Unexpected information may be coming at you today from out of the blue, Capricorn. You'll find that this information is extremely important, so make sure to keep all lines of communication open. You're apt to learn some important lessons regarding working harmoniously with groups to fulfill not just your own needs but also those of others. Let other people's viewpoints be heard.\"\n",
      "  },\n",
      "  \"status\": 200,\n",
      "  \"success\": true\n",
      "}\n"
     ]
    }
   ],
   "source": [
    "with open(\"test.json\", \"r\") as file:\n",
    "    data = json.load(file)\n",
    "\n",
    "formatted_data = json.dumps(data, indent=2)\n",
    "\n",
    "print(formatted_data)"
   ]
  },
  {
   "cell_type": "markdown",
   "metadata": {},
   "source": [
    "### Command Line Tool\n",
    "\n",
    "The `json.tool` allows you to format and pretty-print JSON data directly from the command line. It is a useful utility for quickly visualizing the structure and contents of JSON data in a more readable and organized format.\n",
    "\n",
    "```\n",
    "python -m json.tool <input_file> <output_file>\n",
    "```\n",
    "\n",
    "- `python -m json.tool` invokes the json.tool module using the Python interpreter.\n",
    "- `<input_file>` represents the path to the JSON file you want to format.\n",
    "- `<output_file>` is an optional argument that specifies the file to which you want to save the formatted JSON output. If not provided, the formatted output will be displayed on the console."
   ]
  },
  {
   "cell_type": "code",
   "execution_count": 17,
   "metadata": {},
   "outputs": [
    {
     "name": "stdout",
     "output_type": "stream",
     "text": [
      "{\n",
      "    \"data\": {\n",
      "        \"date\": \"Jul 24, 2024\",\n",
      "        \"horoscope_data\": \"Unexpected information may be coming at you today from out of the blue, Capricorn. You'll find that this information is extremely important, so make sure to keep all lines of communication open. You're apt to learn some important lessons regarding working harmoniously with groups to fulfill not just your own needs but also those of others. Let other people's viewpoints be heard.\"\n",
      "    },\n",
      "    \"status\": 200,\n",
      "    \"success\": true\n",
      "}\n"
     ]
    }
   ],
   "source": [
    "!python -m json.tool test.json"
   ]
  },
  {
   "cell_type": "markdown",
   "metadata": {},
   "source": [
    "### Create JSON from a Python Dictionary\n",
    "\n",
    "The `json.dumps()` function provided by the JSON module to create JSON from a Python dictionary. This function takes a Python object, typically a dictionary, and converts it into a JSON string representation."
   ]
  },
  {
   "cell_type": "code",
   "execution_count": 21,
   "metadata": {},
   "outputs": [
    {
     "name": "stdout",
     "output_type": "stream",
     "text": [
      "<class 'str'>\n",
      "{\"name\": \"Ashutosh Krishna\", \"age\": 23, \"email\": \"ashutosh@example.com\"}\n"
     ]
    }
   ],
   "source": [
    "data = {\n",
    "    \"name\": \"Ashutosh Krishna\",\n",
    "    \"age\": 23,\n",
    "    \"email\": \"ashutosh@example.com\"\n",
    "}\n",
    "\n",
    "json_str = json.dumps(data)\n",
    "\n",
    "print(type(json_str))\n",
    "print(json_str)"
   ]
  },
  {
   "cell_type": "markdown",
   "metadata": {},
   "source": [
    "### Create a Python Dictionary from JSON\n",
    "\n",
    "The `json.loads()` takes a JSON string and converts it into a corresponding Python object, typically a dictionary."
   ]
  },
  {
   "cell_type": "code",
   "execution_count": 22,
   "metadata": {},
   "outputs": [
    {
     "name": "stdout",
     "output_type": "stream",
     "text": [
      "<class 'dict'>\n",
      "Ashutosh Krishna\n",
      "23\n",
      "ashutosh@example.com\n"
     ]
    }
   ],
   "source": [
    "json_str = '{\"name\": \"Ashutosh Krishna\", \"age\": 23, \"email\": \"ashutosh@example.com\"}'\n",
    "\n",
    "data = json.loads(json_str)\n",
    "\n",
    "print(type(data))\n",
    "print(data[\"name\"])\n",
    "print(data[\"age\"])\n",
    "print(data[\"email\"])"
   ]
  }
 ],
 "metadata": {
  "kernelspec": {
   "display_name": ".venv",
   "language": "python",
   "name": "python3"
  },
  "language_info": {
   "codemirror_mode": {
    "name": "ipython",
    "version": 3
   },
   "file_extension": ".py",
   "mimetype": "text/x-python",
   "name": "python",
   "nbconvert_exporter": "python",
   "pygments_lexer": "ipython3",
   "version": "3.11.8"
  }
 },
 "nbformat": 4,
 "nbformat_minor": 2
}
