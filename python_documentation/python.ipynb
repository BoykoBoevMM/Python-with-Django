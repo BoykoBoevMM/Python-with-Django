{
 "cells": [
  {
   "cell_type": "markdown",
   "metadata": {},
   "source": [
    "## Basics"
   ]
  },
  {
   "cell_type": "code",
   "execution_count": 3,
   "metadata": {},
   "outputs": [
    {
     "name": "stdout",
     "output_type": "stream",
     "text": [
      "# Displays a message.\n",
      "Hello, World!\n",
      "# Gets input from the user.\n",
      "# Returns the length of an object.\n",
      "5\n",
      "# Returns the type of an object.\n",
      "<class 'int'>\n",
      "# Converts to a string.\n",
      "123\n",
      "# Converts to an integer.\n",
      "123\n",
      "# Converts to a floating-point number.\n",
      "123.45\n",
      "# Generates a sequence of numbers.\n",
      "range(0, 10)\n",
      "# For loop.\n",
      "0\n",
      "1\n",
      "2\n",
      "3\n",
      "4\n",
      "5\n",
      "6\n",
      "7\n",
      "8\n",
      "9\n",
      "# Conditional statement.\n",
      "a is greater\n"
     ]
    }
   ],
   "source": [
    "print(\"# Displays a message.\")\n",
    "print(\"Hello, World!\") \n",
    "\n",
    "print(\"# Gets input from the user.\")\n",
    "input(\"Enter your name: \") \n",
    "\n",
    "print(\"# Returns the length of an object.\")\n",
    "print(len(\"Hello\")) \n",
    "\n",
    "print(\"# Returns the type of an object.\")\n",
    "print(type(123)) \n",
    "\n",
    "print(\"# Converts to a string.\")\n",
    "print(str(123)) \n",
    "\n",
    "print(\"# Converts to an integer.\")\n",
    "print(int(\"123\")) \n",
    "\n",
    "print(\"# Converts to a floating-point number.\")\n",
    "print(float(\"123.45\")) \n",
    "\n",
    "print(\"# Generates a sequence of numbers.\")\n",
    "print(range(10)) \n",
    "\n",
    "print(\"# For loop.\")\n",
    "for i in range(10): \n",
    "    print(i) \n",
    "\n",
    "print(\"# Conditional statement.\")\n",
    "if 10 > 5: \n",
    "    print(\"a is greater\") "
   ]
  },
  {
   "cell_type": "markdown",
   "metadata": {},
   "source": [
    "## Data Structures"
   ]
  },
  {
   "cell_type": "markdown",
   "metadata": {},
   "source": [
    "### List\n",
    "\n",
    "A list is an ordered collection of items that can hold a variety of data types. Lists are mutable, meaning you can modify them after their creation (e.g., adding, removing, or changing items).\n",
    "\n",
    "- Ordered: Elements have a specific order.\n",
    "- Mutable: Can be modified after creation.\n",
    "- Allows Duplicates: Can contain duplicate elements.\n",
    "- Indexable: Elements can be accessed via indices"
   ]
  },
  {
   "cell_type": "code",
   "execution_count": 17,
   "metadata": {},
   "outputs": [
    {
     "name": "stdout",
     "output_type": "stream",
     "text": [
      "[1, 3, 4, 5]\n"
     ]
    },
    {
     "data": {
      "text/plain": [
       "[1, 3, 4, 5]"
      ]
     },
     "execution_count": 17,
     "metadata": {},
     "output_type": "execute_result"
    }
   ],
   "source": [
    "example = list([1, 2, 3]) #creates a new list.\n",
    "\n",
    "example.append(4) #adds an item to a list.\n",
    "example.append(5) #adds an item to a list.\n",
    "\n",
    "example.pop(1) #removes an item from a list.\n",
    "\n",
    "print(example)\n",
    "example"
   ]
  },
  {
   "cell_type": "markdown",
   "metadata": {},
   "source": [
    "### dictionary\n",
    "\n",
    "A dictionary is an unordered collection of key-value pairs. Each key must be unique and immutable (like strings, numbers, or tuples), but the values can be of any type and can be duplicated. Dictionaries are mutable, so you can change them after creation.\n",
    "\n",
    "- Unordered: Does not maintain any order for elements (though Python 3.7+ maintains insertion order).\n",
    "- Mutable: Can be modified after creation.\n",
    "- Unique Keys: Keys must be unique.\n",
    "- Key-Value Pairs: Stores data in key-value pairs."
   ]
  },
  {
   "cell_type": "code",
   "execution_count": 32,
   "metadata": {},
   "outputs": [
    {
     "name": "stdout",
     "output_type": "stream",
     "text": [
      "dict_keys(['test'])\n",
      "dict_values([10])\n",
      "dict_items([('test', 10)])\n",
      "{'test': 10}\n"
     ]
    },
    {
     "data": {
      "text/plain": [
       "{'test': 10}"
      ]
     },
     "execution_count": 32,
     "metadata": {},
     "output_type": "execute_result"
    }
   ],
   "source": [
    "example = dict({\"test\": 10}) #creates a new dictionary.\n",
    "\n",
    "print(example.keys()) #returns the keys of a dictionary.\n",
    "print(example.values())\n",
    "print(example.items())\n",
    "\n",
    "print(example)\n",
    "example"
   ]
  },
  {
   "cell_type": "markdown",
   "metadata": {},
   "source": [
    "### set\n",
    "\n",
    "A set is an unordered collection of unique elements. Sets are mutable, meaning you can add or remove items after creation. Sets are useful for membership testing and eliminating duplicate entries.\n",
    "\n",
    "- Unordered: Elements do not have a specific order.\n",
    "- Mutable: Can be modified after creation (there is also an immutable version called frozenset).\n",
    "- Unique Elements: No duplicate elements are allowed.\n",
    "- No Indexing: Elements cannot be accessed via indices."
   ]
  },
  {
   "cell_type": "code",
   "execution_count": 18,
   "metadata": {},
   "outputs": [
    {
     "name": "stdout",
     "output_type": "stream",
     "text": [
      "{1, 2, 3, 4}\n"
     ]
    },
    {
     "data": {
      "text/plain": [
       "{1, 2, 3, 4}"
      ]
     },
     "execution_count": 18,
     "metadata": {},
     "output_type": "execute_result"
    }
   ],
   "source": [
    "example = set([1, 1 , 2, 3]) #creates a new set.\n",
    "\n",
    "example.add(4) #adds an item to a set.\n",
    "example.add(4)\n",
    "\n",
    "print(example)\n",
    "example"
   ]
  },
  {
   "cell_type": "markdown",
   "metadata": {},
   "source": [
    "## tuple\n",
    "\n",
    "A tuple is an ordered collection of items similar to a list, but unlike lists, tuples are immutable. Once created, you cannot modify a tuple (e.g., adding, removing, or changing items). Tuples can hold a variety of data types.\n",
    "\n",
    "- Ordered: Elements have a specific order.\n",
    "- Immutable: Cannot be modified after creation.\n",
    "- Allows Duplicates: Can contain duplicate elements.\n",
    "- Indexable: Elements can be accessed via indices."
   ]
  },
  {
   "cell_type": "code",
   "execution_count": 29,
   "metadata": {},
   "outputs": [
    {
     "name": "stdout",
     "output_type": "stream",
     "text": [
      "3\n",
      "0\n",
      "0\n"
     ]
    },
    {
     "data": {
      "text/plain": [
       "(1, 1, 1, 2, 3, 4, 5)"
      ]
     },
     "execution_count": 29,
     "metadata": {},
     "output_type": "execute_result"
    }
   ],
   "source": [
    "example = tuple([1, 1, 1, 2, 3, 4, 5]) #creates a new tuple.\n",
    "\n",
    "print(example.count(1))\n",
    "print(example.index(1))\n",
    "\n",
    "print(example.count(10))\n",
    "# print(example.index(10)) # Error\n",
    "\n",
    "example"
   ]
  },
  {
   "cell_type": "markdown",
   "metadata": {},
   "source": [
    "## Control Flow"
   ]
  },
  {
   "cell_type": "code",
   "execution_count": 33,
   "metadata": {},
   "outputs": [
    {
     "ename": "SyntaxError",
     "evalue": "invalid syntax (3033219774.py, line 6)",
     "output_type": "error",
     "traceback": [
      "\u001b[1;36m  Cell \u001b[1;32mIn[33], line 6\u001b[1;36m\u001b[0m\n\u001b[1;33m    try: do_something() except: handle_error() #exception handling.\u001b[0m\n\u001b[1;37m                        ^\u001b[0m\n\u001b[1;31mSyntaxError\u001b[0m\u001b[1;31m:\u001b[0m invalid syntax\n"
     ]
    }
   ],
   "source": [
    "while condition: do_something() #while loop.\n",
    "break #exits from a loop.\n",
    "\n",
    "continue #skips to the next iteration of a loop.\n",
    "\n",
    "try: do_something() except: handle_error() #exception handling."
   ]
  },
  {
   "cell_type": "markdown",
   "metadata": {},
   "source": [
    "## Functions\n",
    "\n",
    "```\n",
    "def function_name(parameters): #defines a function.\n",
    "\n",
    "lambda x: x * x #anonymous (lambda) function.\n",
    "\n",
    "global variable #global variable.\n",
    "\n",
    "nonlocal variable #nonlocal variable in nested functions.\n",
    "```"
   ]
  },
  {
   "cell_type": "code",
   "execution_count": 34,
   "metadata": {},
   "outputs": [
    {
     "ename": "IndentationError",
     "evalue": "expected an indented block after function definition on line 1 (554356376.py, line 3)",
     "output_type": "error",
     "traceback": [
      "\u001b[1;36m  Cell \u001b[1;32mIn[34], line 3\u001b[1;36m\u001b[0m\n\u001b[1;33m    lambda x: x * x #anonymous (lambda) function.\u001b[0m\n\u001b[1;37m    ^\u001b[0m\n\u001b[1;31mIndentationError\u001b[0m\u001b[1;31m:\u001b[0m expected an indented block after function definition on line 1\n"
     ]
    }
   ],
   "source": [
    "def function_name(parameters): #defines a function.\n",
    "\n",
    "lambda x: x * x #anonymous (lambda) function.\n",
    "\n",
    "global variable #global variable.\n",
    "\n",
    "nonlocal variable #nonlocal variable in nested functions."
   ]
  },
  {
   "cell_type": "markdown",
   "metadata": {},
   "source": [
    "## Modules and Packages"
   ]
  },
  {
   "cell_type": "code",
   "execution_count": 37,
   "metadata": {},
   "outputs": [],
   "source": [
    "import pandas #imports a module.\n",
    "\n",
    "import numpy as pd #imports a module with an alias.\n",
    "\n",
    "from math import floor #imports a specific function from a module.\n"
   ]
  },
  {
   "cell_type": "markdown",
   "metadata": {},
   "source": [
    "## File Handling\n",
    "\n",
    "\n",
    "- \"r\" - Read - Default value. Opens a file for reading, error if the file does not exist\n",
    "- \"a\" - Append - Opens a file for appending, creates the file if it does not exist\n",
    "- \"w\" - Write - Opens a file for writing, creates the file if it does not exist\n",
    "- \"x\" - Create - Creates the specified file, returns an error if the file exists"
   ]
  },
  {
   "cell_type": "code",
   "execution_count": 44,
   "metadata": {},
   "outputs": [],
   "source": [
    "file = open(\"test.txt\", \"r\") #opens a file.\n",
    "file.read() #reads the content of a file.\n",
    "\n",
    "file = open(\"test.txt\", \"w\") #opens a file.\n",
    "file.write(\"Hello\") #writes to a file.\n",
    "\n",
    "file.close() #closes a file.\n",
    "\n",
    "# with open(\"file.txt\") as file: #context management for files.\n",
    "#     print(\"file\")"
   ]
  },
  {
   "cell_type": "markdown",
   "metadata": {},
   "source": [
    "## Strings"
   ]
  },
  {
   "cell_type": "code",
   "execution_count": 46,
   "metadata": {},
   "outputs": [
    {
     "name": "stdout",
     "output_type": "stream",
     "text": [
      "HELLO\n",
      "hello\n",
      "HeJJo\n",
      "['H', 'llo']\n",
      "a, b, c\n"
     ]
    }
   ],
   "source": [
    "#converts to uppercase.\n",
    "print(\"Hello\".upper() )\n",
    "\n",
    "#converts to lowercase.\n",
    "print(\"Hello\".lower() )\n",
    "\n",
    "#replaces characters in a string.\n",
    "print(\"Hello\".replace(\"l\", \"J\") )\n",
    "\n",
    "#splits a string into a list.\n",
    "print(\"Hello\".split(\"e\") )\n",
    "\n",
    "#joins a list into a string.\n",
    "print(\", \".join([\"a\", \"b\", \"c\"]) )"
   ]
  },
  {
   "cell_type": "markdown",
   "metadata": {},
   "source": [
    "## Math"
   ]
  },
  {
   "cell_type": "code",
   "execution_count": 47,
   "metadata": {},
   "outputs": [
    {
     "name": "stdout",
     "output_type": "stream",
     "text": [
      "123\n",
      "123.46\n",
      "8\n",
      "6\n"
     ]
    }
   ],
   "source": [
    "#absolute value.\n",
    "print(abs(-123))\n",
    "\n",
    "#rounds a number.\n",
    "print(round(123.456, 2))\n",
    "\n",
    "#exponentiation.\n",
    "print(pow(2, 3))\n",
    "\n",
    "#sums the elements of a list.\n",
    "print(sum([1, 2, 3]))"
   ]
  },
  {
   "cell_type": "markdown",
   "metadata": {},
   "source": [
    "## Date and Time"
   ]
  },
  {
   "cell_type": "code",
   "execution_count": 48,
   "metadata": {},
   "outputs": [
    {
     "name": "stdout",
     "output_type": "stream",
     "text": [
      "2024-07-24 14:17:12.625617\n",
      "2024-07-24\n",
      "1 day, 0:00:00\n"
     ]
    }
   ],
   "source": [
    "#datetime module.\n",
    "import datetime\n",
    "\n",
    "#current date and time.\n",
    "print(datetime.datetime.now())\n",
    "\n",
    "#today's date.\n",
    "print(datetime.date.today())\n",
    "\n",
    "#time difference.\n",
    "print(datetime.timedelta(days=1))"
   ]
  },
  {
   "cell_type": "markdown",
   "metadata": {},
   "source": [
    "## Design Patterns\n",
    "\n",
    "\n",
    "- Static methods are used for utility functions that perform a task in isolation and do not need to access or modify the class or instance state.\n",
    "- Class methods are used for factory methods or methods that need to operate on the class itself rather than the instance.\n",
    "- Instance methods (methods defined without decorators) are the most common and can access and modify the instance state via self."
   ]
  },
  {
   "cell_type": "code",
   "execution_count": 52,
   "metadata": {},
   "outputs": [
    {
     "name": "stdout",
     "output_type": "stream",
     "text": [
      "static value\n",
      "class value\n"
     ]
    }
   ],
   "source": [
    "class MyClass: #class definition.\n",
    "\n",
    "    def __init__(self, value): #class constructor.\n",
    "        self.attribute = value #class attribute.\n",
    "\n",
    "    @staticmethod #static method decorator.\n",
    "    def static_method(value):\n",
    "        # Static methods do not have access to instance or class attributes\n",
    "        return value\n",
    "\n",
    "    @classmethod #class method decorator.\n",
    "    def class_method(cls, value):\n",
    "        # Class methods do not have direct access to instance attributes\n",
    "        return value\n",
    "    \n",
    "# Creating an instance of MyClass\n",
    "obj = MyClass('initial value')\n",
    "\n",
    "# Using the static method\n",
    "print(MyClass.static_method('static value'))  # Output: 'static value'\n",
    "\n",
    "# Using the class method\n",
    "print(MyClass.class_method('class value'))  # Output: 'class value'"
   ]
  },
  {
   "cell_type": "markdown",
   "metadata": {},
   "source": [
    "## Networking\n",
    "\n",
    "```\n",
    "import requests #sending HTTP requests.\n",
    "\n",
    "requests.get(url) #GET request.\n",
    "\n",
    "requests.post(url, data={}) #POST request.\n",
    "```"
   ]
  },
  {
   "cell_type": "code",
   "execution_count": null,
   "metadata": {},
   "outputs": [],
   "source": []
  },
  {
   "cell_type": "markdown",
   "metadata": {},
   "source": [
    "## Data Handling\n",
    "\n",
    "```\n",
    "import pandas as pd #data analysis library.\n",
    "\n",
    "pd.read_csv(\"file.csv\") #loads data from a CSV file.\n",
    "\n",
    "dataframe.describe() #basic data statistics.\n",
    "\n",
    "dataframe.head() #first rows of data.\n",
    "```\n"
   ]
  },
  {
   "cell_type": "markdown",
   "metadata": {},
   "source": [
    "## Advanced Python"
   ]
  },
  {
   "cell_type": "code",
   "execution_count": 53,
   "metadata": {},
   "outputs": [
    {
     "name": "stdout",
     "output_type": "stream",
     "text": [
      "[0, 1, 2, 3, 4, 5, 6, 7, 8, 9]\n",
      "{0: 0, 1: 1, 2: 4, 3: 9, 4: 16, 5: 25, 6: 36, 7: 49, 8: 64, 9: 81}\n",
      "{'e', 'l', 'h', 'o'}\n",
      "<generator object <genexpr> at 0x000001A294F3D080>\n"
     ]
    }
   ],
   "source": [
    "# list comprehension \n",
    "example = [x for x in range(10)] # quick list creation.\n",
    "print(example)\n",
    "\n",
    "# dictionary comprehension\n",
    "example = {x: x*x for x in range(10)} # quick dictionary creation.\n",
    "print(example)\n",
    "\n",
    "# set comprehension\n",
    "example = {x for x in \"hello\"} # quick set creation.\n",
    "print(example)\n",
    "\n",
    "# generator expression \n",
    "example = (x for x in range(10)) #creating generators.\n",
    "print(example)"
   ]
  },
  {
   "cell_type": "markdown",
   "metadata": {},
   "source": [
    "## Concurrency and Parallelism\n"
   ]
  },
  {
   "cell_type": "code",
   "execution_count": 56,
   "metadata": {},
   "outputs": [],
   "source": [
    "import threading #threading module.\n",
    "\n",
    "async def my_function():\n",
    "    print(\"my_function\")\n",
    "\n",
    "thread = threading.Thread(target=my_function) #creating a new thread.\n",
    "\n",
    "import asyncio #asyncio for asynchronous programming.\n",
    "\n",
    "await asyncio.sleep(1) #asynchronous wait."
   ]
  },
  {
   "cell_type": "markdown",
   "metadata": {},
   "source": [
    "## JSON and APIs\n"
   ]
  },
  {
   "cell_type": "code",
   "execution_count": 60,
   "metadata": {},
   "outputs": [
    {
     "name": "stdout",
     "output_type": "stream",
     "text": [
      "<class 'dict'>\n",
      "<class 'str'>\n",
      "<class 'dict'>\n"
     ]
    }
   ],
   "source": [
    "import json #JSON handling module.\n",
    "\n",
    "data = {\"name\": \"John\"}\n",
    "print(type(data))\n",
    "\n",
    "data = json.dumps(data) #JSON serialization.\n",
    "print(type(data))\n",
    "\n",
    "data = json.loads(data) #JSON deserialization.\n",
    "print(type(data))\n",
    "\n",
    "# requests.get(url).json() #getting JSON from an API."
   ]
  },
  {
   "cell_type": "markdown",
   "metadata": {},
   "source": [
    "## Decorators"
   ]
  },
  {
   "cell_type": "code",
   "execution_count": 61,
   "metadata": {},
   "outputs": [
    {
     "ename": "IndentationError",
     "evalue": "expected an indented block after function definition on line 1 (21169169.py, line 3)",
     "output_type": "error",
     "traceback": [
      "\u001b[1;36m  Cell \u001b[1;32mIn[61], line 3\u001b[1;36m\u001b[0m\n\u001b[1;33m    @my_decorator #applying a decorator to a function.\u001b[0m\n\u001b[1;37m    ^\u001b[0m\n\u001b[1;31mIndentationError\u001b[0m\u001b[1;31m:\u001b[0m expected an indented block after function definition on line 1\n"
     ]
    }
   ],
   "source": [
    "def my_decorator(func): #creating a decorator.\n",
    "\n",
    "@my_decorator #applying a decorator to a function."
   ]
  }
 ],
 "metadata": {
  "kernelspec": {
   "display_name": ".venv",
   "language": "python",
   "name": "python3"
  },
  "language_info": {
   "codemirror_mode": {
    "name": "ipython",
    "version": 3
   },
   "file_extension": ".py",
   "mimetype": "text/x-python",
   "name": "python",
   "nbconvert_exporter": "python",
   "pygments_lexer": "ipython3",
   "version": "3.11.8"
  }
 },
 "nbformat": 4,
 "nbformat_minor": 2
}
