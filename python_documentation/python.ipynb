{
 "cells": [
  {
   "cell_type": "markdown",
   "metadata": {},
   "source": [
    "## Basics"
   ]
  },
  {
   "cell_type": "code",
   "execution_count": 3,
   "metadata": {},
   "outputs": [
    {
     "name": "stdout",
     "output_type": "stream",
     "text": [
      "# Displays a message.\n",
      "Hello, World!\n",
      "# Gets input from the user.\n",
      "# Returns the length of an object.\n",
      "5\n",
      "# Returns the type of an object.\n",
      "<class 'int'>\n",
      "# Converts to a string.\n",
      "123\n",
      "# Converts to an integer.\n",
      "123\n",
      "# Converts to a floating-point number.\n",
      "123.45\n",
      "# Generates a sequence of numbers.\n",
      "range(0, 10)\n",
      "# For loop.\n",
      "0\n",
      "1\n",
      "2\n",
      "3\n",
      "4\n",
      "5\n",
      "6\n",
      "7\n",
      "8\n",
      "9\n",
      "# Conditional statement.\n",
      "a is greater\n"
     ]
    }
   ],
   "source": [
    "print(\"# Displays a message.\")\n",
    "print(\"Hello, World!\") \n",
    "\n",
    "print(\"# Gets input from the user.\")\n",
    "input(\"Enter your name: \") \n",
    "\n",
    "print(\"# Returns the length of an object.\")\n",
    "print(len(\"Hello\")) \n",
    "\n",
    "print(\"# Returns the type of an object.\")\n",
    "print(type(123)) \n",
    "\n",
    "print(\"# Converts to a string.\")\n",
    "print(str(123)) \n",
    "\n",
    "print(\"# Converts to an integer.\")\n",
    "print(int(\"123\")) \n",
    "\n",
    "print(\"# Converts to a floating-point number.\")\n",
    "print(float(\"123.45\")) \n",
    "\n",
    "print(\"# Generates a sequence of numbers.\")\n",
    "print(range(10)) \n",
    "\n",
    "print(\"# For loop.\")\n",
    "for i in range(10): \n",
    "    print(i) \n",
    "\n",
    "print(\"# Conditional statement.\")\n",
    "if 10 > 5: \n",
    "    print(\"a is greater\") "
   ]
  },
  {
   "cell_type": "markdown",
   "metadata": {},
   "source": [
    "## Data Structures"
   ]
  },
  {
   "cell_type": "markdown",
   "metadata": {},
   "source": [
    "### List\n",
    "\n",
    "A list is an ordered collection of items that can hold a variety of data types. Lists are mutable, meaning you can modify them after their creation (e.g., adding, removing, or changing items).\n",
    "\n",
    "- Ordered: Elements have a specific order.\n",
    "- Mutable: Can be modified after creation.\n",
    "- Allows Duplicates: Can contain duplicate elements.\n",
    "- Indexable: Elements can be accessed via indices"
   ]
  },
  {
   "cell_type": "code",
   "execution_count": 62,
   "metadata": {},
   "outputs": [
    {
     "name": "stdout",
     "output_type": "stream",
     "text": [
      "[1, 2, 3]\n",
      "[1, 2, 3, 4, 5]\n",
      "[1, 3, 4, 5]\n"
     ]
    }
   ],
   "source": [
    "example = list([1, 2, 3]) #creates a new list.\n",
    "print(example)\n",
    "\n",
    "example.append(4) #adds an item to a list.\n",
    "example.append(5) #adds an item to a list.\n",
    "print(example)\n",
    "\n",
    "example.pop(1) #removes an item from a list.\n",
    "print(example)\n"
   ]
  },
  {
   "cell_type": "markdown",
   "metadata": {},
   "source": [
    "### dictionary\n",
    "\n",
    "A dictionary is an unordered collection of key-value pairs. Each key must be unique and immutable (like strings, numbers, or tuples), but the values can be of any type and can be duplicated. Dictionaries are mutable, so you can change them after creation.\n",
    "\n",
    "- Unordered: Does not maintain any order for elements (though Python 3.7+ maintains insertion order).\n",
    "- Mutable: Can be modified after creation.\n",
    "- Unique Keys: Keys must be unique.\n",
    "- Key-Value Pairs: Stores data in key-value pairs."
   ]
  },
  {
   "cell_type": "code",
   "execution_count": 32,
   "metadata": {},
   "outputs": [
    {
     "name": "stdout",
     "output_type": "stream",
     "text": [
      "dict_keys(['test'])\n",
      "dict_values([10])\n",
      "dict_items([('test', 10)])\n",
      "{'test': 10}\n"
     ]
    },
    {
     "data": {
      "text/plain": [
       "{'test': 10}"
      ]
     },
     "execution_count": 32,
     "metadata": {},
     "output_type": "execute_result"
    }
   ],
   "source": [
    "example = dict({\"test\": 10}) #creates a new dictionary.\n",
    "\n",
    "print(example.keys()) #returns the keys of a dictionary.\n",
    "print(example.values())\n",
    "print(example.items())\n",
    "\n",
    "print(example)\n",
    "example"
   ]
  },
  {
   "cell_type": "markdown",
   "metadata": {},
   "source": [
    "### set\n",
    "\n",
    "A set is an unordered collection of unique elements. Sets are mutable, meaning you can add or remove items after creation. Sets are useful for membership testing and eliminating duplicate entries.\n",
    "\n",
    "- Unordered: Elements do not have a specific order.\n",
    "- Mutable: Can be modified after creation (there is also an immutable version called frozenset).\n",
    "- Unique Elements: No duplicate elements are allowed.\n",
    "- No Indexing: Elements cannot be accessed via indices."
   ]
  },
  {
   "cell_type": "code",
   "execution_count": 9,
   "metadata": {},
   "outputs": [
    {
     "name": "stdout",
     "output_type": "stream",
     "text": [
      "{1, 2, 3, 4}\n",
      "{0, 1, 2, -1, -2}\n",
      "{0}\n",
      "{1, 2}\n",
      "{-2, -1}\n",
      "{1, 2, -1, -2}\n"
     ]
    }
   ],
   "source": [
    "example = set([1, 1 , 2, 3])\n",
    "\n",
    "example.add(4) #adds an item to a set.\n",
    "example.add(4)\n",
    "\n",
    "print(example)\n",
    "\n",
    "first = set([0, 1, 2])\n",
    "second = set([-2, -1, 0])\n",
    "\n",
    "print(first.union(second))\n",
    "print(first.intersection(second))\n",
    "print(first.difference(second))\n",
    "print(second.difference(first))\n",
    "print(first.symmetric_difference(second))"
   ]
  },
  {
   "cell_type": "markdown",
   "metadata": {},
   "source": [
    "## tuple\n",
    "\n",
    "A tuple is an ordered collection of items similar to a list, but unlike lists, tuples are immutable. Once created, you cannot modify a tuple (e.g., adding, removing, or changing items). Tuples can hold a variety of data types.\n",
    "\n",
    "- Ordered: Elements have a specific order.\n",
    "- Immutable: Cannot be modified after creation.\n",
    "- Allows Duplicates: Can contain duplicate elements.\n",
    "- Indexable: Elements can be accessed via indices."
   ]
  },
  {
   "cell_type": "code",
   "execution_count": 29,
   "metadata": {},
   "outputs": [
    {
     "name": "stdout",
     "output_type": "stream",
     "text": [
      "3\n",
      "0\n",
      "0\n"
     ]
    },
    {
     "data": {
      "text/plain": [
       "(1, 1, 1, 2, 3, 4, 5)"
      ]
     },
     "execution_count": 29,
     "metadata": {},
     "output_type": "execute_result"
    }
   ],
   "source": [
    "example = tuple([1, 1, 1, 2, 3, 4, 5]) #creates a new tuple.\n",
    "\n",
    "print(example.count(1))\n",
    "print(example.index(1))\n",
    "\n",
    "print(example.count(10))\n",
    "# print(example.index(10)) # Error\n",
    "\n",
    "example"
   ]
  },
  {
   "cell_type": "markdown",
   "metadata": {},
   "source": [
    "## Control Flow"
   ]
  },
  {
   "cell_type": "code",
   "execution_count": 33,
   "metadata": {},
   "outputs": [
    {
     "ename": "SyntaxError",
     "evalue": "invalid syntax (3033219774.py, line 6)",
     "output_type": "error",
     "traceback": [
      "\u001b[1;36m  Cell \u001b[1;32mIn[33], line 6\u001b[1;36m\u001b[0m\n\u001b[1;33m    try: do_something() except: handle_error() #exception handling.\u001b[0m\n\u001b[1;37m                        ^\u001b[0m\n\u001b[1;31mSyntaxError\u001b[0m\u001b[1;31m:\u001b[0m invalid syntax\n"
     ]
    }
   ],
   "source": [
    "# while condition: do_something() #while loop.\n",
    "# break #exits from a loop.\n",
    "\n",
    "# continue #skips to the next iteration of a loop.\n",
    "\n",
    "# try: do_something() except: handle_error() #exception handling."
   ]
  },
  {
   "cell_type": "markdown",
   "metadata": {},
   "source": [
    "## Functions\n",
    "\n",
    "```\n",
    "def function_name(parameters): #defines a function.\n",
    "\n",
    "lambda x: x * x #anonymous (lambda) function.\n",
    "\n",
    "global variable #global variable.\n",
    "\n",
    "nonlocal variable #nonlocal variable in nested functions.\n",
    "```"
   ]
  },
  {
   "cell_type": "code",
   "execution_count": 63,
   "metadata": {},
   "outputs": [
    {
     "name": "stdout",
     "output_type": "stream",
     "text": [
      "15\n"
     ]
    }
   ],
   "source": [
    "def function_name(x): #defines a function.\n",
    "    print(x)\n",
    "\n",
    "\n",
    "function_name= lambda a : a + 10\n",
    "print(function_name(5))\n"
   ]
  },
  {
   "cell_type": "markdown",
   "metadata": {},
   "source": [
    "## Modules and Packages"
   ]
  },
  {
   "cell_type": "code",
   "execution_count": 37,
   "metadata": {},
   "outputs": [],
   "source": [
    "import pandas #imports a module.\n",
    "\n",
    "import numpy as pd #imports a module with an alias.\n",
    "\n",
    "from math import floor #imports a specific function from a module.\n"
   ]
  },
  {
   "cell_type": "markdown",
   "metadata": {},
   "source": [
    "## Strings"
   ]
  },
  {
   "cell_type": "code",
   "execution_count": 2,
   "metadata": {},
   "outputs": [
    {
     "name": "stdout",
     "output_type": "stream",
     "text": [
      "HELLO\n",
      "hello\n",
      "HeJJo\n",
      "['H', 'llo']\n",
      "a, b, c\n",
      "1test\n"
     ]
    }
   ],
   "source": [
    "#converts to uppercase.\n",
    "print(\"Hello\".upper() )\n",
    "\n",
    "#converts to lowercase.\n",
    "print(\"Hello\".lower() )\n",
    "\n",
    "#replaces characters in a string.\n",
    "print(\"Hello\".replace(\"l\", \"J\") )\n",
    "\n",
    "#splits a string into a list.\n",
    "print(\"Hello\".split(\"e\") )\n",
    "\n",
    "#joins a list into a string.\n",
    "print(\", \".join([\"a\", \"b\", \"c\"]) )\n",
    "\n",
    "print(\"1\" + \"test\")"
   ]
  },
  {
   "cell_type": "markdown",
   "metadata": {},
   "source": [
    "## Math"
   ]
  },
  {
   "cell_type": "code",
   "execution_count": 47,
   "metadata": {},
   "outputs": [
    {
     "name": "stdout",
     "output_type": "stream",
     "text": [
      "123\n",
      "123.46\n",
      "8\n",
      "6\n"
     ]
    }
   ],
   "source": [
    "#absolute value.\n",
    "print(abs(-123))\n",
    "\n",
    "#rounds a number.\n",
    "print(round(123.456, 2))\n",
    "\n",
    "#exponentiation.\n",
    "print(pow(2, 3))\n",
    "\n",
    "#sums the elements of a list.\n",
    "print(sum([1, 2, 3]))"
   ]
  },
  {
   "cell_type": "markdown",
   "metadata": {},
   "source": [
    "## Date and Time"
   ]
  },
  {
   "cell_type": "code",
   "execution_count": 48,
   "metadata": {},
   "outputs": [
    {
     "name": "stdout",
     "output_type": "stream",
     "text": [
      "2024-07-24 14:17:12.625617\n",
      "2024-07-24\n",
      "1 day, 0:00:00\n"
     ]
    }
   ],
   "source": [
    "#datetime module.\n",
    "import datetime\n",
    "\n",
    "#current date and time.\n",
    "print(datetime.datetime.now())\n",
    "\n",
    "#today's date.\n",
    "print(datetime.date.today())\n",
    "\n",
    "#time difference.\n",
    "print(datetime.timedelta(days=1))"
   ]
  },
  {
   "cell_type": "markdown",
   "metadata": {},
   "source": [
    "## Design Patterns\n",
    "\n",
    "\n",
    "- Static methods are used for utility functions that perform a task in isolation and do not need to access or modify the class or instance state.\n",
    "- Class methods are used for factory methods or methods that need to operate on the class itself rather than the instance.\n",
    "- Instance methods (methods defined without decorators) are the most common and can access and modify the instance state via self."
   ]
  },
  {
   "cell_type": "code",
   "execution_count": 52,
   "metadata": {},
   "outputs": [
    {
     "name": "stdout",
     "output_type": "stream",
     "text": [
      "static value\n",
      "class value\n"
     ]
    }
   ],
   "source": [
    "class MyClass: #class definition.\n",
    "\n",
    "    def __init__(self, value): #class constructor.\n",
    "        self.attribute = value #class attribute.\n",
    "\n",
    "    @staticmethod #static method decorator.\n",
    "    def static_method(value):\n",
    "        # Static methods do not have access to instance or class attributes\n",
    "        return value\n",
    "\n",
    "    @classmethod #class method decorator.\n",
    "    def class_method(cls, value):\n",
    "        # Class methods do not have direct access to instance attributes\n",
    "        return value\n",
    "    \n",
    "# Creating an instance of MyClass\n",
    "obj = MyClass('initial value')\n",
    "\n",
    "# Using the static method\n",
    "print(MyClass.static_method('static value'))  # Output: 'static value'\n",
    "\n",
    "# Using the class method\n",
    "print(MyClass.class_method('class value'))  # Output: 'class value'"
   ]
  },
  {
   "cell_type": "markdown",
   "metadata": {},
   "source": [
    "## Networking\n",
    "\n",
    "```\n",
    "import requests #sending HTTP requests.\n",
    "\n",
    "requests.get(url) #GET request.\n",
    "\n",
    "requests.post(url, data={}) #POST request.\n",
    "```"
   ]
  },
  {
   "cell_type": "code",
   "execution_count": null,
   "metadata": {},
   "outputs": [],
   "source": []
  },
  {
   "cell_type": "markdown",
   "metadata": {},
   "source": [
    "## Data Handling\n",
    "\n",
    "```\n",
    "import pandas as pd #data analysis library.\n",
    "\n",
    "pd.read_csv(\"file.csv\") #loads data from a CSV file.\n",
    "\n",
    "dataframe.describe() #basic data statistics.\n",
    "\n",
    "dataframe.head() #first rows of data.\n",
    "```\n"
   ]
  },
  {
   "cell_type": "markdown",
   "metadata": {},
   "source": [
    "## Advanced Python"
   ]
  },
  {
   "cell_type": "code",
   "execution_count": 53,
   "metadata": {},
   "outputs": [
    {
     "name": "stdout",
     "output_type": "stream",
     "text": [
      "[0, 1, 2, 3, 4, 5, 6, 7, 8, 9]\n",
      "{0: 0, 1: 1, 2: 4, 3: 9, 4: 16, 5: 25, 6: 36, 7: 49, 8: 64, 9: 81}\n",
      "{'e', 'l', 'h', 'o'}\n",
      "<generator object <genexpr> at 0x000001A294F3D080>\n"
     ]
    }
   ],
   "source": [
    "# list comprehension \n",
    "example = [x for x in range(10)] # quick list creation.\n",
    "print(example)\n",
    "\n",
    "# dictionary comprehension\n",
    "example = {x: x*x for x in range(10)} # quick dictionary creation.\n",
    "print(example)\n",
    "\n",
    "# set comprehension\n",
    "example = {x for x in \"hello\"} # quick set creation.\n",
    "print(example)\n",
    "\n",
    "# generator expression \n",
    "example = (x for x in range(10)) #creating generators.\n",
    "print(example)"
   ]
  },
  {
   "cell_type": "markdown",
   "metadata": {},
   "source": [
    "## Concurrency and Parallelism\n"
   ]
  },
  {
   "cell_type": "code",
   "execution_count": 56,
   "metadata": {},
   "outputs": [],
   "source": [
    "import threading #threading module.\n",
    "\n",
    "async def my_function():\n",
    "    print(\"my_function\")\n",
    "\n",
    "thread = threading.Thread(target=my_function) #creating a new thread.\n",
    "\n",
    "import asyncio #asyncio for asynchronous programming.\n",
    "\n",
    "await asyncio.sleep(1) #asynchronous wait."
   ]
  },
  {
   "cell_type": "markdown",
   "metadata": {},
   "source": [
    "## JSON and APIs\n"
   ]
  },
  {
   "cell_type": "code",
   "execution_count": 60,
   "metadata": {},
   "outputs": [
    {
     "name": "stdout",
     "output_type": "stream",
     "text": [
      "<class 'dict'>\n",
      "<class 'str'>\n",
      "<class 'dict'>\n"
     ]
    }
   ],
   "source": [
    "import json #JSON handling module.\n",
    "\n",
    "data = {\"name\": \"John\"}\n",
    "print(type(data))\n",
    "\n",
    "data = json.dumps(data) #JSON serialization.\n",
    "print(type(data))\n",
    "\n",
    "data = json.loads(data) #JSON deserialization.\n",
    "print(type(data))\n",
    "\n",
    "# requests.get(url).json() #getting JSON from an API."
   ]
  },
  {
   "cell_type": "markdown",
   "metadata": {},
   "source": [
    "## Built-in Functions"
   ]
  },
  {
   "cell_type": "markdown",
   "metadata": {},
   "source": [
    "### `abc()`\n",
    "\n",
    "Return the absolute value of a number. The argument may be an integer, a floating-point number"
   ]
  },
  {
   "cell_type": "code",
   "execution_count": 64,
   "metadata": {},
   "outputs": [
    {
     "name": "stdout",
     "output_type": "stream",
     "text": [
      "13\n",
      "13.7\n"
     ]
    }
   ],
   "source": [
    "num_1 = -13\n",
    "num_2 = -13.7\n",
    "\n",
    "print(abs(num_1))\n",
    "print(abs(num_2))"
   ]
  },
  {
   "cell_type": "markdown",
   "metadata": {},
   "source": [
    "### `all()`\n",
    "\n",
    "Returns True if all items in an iterable object are true"
   ]
  },
  {
   "cell_type": "code",
   "execution_count": 77,
   "metadata": {},
   "outputs": [
    {
     "name": "stdout",
     "output_type": "stream",
     "text": [
      "True\n",
      "False\n",
      "True\n",
      "False\n",
      "True\n",
      "False\n",
      "True\n",
      "False\n",
      "True\n",
      "False\n"
     ]
    }
   ],
   "source": [
    "print(all([True, True, True]))\n",
    "print(all([False, True, True]))\n",
    "\n",
    "print(all([1, 2 ,3]))\n",
    "print(all([-1, 0, 1, 2 ,3]))\n",
    "\n",
    "print(all(['a', 'b']))\n",
    "print(all(['', 'a', 'b']))\n",
    "\n",
    "print(all([[1], [2]]))\n",
    "print(all([[], []]))\n",
    "\n",
    "print(all({\"a\" : \"Apple\", \"b\" : \"Orange\"}))\n",
    "print(all({0 : \"Apple\", 1 : \"Orange\"}))"
   ]
  },
  {
   "cell_type": "markdown",
   "metadata": {},
   "source": [
    "### `any()`\t\n",
    "\n",
    "Returns True if any item in an iterable object is true"
   ]
  },
  {
   "cell_type": "code",
   "execution_count": 85,
   "metadata": {},
   "outputs": [
    {
     "name": "stdout",
     "output_type": "stream",
     "text": [
      "True\n",
      "False\n",
      "True\n",
      "False\n",
      "True\n",
      "False\n",
      "True\n",
      "False\n",
      "True\n",
      "False\n"
     ]
    }
   ],
   "source": [
    "print(any([False, False, True]))\n",
    "print(any([False, False, False]))\n",
    "\n",
    "print(any([1, 2 ,3]))\n",
    "print(any([0, 0, 0,]))\n",
    "\n",
    "print(any(['a', 'b']))\n",
    "print(any(['', '', '']))\n",
    "\n",
    "print(any([[1], [2]]))\n",
    "print(any([[], []]))\n",
    "\n",
    "print(any({\"a\" : \"Apple\", \"b\" : \"Orange\"}))\n",
    "print(any({0 : \"Apple\", \"\" : \"Orange\"}))"
   ]
  },
  {
   "cell_type": "markdown",
   "metadata": {},
   "source": [
    "### `ascii()`\n",
    "\n",
    "The ascii() function returns a readable version of any object (Strings, Tuples, Lists, etc). The ascii() function will replace any non-ascii characters with escape characters: å will be replaced with \\xe5."
   ]
  },
  {
   "cell_type": "code",
   "execution_count": 86,
   "metadata": {},
   "outputs": [
    {
     "name": "stdout",
     "output_type": "stream",
     "text": [
      "'My name is St\\xe5le'\n"
     ]
    }
   ],
   "source": [
    "print(ascii(\"My name is Ståle\"))"
   ]
  },
  {
   "cell_type": "markdown",
   "metadata": {},
   "source": [
    "### `bool()`\n",
    "\n",
    "The bool() function returns the boolean value of a specified object.\n",
    "\n",
    "The object will always return True, unless:\n",
    "- The object is empty, like [], (), {}\n",
    "- The object is False\n",
    "- The object is 0\n",
    "- The object is None"
   ]
  },
  {
   "cell_type": "code",
   "execution_count": 89,
   "metadata": {},
   "outputs": [
    {
     "name": "stdout",
     "output_type": "stream",
     "text": [
      "True\n",
      "False\n",
      "False\n",
      "True\n",
      "True\n"
     ]
    }
   ],
   "source": [
    "print(bool(1))\n",
    "print(bool(''))\n",
    "print(bool([]))\n",
    "print(bool([0]))\n",
    "print(bool({0: ''}))"
   ]
  },
  {
   "cell_type": "markdown",
   "metadata": {},
   "source": [
    "### `callable()`\n",
    "\n",
    "The callable() function returns True if the specified object is callable, otherwise it returns False."
   ]
  },
  {
   "cell_type": "code",
   "execution_count": 94,
   "metadata": {},
   "outputs": [
    {
     "name": "stdout",
     "output_type": "stream",
     "text": [
      "False\n",
      "False\n",
      "False\n",
      "True\n",
      "True\n"
     ]
    }
   ],
   "source": [
    "print(callable(1))\n",
    "print(callable([]))\n",
    "print(callable({\"a\": 2}))\n",
    "\n",
    "def test(a): a * 1\n",
    "print(callable(test))\n",
    "\n",
    "test = lambda a : a\n",
    "print(callable(test))\n"
   ]
  },
  {
   "cell_type": "markdown",
   "metadata": {},
   "source": [
    "### `dir()`\n",
    "\n",
    "The dir() function returns all properties and methods of the specified object, without the values. This function will return all the properties and methods, even built-in properties which are default for all object."
   ]
  },
  {
   "cell_type": "markdown",
   "metadata": {},
   "source": [
    "### `enumerate()` \n",
    "\n",
    "The enumerate() function takes a collection (e.g. a tuple) and returns it as an enumerate object. The enumerate() function adds a counter as the key of the enumerate object."
   ]
  },
  {
   "cell_type": "code",
   "execution_count": 104,
   "metadata": {},
   "outputs": [
    {
     "name": "stdout",
     "output_type": "stream",
     "text": [
      "('apple', 'banana', 'cherry')\n",
      "<enumerate object at 0x000001A289B00A90>\n",
      "[(0, 'apple'), (1, 'banana'), (2, 'cherry')]\n"
     ]
    }
   ],
   "source": [
    "x = ('apple', 'banana', 'cherry')\n",
    "y = enumerate(x)\n",
    "\n",
    "print(x)\n",
    "print(y)\n",
    "print(list(y))"
   ]
  },
  {
   "cell_type": "markdown",
   "metadata": {},
   "source": [
    "### `eval()`\n",
    "\n",
    "The eval() function evaluates the specified expression, if the expression is a legal Python statement, it will be executed.\n",
    "\n"
   ]
  },
  {
   "cell_type": "code",
   "execution_count": 115,
   "metadata": {},
   "outputs": [
    {
     "name": "stdout",
     "output_type": "stream",
     "text": [
      "55\n",
      "[3, 2, 1]\n",
      "False\n",
      "True\n",
      "Error\n"
     ]
    }
   ],
   "source": [
    "eval('print(55)')\n",
    "print(eval('[3, 2, 1]'))\n",
    "print(eval('bool(0)'))\n",
    "print(eval('bool(1)'))\n",
    "try:\n",
    "    print(eval('bool(1)sdsds'))\n",
    "except:\n",
    "    print(\"Error\")"
   ]
  },
  {
   "cell_type": "markdown",
   "metadata": {},
   "source": [
    "### `filter()`\n",
    "\n",
    "The filter() function returns an iterator where the items are filtered through a function to test if the item is accepted or not."
   ]
  },
  {
   "cell_type": "code",
   "execution_count": 118,
   "metadata": {},
   "outputs": [
    {
     "name": "stdout",
     "output_type": "stream",
     "text": [
      "[1, 3, 4, 5, 6, 3, 4]\n"
     ]
    }
   ],
   "source": [
    "filter_fn = lambda x: x != 2\n",
    "\n",
    "print(list(filter(filter_fn, [1, 2, 3, 4, 5, 6, 2, 3,2, 4])))"
   ]
  },
  {
   "cell_type": "markdown",
   "metadata": {},
   "source": [
    "### `float()`\n",
    "\n",
    "The float() function converts the specified value into a floating point number."
   ]
  },
  {
   "cell_type": "code",
   "execution_count": 119,
   "metadata": {},
   "outputs": [
    {
     "name": "stdout",
     "output_type": "stream",
     "text": [
      "3.0\n",
      "3.0\n",
      "3.123\n"
     ]
    }
   ],
   "source": [
    "print(float(3))\n",
    "print(float('3'))\n",
    "print(float('3.123'))"
   ]
  },
  {
   "cell_type": "markdown",
   "metadata": {},
   "source": [
    "### `format()`\n",
    "\n",
    "The format() function formats a specified value into a specified format.\n",
    "\n",
    "- '<' - Left aligns the result (within the available space)\n",
    "- '>' - Right aligns the result (within the available space)\n",
    "- '^' - Center aligns the result (within the available space)\n",
    "- '=' - Places the sign to the left most position\n",
    "- '+' - Use a plus sign to indicate if the result is positive or negative\n",
    "- '-' - Use a minus sign for negative values only\n",
    "- ' ' - Use a leading space for positive numbers\n",
    "- ',' - Use a comma as a thousand separator\n",
    "- '_' - Use a underscore as a thousand separator\n",
    "- 'b' - Binary format\n",
    "- 'c' - Converts the value into the corresponding unicode character\n",
    "- 'd' - Decimal format\n",
    "- 'e' - Scientific format, with a lower case e\n",
    "- 'E' - Scientific format, with an upper case E\n",
    "- 'f' - Fix point number format\n",
    "- 'F' - Fix point number format, upper case\n",
    "- 'g' - General format\n",
    "- 'G' - General format (using a upper case E for scientific notations)\n",
    "- 'o' - Octal format\n",
    "- 'x' - Hex format, lower case\n",
    "- 'X' - Hex format, upper case\n",
    "- 'n' - Number format\n",
    "- '%' - Percentage format"
   ]
  },
  {
   "cell_type": "code",
   "execution_count": 132,
   "metadata": {},
   "outputs": [
    {
     "name": "stdout",
     "output_type": "stream",
     "text": [
      "50.000000%\n",
      "0.5\n",
      "0.5\n",
      "+0.5\n",
      "-0.5\n",
      "101\n",
      "5\n",
      "5\n"
     ]
    }
   ],
   "source": [
    "print(format(0.5, '%'))\n",
    "print(format(0.5, 'g'))\n",
    "print(format(0.5, '<'))\n",
    "print(format(0.5, '+'))\n",
    "print(format(-0.5, '+'))\n",
    "print(format(5, 'b'))\n",
    "print(format(5, 'd'))\n",
    "print(format(5, 'n'))"
   ]
  },
  {
   "cell_type": "markdown",
   "metadata": {},
   "source": [
    "### `frozenset()`\n",
    "\n",
    "The frozenset() function returns an unchangeable frozenset object (which is like a set object, only unchangeable).\n",
    "\n"
   ]
  },
  {
   "cell_type": "code",
   "execution_count": 134,
   "metadata": {},
   "outputs": [
    {
     "name": "stdout",
     "output_type": "stream",
     "text": [
      "frozenset({'1', '2'})\n"
     ]
    }
   ],
   "source": [
    "print(frozenset(['1', '1', '2']))"
   ]
  },
  {
   "cell_type": "markdown",
   "metadata": {},
   "source": [
    "### `getattr()`\n",
    "\n",
    "Returns the value of the specified attribute (property or method)"
   ]
  },
  {
   "cell_type": "code",
   "execution_count": 138,
   "metadata": {},
   "outputs": [
    {
     "name": "stdout",
     "output_type": "stream",
     "text": [
      "John\n",
      "36\n",
      "Error: missing attribute\n"
     ]
    }
   ],
   "source": [
    "class Person:\n",
    "  name = \"John\"\n",
    "  age = 36\n",
    "  country = \"Norway\"\n",
    "\n",
    "print(getattr(Person, 'name'))\n",
    "print(getattr(Person, 'age'))\n",
    "print(getattr(Person, 'invalid', 'Error: missing attribute'))"
   ]
  },
  {
   "cell_type": "markdown",
   "metadata": {},
   "source": [
    "### `globals()`\n",
    "\n",
    "The globals() function returns the global symbol table as a dictionary. A symbol table contains necessary information about the current program"
   ]
  },
  {
   "cell_type": "code",
   "execution_count": 139,
   "metadata": {},
   "outputs": [
    {
     "name": "stdout",
     "output_type": "stream",
     "text": [
      "{'__name__': '__main__', '__doc__': 'Automatically created module for IPython interactive environment', '__package__': None, '__loader__': None, '__spec__': None, '__builtin__': <module 'builtins' (built-in)>, '__builtins__': <module 'builtins' (built-in)>, '_ih': ['', 'dictionary = dict() #creates a new dictionary.\\n\\ndictionary.keys() #returns the keys of a dictionary.', 'list() #creates a new list.\\n\\nlist.append(1) #adds an item to a list.\\n\\nlist.pop(1) #removes an item from a list.', 'array = list() #creates a new list.\\n\\narray .append(1) #adds an item to a list.\\n\\narray .pop(1) #removes an item from a list.', 'array = list() #creates a new list.\\n\\narray.append(1) #adds an item to a list.\\n\\narray.pop(1) #removes an item from a list.', 'array = list() #creates a new list.\\n\\narray.append(1) #adds an item to a list.\\narray.append(2) #adds an item to a list.\\n\\narray.pop(1) #removes an item from a list.', 'array = list([1, 2, 3]) #creates a new list.\\n\\narray.append(1) #adds an item to a list.\\narray.append(2) #adds an item to a list.\\n\\narray.pop(1) #removes an item from a list.', 'array = list([1, 2, 3]) #creates a new list.\\n\\narray.append(1) #adds an item to a list.\\narray.append(2) #adds an item to a list.\\n\\narray.pop(1) #removes an item from a list.\\n\\nprint(list)', 'array = list([1, 2, 3]) #creates a new list.\\n\\narray.append(1) #adds an item to a list.\\narray.append(2) #adds an item to a list.\\n\\narray.pop(1) #removes an item from a list.\\n\\nprint(array)', 'array = list([1, 2, 3]) #creates a new list.\\n\\narray.append(4) #adds an item to a list.\\narray.append(5) #adds an item to a list.\\n\\narray.pop(1) #removes an item from a list.\\n\\nprint(array)', 'example = set() #creates a new set.\\n\\nexample.add(2) #adds an item to a set.\\n\\nprint(example)', 'example = set() #creates a new set.\\n\\nexample.add(2) #adds an item to a set.\\nexample.add(2)\\n\\nprint(example)', 'example = set(1) #creates a new set.\\n\\nexample.add(2) #adds an item to a set.\\nexample.add(2)\\n\\nprint(example)', 'example = set([1, 2, 3]) #creates a new set.\\n\\nexample.add(4) #adds an item to a set.\\nexample.add(4)\\n\\nprint(example)', 'example = set([1, 1 , 2, 3]) #creates a new set.\\n\\nexample.add(4) #adds an item to a set.\\nexample.add(4)\\n\\nprint(example)', 'dictionary = dict() #creates a new dictionary.\\n\\ndictionary.keys() #returns the keys of a dictionary.\\n\\nprint(dictionary)', 'dictionary = dict() #creates a new dictionary.\\n\\ndictionary.keys() #returns the keys of a dictionary.\\n\\nprint(dictionary)\\ndictionary', 'array = list([1, 2, 3]) #creates a new list.\\n\\narray.append(4) #adds an item to a list.\\narray.append(5) #adds an item to a list.\\n\\narray.pop(1) #removes an item from a list.\\n\\nprint(array)\\narray', 'example = set([1, 1 , 2, 3]) #creates a new set.\\n\\nexample.add(4) #adds an item to a set.\\nexample.add(4)\\n\\nprint(example)\\nexample', 'example = tuple([1, 2, 3, 4, 5]) #creates a new tuple.', 'example = tuple([1, 2, 3, 4, 5]) #creates a new tuple.\\n\\nexample', 'example = tuple([1, 2, 3, 4, 5]) #creates a new tuple.\\n\\nprint(example.count)\\n\\nexample', 'example = tuple([1, 2, 3, 4, 5]) #creates a new tuple.\\n\\nprint(example.count())\\n\\nexample', 'example = tuple([1, 2, 3, 4, 5]) #creates a new tuple.\\n\\nprint(example.count(2))\\n\\nexample', 'example = tuple([1, 2, 3, 4, 5]) #creates a new tuple.\\n\\nprint(example.count(2))\\nprint(example.index)\\n\\nexample', 'example = tuple([1, 2, 3, 4, 5]) #creates a new tuple.\\n\\nprint(example.count(2))\\nprint(example.index(2))\\n\\nexample', 'example = tuple([1, 2, 3, 3, 4, 5]) #creates a new tuple.\\n\\nprint(example.count(3))\\nprint(example.index(3))\\n\\nexample', 'example = tuple([1, 1, 1, 2, 3, 4, 5]) #creates a new tuple.\\n\\nprint(example.count(1))\\nprint(example.index(1))\\n\\nexample', 'example = tuple([1, 1, 1, 2, 3, 4, 5]) #creates a new tuple.\\n\\nprint(example.count(1))\\nprint(example.index(1))\\n\\nprint(example.count(10))\\nprint(example.index(10))\\n\\nexample', 'example = tuple([1, 1, 1, 2, 3, 4, 5]) #creates a new tuple.\\n\\nprint(example.count(1))\\nprint(example.index(1))\\n\\nprint(example.count(10))\\n# print(example.index(10)) # Error\\n\\nexample', 'example = dict({\"test\": 10}) #creates a new dictionary.\\n\\nexample.keys() #returns the keys of a dictionary.\\n\\nprint(example)\\nexample', 'example = dict({\"test\": 10}) #creates a new dictionary.\\n\\nprint(example.keys()) #returns the keys of a dictionary.\\n\\nprint(example)\\nexample', 'example = dict({\"test\": 10}) #creates a new dictionary.\\n\\nprint(example.keys()) #returns the keys of a dictionary.\\nprint(example.values())\\nprint(example.items())\\n\\nprint(example)\\nexample', 'while condition: do_something() #while loop.\\nbreak #exits from a loop.\\n\\ncontinue #skips to the next iteration of a loop.\\n\\ntry: do_something() except: handle_error() #exception handling.', 'def function_name(parameters): #defines a function.\\n\\nlambda x: x * x #anonymous (lambda) function.\\n\\nglobal variable #global variable.\\n\\nnonlocal variable #nonlocal variable in nested functions.', 'import pandas #imports a module.\\n\\nimport numpy as pd #imports a module with an alias.\\n\\nfrom math import floor #imports a specific function from a module.', 'import pandas #imports a module.\\n\\nimport numpy as pd #imports a module with an alias.\\n\\nfrom math import floor #imports a specific function from a module.', 'import pandas #imports a module.\\n\\nimport numpy as pd #imports a module with an alias.\\n\\nfrom math import floor #imports a specific function from a module.', 'open(\"test.txt\") #opens a file.\\n\\nfile.read() #reads the content of a file.\\n\\nfile.write(\"Hello\") #writes to a file.\\n\\nfile.close() #closes a file.\\n\\nwith open(\"file.txt\") as file: #context management for files.\\n    print(\"file\")', 'file = open(\"test.txt\") #opens a file.\\n\\nfile.read() #reads the content of a file.\\n\\nfile.write(\"Hello\") #writes to a file.\\n\\nfile.close() #closes a file.\\n\\nwith open(\"file.txt\") as file: #context management for files.\\n    print(\"file\")', 'file = open(\"test.txt\") #opens a file.\\n\\nfile.read() #reads the content of a file.\\n\\nfile.write(\"Hello\") #writes to a file.\\n\\nfile.close() #closes a file.\\n\\nwith open(\"file.txt\") as file: #context management for files.\\n    print(\"file\")', 'file = open(\"test.txt\", \"rw\") #opens a file.\\n\\nfile.read() #reads the content of a file.\\n\\nfile.write(\"Hello\") #writes to a file.\\n\\nfile.close() #closes a file.\\n\\nwith open(\"file.txt\") as file: #context management for files.\\n    print(\"file\")', 'file = open(\"test.txt\", \"w\") #opens a file.\\n\\nfile.read() #reads the content of a file.\\n\\nfile.write(\"Hello\") #writes to a file.\\n\\nfile.close() #closes a file.\\n\\nwith open(\"file.txt\") as file: #context management for files.\\n    print(\"file\")', 'file = open(\"test.txt\", \"r\") #opens a file.\\nfile.read() #reads the content of a file.\\n\\nfile = open(\"test.txt\", \"w\") #opens a file.\\nfile.write(\"Hello\") #writes to a file.\\n\\nfile.close() #closes a file.\\n\\nwith open(\"file.txt\") as file: #context management for files.\\n    print(\"file\")', 'file = open(\"test.txt\", \"r\") #opens a file.\\nfile.read() #reads the content of a file.\\n\\nfile = open(\"test.txt\", \"w\") #opens a file.\\nfile.write(\"Hello\") #writes to a file.\\n\\nfile.close() #closes a file.\\n\\n# with open(\"file.txt\") as file: #context management for files.\\n#     print(\"file\")', '#converts to uppercase.\\nprint(\"Hello\".upper() )\\n\\n#converts to lowercase.\\nprint(\"Hello\".lower() )\\n\\n#replaces characters in a string.\\nprint(\"Hello\".replace(\"H\", \"J\") )\\n\\n#splits a string into a list.\\nprint(\"Hello\".split(\"e\") )\\n\\n#joins a list into a string.\\nprint(\",\".join([\"a\", \"b\", \"c\"]) )', '#converts to uppercase.\\nprint(\"Hello\".upper() )\\n\\n#converts to lowercase.\\nprint(\"Hello\".lower() )\\n\\n#replaces characters in a string.\\nprint(\"Hello\".replace(\"l\", \"J\") )\\n\\n#splits a string into a list.\\nprint(\"Hello\".split(\"e\") )\\n\\n#joins a list into a string.\\nprint(\", \".join([\"a\", \"b\", \"c\"]) )', '#absolute value.\\nprint(abs(-123))\\n\\n#rounds a number.\\nprint(round(123.456, 2))\\n\\n#exponentiation.\\nprint(pow(2, 3))\\n\\n#sums the elements of a list.\\nprint(sum([1, 2, 3]))', \"#datetime module.\\nimport datetime\\n\\n#current date and time.\\nprint(datetime.datetime.now())\\n\\n#today's date.\\nprint(datetime.date.today())\\n\\n#time difference.\\nprint(datetime.timedelta(days=1))\", 'class MyClass: #class definition.\\n\\n    def __init__(self, value): #class constructor.\\n        self.attribute = value #class attribute.\\n\\n    @staticmethod #static method decorator.\\n    def static_method(value):\\n        # Static methods do not have access to instance or class attributes\\n        return value\\n\\n    @classmethod #class method decorator.\\n    def class_method(cls, value):\\n        # Class methods do not have direct access to instance attributes\\n        return value', \"class MyClass: #class definition.\\n\\n    def __init__(self, value): #class constructor.\\n        self.attribute = value #class attribute.\\n\\n    @staticmethod #static method decorator.\\n    def static_method(value):\\n        # Static methods do not have access to instance or class attributes\\n        return value\\n\\n    @classmethod #class method decorator.\\n    def class_method(cls, value):\\n        # Class methods do not have direct access to instance attributes\\n        return value\\n    \\nprint(MyClass.static_method('example value'))\\nprint(MyClass.class_method('example value'))\", \"class MyClass: #class definition.\\n\\n    def __init__(self, value): #class constructor.\\n        self.attribute = value #class attribute.\\n\\n    @staticmethod #static method decorator.\\n    def static_method(value):\\n        # Static methods do not have access to instance or class attributes\\n        return value\\n\\n    @classmethod #class method decorator.\\n    def class_method(cls, value):\\n        # Class methods do not have direct access to instance attributes\\n        return value\\n    \\nprint(MyClass.static_method('Static methods do not have access to instance or class attributes'))\\nprint(MyClass.class_method('Class methods do not have direct access to instance attributes'))\", \"class MyClass: #class definition.\\n\\n    def __init__(self, value): #class constructor.\\n        self.attribute = value #class attribute.\\n\\n    @staticmethod #static method decorator.\\n    def static_method(value):\\n        # Static methods do not have access to instance or class attributes\\n        return value\\n\\n    @classmethod #class method decorator.\\n    def class_method(cls, value):\\n        # Class methods do not have direct access to instance attributes\\n        return value\\n    \\n# Creating an instance of MyClass\\nobj = MyClass('initial value')\\n\\n# Using the static method\\nprint(MyClass.static_method('static value'))  # Output: 'static value'\\n\\n# Using the class method\\nprint(MyClass.class_method('class value'))  # Output: 'class value'\", '# list comprehension \\nexample = [x for x in range(10)] # quick list creation.\\nprint(example)\\n\\n# dictionary comprehension\\nexample = {x: x*x for x in range(10)} # quick dictionary creation.\\nprint(example)\\n\\n# set comprehension\\nexample = {x for x in \"hello\"} # quick set creation.\\nprint(example)\\n\\n# generator expression \\nexample = (x for x in range(10)) #creating generators.\\nprint(example)', 'import threading #threading module.\\n\\nthread = threading.Thread(target=function) #creating a new thread.\\n\\nimport asyncio #asyncio for asynchronous programming.\\n\\nawait asyncio.sleep(1) #asynchronous wait.', 'import threading #threading module.\\n\\ndef my_function():\\n    print(\"my_function\")\\n\\nthread = threading.Thread(target=my_function) #creating a new thread.\\n\\nimport asyncio #asyncio for asynchronous programming.\\n\\nawait asyncio.sleep(1) #asynchronous wait.', 'import threading #threading module.\\n\\nasync def my_function():\\n    print(\"my_function\")\\n\\nthread = threading.Thread(target=my_function) #creating a new thread.\\n\\nimport asyncio #asyncio for asynchronous programming.\\n\\nawait asyncio.sleep(1) #asynchronous wait.', 'import json #JSON handling module.\\n\\njson.loads(\\'{\"name\": \"John\"}\\') #JSON deserialization.\\n\\njson.dumps({\"name\": \"John\"}) #JSON serialization.\\n\\n# requests.get(url).json() #getting JSON from an API.', 'import json #JSON handling module.\\n\\ndata = {\"name\": \"John\"}\\n\\nprint(type(data))\\n\\njson.loads(\\'{\"name\": \"John\"}\\') #JSON deserialization.\\n\\njson.dumps({\"name\": \"John\"}) #JSON serialization.\\n\\n# requests.get(url).json() #getting JSON from an API.', 'import json #JSON handling module.\\n\\ndata = {\"name\": \"John\"}\\nprint(type(data))\\n\\ndata = json.loads(\\'{\"name\": \"John\"}\\') #JSON deserialization.\\nprint(type(data))\\n\\ndata = json.dumps({\"name\": \"John\"}) #JSON serialization.\\nprint(type(data))\\n\\n# requests.get(url).json() #getting JSON from an API.', 'import json #JSON handling module.\\n\\ndata = {\"name\": \"John\"}\\nprint(type(data))\\n\\ndata = json.dumps(data) #JSON serialization.\\nprint(type(data))\\n\\ndata = json.loads(data) #JSON deserialization.\\nprint(type(data))\\n\\n# requests.get(url).json() #getting JSON from an API.', 'def my_decorator(func): #creating a decorator.\\n\\n@my_decorator #applying a decorator to a function.', 'example = list([1, 2, 3]) #creates a new list.\\nprint(example)\\n\\nexample.append(4) #adds an item to a list.\\nexample.append(5) #adds an item to a list.\\nprint(example)\\n\\nexample.pop(1) #removes an item from a list.\\nprint(example)', 'def function_name(x): #defines a function.\\n    print(x)\\n\\nfunction_name= lambda a : a + 10\\nprint(function_name(5))', 'num_1 = -13\\nnum_2 = -13.7\\n\\nprint(abs(num_1))\\nprint(abs(num_2))', 'mylist = [True, True, True]\\n\\nprint(all(mylist))', 'mylist = [True, True, True]\\n\\nprint(all(mylist))\\nprint(all([-1, 0, 1, 2 ,3]))', 'mylist = [True, True, True]\\n\\nprint(all(mylist))\\nprint(all([-1, 0, 1, 2 ,3]))\\nprint(all([1, 2 ,3]))', \"mylist = [True, True, True]\\n\\nprint(all(mylist))\\nprint(all([-1, 0, 1, 2 ,3]))\\nprint(all([1, 2 ,3]))\\nprint(all(['a', 'b']))\\nprint(all(['', 'a', 'b']))\", \"print(all([True, True, True]))\\nprint(all([False, True, True]))\\n\\nprint(all([-1, 0, 1, 2 ,3]))\\nprint(all([1, 2 ,3]))\\n\\nprint(all(['a', 'b']))\\nprint(all(['', 'a', 'b']))\", \"print(all([True, True, True]))\\nprint(all([False, True, True]))\\n\\nprint(all([1, 2 ,3]))\\nprint(all([-1, 0, 1, 2 ,3]))\\n\\nprint(all(['a', 'b']))\\nprint(all(['', 'a', 'b']))\", \"print(all([True, True, True]))\\nprint(all([False, True, True]))\\n\\nprint(all([1, 2 ,3]))\\nprint(all([-1, 0, 1, 2 ,3]))\\n\\nprint(all(['a', 'b']))\\nprint(all(['', 'a', 'b']))\\n\\nprint(all([[], []]))\", \"print(all([True, True, True]))\\nprint(all([False, True, True]))\\n\\nprint(all([1, 2 ,3]))\\nprint(all([-1, 0, 1, 2 ,3]))\\n\\nprint(all(['a', 'b']))\\nprint(all(['', 'a', 'b']))\\n\\nprint(all([[1], [2]]))\\nprint(all([[], []]))\", \"print(all([True, True, True]))\\nprint(all([False, True, True]))\\n\\nprint(all([1, 2 ,3]))\\nprint(all([-1, 0, 1, 2 ,3]))\\n\\nprint(all(['a', 'b']))\\nprint(all(['', 'a', 'b']))\\n\\nprint(all([[1], [2]]))\\nprint(all([[], []]))\", 'print(all([True, True, True]))\\nprint(all([False, True, True]))\\n\\nprint(all([1, 2 ,3]))\\nprint(all([-1, 0, 1, 2 ,3]))\\n\\nprint(all([\\'a\\', \\'b\\']))\\nprint(all([\\'\\', \\'a\\', \\'b\\']))\\n\\nprint(all([[1], [2]]))\\nprint(all([[], []]))\\n\\nprint(all({0 : \"Apple\", 1 : \"Orange\"}))', 'print(all([True, True, True]))\\nprint(all([False, True, True]))\\n\\nprint(all([1, 2 ,3]))\\nprint(all([-1, 0, 1, 2 ,3]))\\n\\nprint(all([\\'a\\', \\'b\\']))\\nprint(all([\\'\\', \\'a\\', \\'b\\']))\\n\\nprint(all([[1], [2]]))\\nprint(all([[], []]))\\n\\nprint(all({0 : \"Apple\", 1 : \"Orange\"}))\\nprint(all({\"a\" : \"Apple\", \"b\" : \"Orange\"}))', 'print(all([True, True, True]))\\nprint(all([False, True, True]))\\n\\nprint(all([1, 2 ,3]))\\nprint(all([-1, 0, 1, 2 ,3]))\\n\\nprint(all([\\'a\\', \\'b\\']))\\nprint(all([\\'\\', \\'a\\', \\'b\\']))\\n\\nprint(all([[1], [2]]))\\nprint(all([[], []]))\\n\\nprint(all({\"a\" : \"Apple\", \"b\" : \"Orange\"}))\\nprint(all({0 : \"Apple\", 1 : \"Orange\"}))', 'print(all([True, True, True]))\\nprint(all([False, True, True]))\\n\\nprint(all([1, 2 ,3]))\\nprint(all([-1, 0, 1, 2 ,3]))\\n\\nprint(all([\\'a\\', \\'b\\']))\\nprint(all([\\'\\', \\'a\\', \\'b\\']))\\n\\nprint(all([[1], [2]]))\\nprint(all([[], []]))\\n\\nprint(all({\"a\" : \"Apple\", \"b\" : \"Orange\"}))\\nprint(all({0 : \"Apple\", 1 : \"Orange\"}))', 'print(any([True, True, True]))\\nprint(any([False, True, True]))\\n\\nprint(any([1, 2 ,3]))\\nprint(any([-1, 0, 1, 2 ,3]))\\n\\nprint(any([\\'a\\', \\'b\\']))\\nprint(any([\\'\\', \\'a\\', \\'b\\']))\\n\\nprint(any([[1], [2]]))\\nprint(any([[], []]))\\n\\nprint(any({\"a\" : \"Apple\", \"b\" : \"Orange\"}))\\nprint(any({0 : \"Apple\", 1 : \"Orange\"}))', 'print(any([False, False, True]))\\nprint(any([False, False, False]))\\n\\nprint(any([1, 2 ,3]))\\nprint(any([-1, 0, 1, 2 ,3]))\\n\\nprint(any([\\'a\\', \\'b\\']))\\nprint(any([\\'\\', \\'a\\', \\'b\\']))\\n\\nprint(any([[1], [2]]))\\nprint(any([[], []]))\\n\\nprint(any({\"a\" : \"Apple\", \"b\" : \"Orange\"}))\\nprint(any({0 : \"Apple\", 1 : \"Orange\"}))', 'print(any([False, False, True]))\\nprint(any([False, False, False]))\\n\\nprint(any([1, 2 ,3]))\\nprint(any([-1, 0, 0, 0 ,0]))\\n\\nprint(any([\\'a\\', \\'b\\']))\\nprint(any([\\'\\', \\'a\\', \\'b\\']))\\n\\nprint(any([[1], [2]]))\\nprint(any([[], []]))\\n\\nprint(any({\"a\" : \"Apple\", \"b\" : \"Orange\"}))\\nprint(any({0 : \"Apple\", 1 : \"Orange\"}))', 'print(any([False, False, True]))\\nprint(any([False, False, False]))\\n\\nprint(any([1, 2 ,3]))\\nprint(any([0, 0, 0,]))\\n\\nprint(any([\\'a\\', \\'b\\']))\\nprint(any([\\'\\', \\'a\\', \\'b\\']))\\n\\nprint(any([[1], [2]]))\\nprint(any([[], []]))\\n\\nprint(any({\"a\" : \"Apple\", \"b\" : \"Orange\"}))\\nprint(any({0 : \"Apple\", 1 : \"Orange\"}))', 'print(any([False, False, True]))\\nprint(any([False, False, False]))\\n\\nprint(any([1, 2 ,3]))\\nprint(any([0, 0, 0,]))\\n\\nprint(any([\\'a\\', \\'b\\']))\\nprint(any([\\'\\', \\' \\', \\'  \\']))\\n\\nprint(any([[1], [2]]))\\nprint(any([[], []]))\\n\\nprint(any({\"a\" : \"Apple\", \"b\" : \"Orange\"}))\\nprint(any({0 : \"Apple\", 1 : \"Orange\"}))', 'print(any([False, False, True]))\\nprint(any([False, False, False]))\\n\\nprint(any([1, 2 ,3]))\\nprint(any([0, 0, 0,]))\\n\\nprint(any([\\'a\\', \\'b\\']))\\nprint(any([\\'\\', \\' \\', \\'\\']))\\n\\nprint(any([[1], [2]]))\\nprint(any([[], []]))\\n\\nprint(any({\"a\" : \"Apple\", \"b\" : \"Orange\"}))\\nprint(any({0 : \"Apple\", 1 : \"Orange\"}))', 'print(any([False, False, True]))\\nprint(any([False, False, False]))\\n\\nprint(any([1, 2 ,3]))\\nprint(any([0, 0, 0,]))\\n\\nprint(any([\\'a\\', \\'b\\']))\\nprint(any([\\'\\', \\'\\', \\'\\']))\\n\\nprint(any([[1], [2]]))\\nprint(any([[], []]))\\n\\nprint(any({\"a\" : \"Apple\", \"b\" : \"Orange\"}))\\nprint(any({0 : \"Apple\", 1 : \"Orange\"}))', 'print(any([False, False, True]))\\nprint(any([False, False, False]))\\n\\nprint(any([1, 2 ,3]))\\nprint(any([0, 0, 0,]))\\n\\nprint(any([\\'a\\', \\'b\\']))\\nprint(any([\\'\\', \\'\\', \\'\\']))\\n\\nprint(any([[1], [2]]))\\nprint(any([[], []]))\\n\\nprint(any({\"a\" : \"Apple\", \"b\" : \"Orange\"}))\\nprint(any({0 : \"Apple\", \"\" : \"Orange\"}))', 'print(ascii(\"My name is Ståle\"))', \"print(bool(1))\\nprint(bool(''))\\nprint(bool([]))\\nprint(bool([0]))\\nprint(bool('text'))\", \"print(bool(1))\\nprint(bool(''))\\nprint(bool([]))\\nprint(bool([0]))\\nprint(bool({0: 'text'}))\", \"print(bool(1))\\nprint(bool(''))\\nprint(bool([]))\\nprint(bool([0]))\\nprint(bool({0: ''}))\", 'print(callable(1))', 'print(callable(1))\\n\\ndef test(a): a * 1\\nprint(callable(test))\\n\\ntest = lambda a : a\\nprint(callable(test))', 'print(callable(1))\\n\\ndef test(a): a * 1\\nprint(callable(test))\\n\\ntest = lambda a : a\\nprint(callable(test))', 'print(callable(1))\\n\\ndef test(a): a * 1\\nprint(callable(test))\\n\\ntest = lambda a : a\\nprint(callable(test))\\n\\nprint(callable([]))', 'print(callable(1))\\nprint(callable([]))\\nprint(callable({\"a\": 2}))\\n\\ndef test(a): a * 1\\nprint(callable(test))\\n\\ntest = lambda a : a\\nprint(callable(test))', 'class Person:\\n  name = \"John\"\\n  age = 36\\n  country = \"Norway\"\\n\\nprint(dir(Person))', 'class Person:\\n  name = \"John\"\\n  age = 36\\n  country = \"Norway\"\\n\\nperson = {\\n  \"name\": \"John\",\\n  \"age\": 36,\\n  \"country\": \"Norway\"\\n}\\n\\nprint(dir(Person))\\nprint(dir(person))', 'class PersonClass:\\n  name = \"John\"\\n  age = 36\\n  country = \"Norway\"\\n\\npersonDictionary = {\\n  \"name\": \"John\",\\n  \"age\": 36,\\n  \"country\": \"Norway\"\\n}\\n\\nprint(dir(PersonClass))\\nprint(dir(personDictionary))', 'class PersonClass:\\n  name = \"John\"\\n  age = 36\\n  country = \"Norway\"\\n\\npersonDictionary = {\\n  \"name\": \"John\",\\n  \"age\": 36,\\n  \"country\": \"Norway\"\\n}\\n\\nprint(dir(PersonClass))\\nprint(dir(personDictionary))\\nprint(dir([]))', 'class PersonClass:\\n  name = \"John\"\\n  age = 36\\n  country = \"Norway\"\\n\\npersonDictionary = {\\n  \"name\": \"John\",\\n  \"age\": 36,\\n  \"country\": \"Norway\"\\n}\\n\\nprint(dir(PersonClass))\\nprint(dir(personDictionary))\\nprint(dir([]))\\nprint(dir(2))', 'class PersonClass:\\n  name = \"John\"\\n  age = 36\\n  country = \"Norway\"\\n\\npersonDictionary = {\\n  \"name\": \"John\",\\n  \"age\": 36,\\n  \"country\": \"Norway\"\\n}\\n\\nprint(dir(PersonClass))\\nprint(dir(personDictionary))\\nprint(dir([]))\\nprint(dir(2))\\nprint(dir(\\'str\\'))', \"x = ('apple', 'banana', 'cherry')\\ny = enumerate(x)\\n\\nprint(y)\", \"x = ('apple', 'banana', 'cherry')\\ny = enumerate(x)\\n\\nprint(y)\\nprint(list(y))\", \"x = ('apple', 'banana', 'cherry')\\ny = enumerate(x)\\n\\nprint(y)\\nprint(type(y))\\nprint(list(y))\", \"x = ('apple', 'banana', 'cherry')\\ny = enumerate(x)\\n\\nprint(x)\\nprint(y)\\nprint(list(y))\", \"print(eval('print(55)'))\", \"eval('print(55)')\", \"eval('print(55)')\\neval('[3, 2, 1].sort()')\\neval('print(55)')\\neval('print(55)')\", \"eval('print(55)')\\neval('[3, 2, 1]')\\neval('print(55)')\\neval('print(55)')\", \"eval('print(55)')\\nprint(eval('[3, 2, 1]'))\\nprint(eval('print(55)'))\\neval('print(55)')\", \"eval('print(55)')\\nprint(eval('[3, 2, 1].sort()'))\\nprint(eval('print(55)'))\\neval('print(55)')\", \"eval('print(55)')\\nprint(eval('[3, 2, 1]'))\\nprint(eval('bool(0)'))\\neval('print(55)')\", \"eval('print(55)')\\nprint(eval('[3, 2, 1]'))\\nprint(eval('bool(0)'))\\nprint(eval('bool(1)'))\", \"eval('print(55)')\\nprint(eval('[3, 2, 1]'))\\nprint(eval('bool(0)'))\\nprint(eval('bool(1)'))\\nprint(eval('bool(1)sdsds'))\", \"eval('print(55)')\\nprint(eval('[3, 2, 1]'))\\nprint(eval('bool(0)'))\\nprint(eval('bool(1)'))\\ntry:\\n    print(eval('bool(1)sdsds'))\\nexcept e:\\n    print(e)\", 'eval(\\'print(55)\\')\\nprint(eval(\\'[3, 2, 1]\\'))\\nprint(eval(\\'bool(0)\\'))\\nprint(eval(\\'bool(1)\\'))\\ntry:\\n    print(eval(\\'bool(1)sdsds\\'))\\nexcept:\\n    print(\"Error\")', 'filter_fn = lambda x: x != 2\\nfilter(filter_fn, [1, 2, 3, 4, 5, 6, 2, 3,2, 4])', 'filter_fn = lambda x: x != 2\\nprint(filter(filter_fn, [1, 2, 3, 4, 5, 6, 2, 3,2, 4]))', 'filter_fn = lambda x: x != 2\\nprint(list(filter(filter_fn, [1, 2, 3, 4, 5, 6, 2, 3,2, 4])))', \"print(float(3))\\nprint(float('3'))\\nprint(float('3.123'))\", \"format(0.5, '%')\", \"print(format(0.5, '%'))\", \"print(format(0.5, '%'))\\nprint(format(0.5, 'g'))\", \"print(format(0.5, '%'))\\nprint(format(0.5, 'g'))\\nprint(format(0.5, '<'))\", \"print(format(0.5, '%'))\\nprint(format(0.5, 'g'))\\nprint(format(0.5, '<'))\\nprint(format(0.5, '+'))\", \"print(format(0.5, '%'))\\nprint(format(0.5, 'g'))\\nprint(format(0.5, '<'))\\nprint(format(0.5, '+'))\\nprint(format(0.5, '-'))\", \"print(format(0.5, '%'))\\nprint(format(0.5, 'g'))\\nprint(format(0.5, '<'))\\nprint(format(0.5, '+'))\\nprint(format(-0.5, '-'))\", \"print(format(0.5, '%'))\\nprint(format(0.5, 'g'))\\nprint(format(0.5, '<'))\\nprint(format(0.5, '+'))\\nprint(format(-0.5, '+'))\", \"print(format(0.5, '%'))\\nprint(format(0.5, 'g'))\\nprint(format(0.5, '<'))\\nprint(format(0.5, '+'))\\nprint(format(-0.5, '+'))\\nprint(format(-0.5, 'b'))\", \"print(format(0.5, '%'))\\nprint(format(0.5, 'g'))\\nprint(format(0.5, '<'))\\nprint(format(0.5, '+'))\\nprint(format(-0.5, '+'))\\nprint(format(5, 'b'))\", \"print(format(0.5, '%'))\\nprint(format(0.5, 'g'))\\nprint(format(0.5, '<'))\\nprint(format(0.5, '+'))\\nprint(format(-0.5, '+'))\\nprint(format(5, 'b'))\\nprint(format(5, 'd'))\", \"print(format(0.5, '%'))\\nprint(format(0.5, 'g'))\\nprint(format(0.5, '<'))\\nprint(format(0.5, '+'))\\nprint(format(-0.5, '+'))\\nprint(format(5, 'b'))\\nprint(format(5, 'd'))\\nprint(format('5', 'n'))\", \"print(format(0.5, '%'))\\nprint(format(0.5, 'g'))\\nprint(format(0.5, '<'))\\nprint(format(0.5, '+'))\\nprint(format(-0.5, '+'))\\nprint(format(5, 'b'))\\nprint(format(5, 'd'))\\nprint(format(5, 'n'))\", \"mylist = ['apple', 'banana', 'cherry']\\nprint(frozenset(mylist))\", \"mylist = ['1', '1', '2']\\nprint(frozenset(mylist))\", 'class Person:\\n  name = \"John\"\\n  age = 36\\n  country = \"Norway\"\\n\\nprint(getattr(Person, \\'age\\'))', 'class Person:\\n  name = \"John\"\\n  age = 36\\n  country = \"Norway\"\\n\\nprint(getattr(Person, \\'name\\'))\\nprint(getattr(Person, \\'age\\'))\\nprint(getattr(Person, \\'invalid\\'))', 'class Person:\\n  name = \"John\"\\n  age = 36\\n  country = \"Norway\"\\n\\nprint(getattr(Person, \\'name\\'))\\nprint(getattr(Person, \\'age\\'))\\nprint(getattr(Person, \\'invalid\\', \\'missing attribute\\'))', 'class Person:\\n  name = \"John\"\\n  age = 36\\n  country = \"Norway\"\\n\\nprint(getattr(Person, \\'name\\'))\\nprint(getattr(Person, \\'age\\'))\\nprint(getattr(Person, \\'invalid\\', \\'Error: missing attribute\\'))', 'print(globals())'], '_oh': {1: dict_keys([]), 5: 2, 6: 2, 16: {}, 17: [1, 3, 4, 5], 18: {1, 2, 3, 4}, 20: (1, 2, 3, 4, 5), 21: (1, 2, 3, 4, 5), 23: (1, 2, 3, 4, 5), 24: (1, 2, 3, 4, 5), 25: (1, 2, 3, 4, 5), 26: (1, 2, 3, 3, 4, 5), 27: (1, 1, 1, 2, 3, 4, 5), 29: (1, 1, 1, 2, 3, 4, 5), 30: {'test': 10}, 31: {'test': 10}, 32: {'test': 10}, 57: '{\"name\": \"John\"}', 58: '{\"name\": \"John\"}', 116: <filter object at 0x000001A294E95AE0>, 120: '50.000000%'}, '_dh': [WindowsPath('c:/Boyko Boev/Python-with-Django/python_documentation')], 'In': ['', 'dictionary = dict() #creates a new dictionary.\\n\\ndictionary.keys() #returns the keys of a dictionary.', 'list() #creates a new list.\\n\\nlist.append(1) #adds an item to a list.\\n\\nlist.pop(1) #removes an item from a list.', 'array = list() #creates a new list.\\n\\narray .append(1) #adds an item to a list.\\n\\narray .pop(1) #removes an item from a list.', 'array = list() #creates a new list.\\n\\narray.append(1) #adds an item to a list.\\n\\narray.pop(1) #removes an item from a list.', 'array = list() #creates a new list.\\n\\narray.append(1) #adds an item to a list.\\narray.append(2) #adds an item to a list.\\n\\narray.pop(1) #removes an item from a list.', 'array = list([1, 2, 3]) #creates a new list.\\n\\narray.append(1) #adds an item to a list.\\narray.append(2) #adds an item to a list.\\n\\narray.pop(1) #removes an item from a list.', 'array = list([1, 2, 3]) #creates a new list.\\n\\narray.append(1) #adds an item to a list.\\narray.append(2) #adds an item to a list.\\n\\narray.pop(1) #removes an item from a list.\\n\\nprint(list)', 'array = list([1, 2, 3]) #creates a new list.\\n\\narray.append(1) #adds an item to a list.\\narray.append(2) #adds an item to a list.\\n\\narray.pop(1) #removes an item from a list.\\n\\nprint(array)', 'array = list([1, 2, 3]) #creates a new list.\\n\\narray.append(4) #adds an item to a list.\\narray.append(5) #adds an item to a list.\\n\\narray.pop(1) #removes an item from a list.\\n\\nprint(array)', 'example = set() #creates a new set.\\n\\nexample.add(2) #adds an item to a set.\\n\\nprint(example)', 'example = set() #creates a new set.\\n\\nexample.add(2) #adds an item to a set.\\nexample.add(2)\\n\\nprint(example)', 'example = set(1) #creates a new set.\\n\\nexample.add(2) #adds an item to a set.\\nexample.add(2)\\n\\nprint(example)', 'example = set([1, 2, 3]) #creates a new set.\\n\\nexample.add(4) #adds an item to a set.\\nexample.add(4)\\n\\nprint(example)', 'example = set([1, 1 , 2, 3]) #creates a new set.\\n\\nexample.add(4) #adds an item to a set.\\nexample.add(4)\\n\\nprint(example)', 'dictionary = dict() #creates a new dictionary.\\n\\ndictionary.keys() #returns the keys of a dictionary.\\n\\nprint(dictionary)', 'dictionary = dict() #creates a new dictionary.\\n\\ndictionary.keys() #returns the keys of a dictionary.\\n\\nprint(dictionary)\\ndictionary', 'array = list([1, 2, 3]) #creates a new list.\\n\\narray.append(4) #adds an item to a list.\\narray.append(5) #adds an item to a list.\\n\\narray.pop(1) #removes an item from a list.\\n\\nprint(array)\\narray', 'example = set([1, 1 , 2, 3]) #creates a new set.\\n\\nexample.add(4) #adds an item to a set.\\nexample.add(4)\\n\\nprint(example)\\nexample', 'example = tuple([1, 2, 3, 4, 5]) #creates a new tuple.', 'example = tuple([1, 2, 3, 4, 5]) #creates a new tuple.\\n\\nexample', 'example = tuple([1, 2, 3, 4, 5]) #creates a new tuple.\\n\\nprint(example.count)\\n\\nexample', 'example = tuple([1, 2, 3, 4, 5]) #creates a new tuple.\\n\\nprint(example.count())\\n\\nexample', 'example = tuple([1, 2, 3, 4, 5]) #creates a new tuple.\\n\\nprint(example.count(2))\\n\\nexample', 'example = tuple([1, 2, 3, 4, 5]) #creates a new tuple.\\n\\nprint(example.count(2))\\nprint(example.index)\\n\\nexample', 'example = tuple([1, 2, 3, 4, 5]) #creates a new tuple.\\n\\nprint(example.count(2))\\nprint(example.index(2))\\n\\nexample', 'example = tuple([1, 2, 3, 3, 4, 5]) #creates a new tuple.\\n\\nprint(example.count(3))\\nprint(example.index(3))\\n\\nexample', 'example = tuple([1, 1, 1, 2, 3, 4, 5]) #creates a new tuple.\\n\\nprint(example.count(1))\\nprint(example.index(1))\\n\\nexample', 'example = tuple([1, 1, 1, 2, 3, 4, 5]) #creates a new tuple.\\n\\nprint(example.count(1))\\nprint(example.index(1))\\n\\nprint(example.count(10))\\nprint(example.index(10))\\n\\nexample', 'example = tuple([1, 1, 1, 2, 3, 4, 5]) #creates a new tuple.\\n\\nprint(example.count(1))\\nprint(example.index(1))\\n\\nprint(example.count(10))\\n# print(example.index(10)) # Error\\n\\nexample', 'example = dict({\"test\": 10}) #creates a new dictionary.\\n\\nexample.keys() #returns the keys of a dictionary.\\n\\nprint(example)\\nexample', 'example = dict({\"test\": 10}) #creates a new dictionary.\\n\\nprint(example.keys()) #returns the keys of a dictionary.\\n\\nprint(example)\\nexample', 'example = dict({\"test\": 10}) #creates a new dictionary.\\n\\nprint(example.keys()) #returns the keys of a dictionary.\\nprint(example.values())\\nprint(example.items())\\n\\nprint(example)\\nexample', 'while condition: do_something() #while loop.\\nbreak #exits from a loop.\\n\\ncontinue #skips to the next iteration of a loop.\\n\\ntry: do_something() except: handle_error() #exception handling.', 'def function_name(parameters): #defines a function.\\n\\nlambda x: x * x #anonymous (lambda) function.\\n\\nglobal variable #global variable.\\n\\nnonlocal variable #nonlocal variable in nested functions.', 'import pandas #imports a module.\\n\\nimport numpy as pd #imports a module with an alias.\\n\\nfrom math import floor #imports a specific function from a module.', 'import pandas #imports a module.\\n\\nimport numpy as pd #imports a module with an alias.\\n\\nfrom math import floor #imports a specific function from a module.', 'import pandas #imports a module.\\n\\nimport numpy as pd #imports a module with an alias.\\n\\nfrom math import floor #imports a specific function from a module.', 'open(\"test.txt\") #opens a file.\\n\\nfile.read() #reads the content of a file.\\n\\nfile.write(\"Hello\") #writes to a file.\\n\\nfile.close() #closes a file.\\n\\nwith open(\"file.txt\") as file: #context management for files.\\n    print(\"file\")', 'file = open(\"test.txt\") #opens a file.\\n\\nfile.read() #reads the content of a file.\\n\\nfile.write(\"Hello\") #writes to a file.\\n\\nfile.close() #closes a file.\\n\\nwith open(\"file.txt\") as file: #context management for files.\\n    print(\"file\")', 'file = open(\"test.txt\") #opens a file.\\n\\nfile.read() #reads the content of a file.\\n\\nfile.write(\"Hello\") #writes to a file.\\n\\nfile.close() #closes a file.\\n\\nwith open(\"file.txt\") as file: #context management for files.\\n    print(\"file\")', 'file = open(\"test.txt\", \"rw\") #opens a file.\\n\\nfile.read() #reads the content of a file.\\n\\nfile.write(\"Hello\") #writes to a file.\\n\\nfile.close() #closes a file.\\n\\nwith open(\"file.txt\") as file: #context management for files.\\n    print(\"file\")', 'file = open(\"test.txt\", \"w\") #opens a file.\\n\\nfile.read() #reads the content of a file.\\n\\nfile.write(\"Hello\") #writes to a file.\\n\\nfile.close() #closes a file.\\n\\nwith open(\"file.txt\") as file: #context management for files.\\n    print(\"file\")', 'file = open(\"test.txt\", \"r\") #opens a file.\\nfile.read() #reads the content of a file.\\n\\nfile = open(\"test.txt\", \"w\") #opens a file.\\nfile.write(\"Hello\") #writes to a file.\\n\\nfile.close() #closes a file.\\n\\nwith open(\"file.txt\") as file: #context management for files.\\n    print(\"file\")', 'file = open(\"test.txt\", \"r\") #opens a file.\\nfile.read() #reads the content of a file.\\n\\nfile = open(\"test.txt\", \"w\") #opens a file.\\nfile.write(\"Hello\") #writes to a file.\\n\\nfile.close() #closes a file.\\n\\n# with open(\"file.txt\") as file: #context management for files.\\n#     print(\"file\")', '#converts to uppercase.\\nprint(\"Hello\".upper() )\\n\\n#converts to lowercase.\\nprint(\"Hello\".lower() )\\n\\n#replaces characters in a string.\\nprint(\"Hello\".replace(\"H\", \"J\") )\\n\\n#splits a string into a list.\\nprint(\"Hello\".split(\"e\") )\\n\\n#joins a list into a string.\\nprint(\",\".join([\"a\", \"b\", \"c\"]) )', '#converts to uppercase.\\nprint(\"Hello\".upper() )\\n\\n#converts to lowercase.\\nprint(\"Hello\".lower() )\\n\\n#replaces characters in a string.\\nprint(\"Hello\".replace(\"l\", \"J\") )\\n\\n#splits a string into a list.\\nprint(\"Hello\".split(\"e\") )\\n\\n#joins a list into a string.\\nprint(\", \".join([\"a\", \"b\", \"c\"]) )', '#absolute value.\\nprint(abs(-123))\\n\\n#rounds a number.\\nprint(round(123.456, 2))\\n\\n#exponentiation.\\nprint(pow(2, 3))\\n\\n#sums the elements of a list.\\nprint(sum([1, 2, 3]))', \"#datetime module.\\nimport datetime\\n\\n#current date and time.\\nprint(datetime.datetime.now())\\n\\n#today's date.\\nprint(datetime.date.today())\\n\\n#time difference.\\nprint(datetime.timedelta(days=1))\", 'class MyClass: #class definition.\\n\\n    def __init__(self, value): #class constructor.\\n        self.attribute = value #class attribute.\\n\\n    @staticmethod #static method decorator.\\n    def static_method(value):\\n        # Static methods do not have access to instance or class attributes\\n        return value\\n\\n    @classmethod #class method decorator.\\n    def class_method(cls, value):\\n        # Class methods do not have direct access to instance attributes\\n        return value', \"class MyClass: #class definition.\\n\\n    def __init__(self, value): #class constructor.\\n        self.attribute = value #class attribute.\\n\\n    @staticmethod #static method decorator.\\n    def static_method(value):\\n        # Static methods do not have access to instance or class attributes\\n        return value\\n\\n    @classmethod #class method decorator.\\n    def class_method(cls, value):\\n        # Class methods do not have direct access to instance attributes\\n        return value\\n    \\nprint(MyClass.static_method('example value'))\\nprint(MyClass.class_method('example value'))\", \"class MyClass: #class definition.\\n\\n    def __init__(self, value): #class constructor.\\n        self.attribute = value #class attribute.\\n\\n    @staticmethod #static method decorator.\\n    def static_method(value):\\n        # Static methods do not have access to instance or class attributes\\n        return value\\n\\n    @classmethod #class method decorator.\\n    def class_method(cls, value):\\n        # Class methods do not have direct access to instance attributes\\n        return value\\n    \\nprint(MyClass.static_method('Static methods do not have access to instance or class attributes'))\\nprint(MyClass.class_method('Class methods do not have direct access to instance attributes'))\", \"class MyClass: #class definition.\\n\\n    def __init__(self, value): #class constructor.\\n        self.attribute = value #class attribute.\\n\\n    @staticmethod #static method decorator.\\n    def static_method(value):\\n        # Static methods do not have access to instance or class attributes\\n        return value\\n\\n    @classmethod #class method decorator.\\n    def class_method(cls, value):\\n        # Class methods do not have direct access to instance attributes\\n        return value\\n    \\n# Creating an instance of MyClass\\nobj = MyClass('initial value')\\n\\n# Using the static method\\nprint(MyClass.static_method('static value'))  # Output: 'static value'\\n\\n# Using the class method\\nprint(MyClass.class_method('class value'))  # Output: 'class value'\", '# list comprehension \\nexample = [x for x in range(10)] # quick list creation.\\nprint(example)\\n\\n# dictionary comprehension\\nexample = {x: x*x for x in range(10)} # quick dictionary creation.\\nprint(example)\\n\\n# set comprehension\\nexample = {x for x in \"hello\"} # quick set creation.\\nprint(example)\\n\\n# generator expression \\nexample = (x for x in range(10)) #creating generators.\\nprint(example)', 'import threading #threading module.\\n\\nthread = threading.Thread(target=function) #creating a new thread.\\n\\nimport asyncio #asyncio for asynchronous programming.\\n\\nawait asyncio.sleep(1) #asynchronous wait.', 'import threading #threading module.\\n\\ndef my_function():\\n    print(\"my_function\")\\n\\nthread = threading.Thread(target=my_function) #creating a new thread.\\n\\nimport asyncio #asyncio for asynchronous programming.\\n\\nawait asyncio.sleep(1) #asynchronous wait.', 'import threading #threading module.\\n\\nasync def my_function():\\n    print(\"my_function\")\\n\\nthread = threading.Thread(target=my_function) #creating a new thread.\\n\\nimport asyncio #asyncio for asynchronous programming.\\n\\nawait asyncio.sleep(1) #asynchronous wait.', 'import json #JSON handling module.\\n\\njson.loads(\\'{\"name\": \"John\"}\\') #JSON deserialization.\\n\\njson.dumps({\"name\": \"John\"}) #JSON serialization.\\n\\n# requests.get(url).json() #getting JSON from an API.', 'import json #JSON handling module.\\n\\ndata = {\"name\": \"John\"}\\n\\nprint(type(data))\\n\\njson.loads(\\'{\"name\": \"John\"}\\') #JSON deserialization.\\n\\njson.dumps({\"name\": \"John\"}) #JSON serialization.\\n\\n# requests.get(url).json() #getting JSON from an API.', 'import json #JSON handling module.\\n\\ndata = {\"name\": \"John\"}\\nprint(type(data))\\n\\ndata = json.loads(\\'{\"name\": \"John\"}\\') #JSON deserialization.\\nprint(type(data))\\n\\ndata = json.dumps({\"name\": \"John\"}) #JSON serialization.\\nprint(type(data))\\n\\n# requests.get(url).json() #getting JSON from an API.', 'import json #JSON handling module.\\n\\ndata = {\"name\": \"John\"}\\nprint(type(data))\\n\\ndata = json.dumps(data) #JSON serialization.\\nprint(type(data))\\n\\ndata = json.loads(data) #JSON deserialization.\\nprint(type(data))\\n\\n# requests.get(url).json() #getting JSON from an API.', 'def my_decorator(func): #creating a decorator.\\n\\n@my_decorator #applying a decorator to a function.', 'example = list([1, 2, 3]) #creates a new list.\\nprint(example)\\n\\nexample.append(4) #adds an item to a list.\\nexample.append(5) #adds an item to a list.\\nprint(example)\\n\\nexample.pop(1) #removes an item from a list.\\nprint(example)', 'def function_name(x): #defines a function.\\n    print(x)\\n\\nfunction_name= lambda a : a + 10\\nprint(function_name(5))', 'num_1 = -13\\nnum_2 = -13.7\\n\\nprint(abs(num_1))\\nprint(abs(num_2))', 'mylist = [True, True, True]\\n\\nprint(all(mylist))', 'mylist = [True, True, True]\\n\\nprint(all(mylist))\\nprint(all([-1, 0, 1, 2 ,3]))', 'mylist = [True, True, True]\\n\\nprint(all(mylist))\\nprint(all([-1, 0, 1, 2 ,3]))\\nprint(all([1, 2 ,3]))', \"mylist = [True, True, True]\\n\\nprint(all(mylist))\\nprint(all([-1, 0, 1, 2 ,3]))\\nprint(all([1, 2 ,3]))\\nprint(all(['a', 'b']))\\nprint(all(['', 'a', 'b']))\", \"print(all([True, True, True]))\\nprint(all([False, True, True]))\\n\\nprint(all([-1, 0, 1, 2 ,3]))\\nprint(all([1, 2 ,3]))\\n\\nprint(all(['a', 'b']))\\nprint(all(['', 'a', 'b']))\", \"print(all([True, True, True]))\\nprint(all([False, True, True]))\\n\\nprint(all([1, 2 ,3]))\\nprint(all([-1, 0, 1, 2 ,3]))\\n\\nprint(all(['a', 'b']))\\nprint(all(['', 'a', 'b']))\", \"print(all([True, True, True]))\\nprint(all([False, True, True]))\\n\\nprint(all([1, 2 ,3]))\\nprint(all([-1, 0, 1, 2 ,3]))\\n\\nprint(all(['a', 'b']))\\nprint(all(['', 'a', 'b']))\\n\\nprint(all([[], []]))\", \"print(all([True, True, True]))\\nprint(all([False, True, True]))\\n\\nprint(all([1, 2 ,3]))\\nprint(all([-1, 0, 1, 2 ,3]))\\n\\nprint(all(['a', 'b']))\\nprint(all(['', 'a', 'b']))\\n\\nprint(all([[1], [2]]))\\nprint(all([[], []]))\", \"print(all([True, True, True]))\\nprint(all([False, True, True]))\\n\\nprint(all([1, 2 ,3]))\\nprint(all([-1, 0, 1, 2 ,3]))\\n\\nprint(all(['a', 'b']))\\nprint(all(['', 'a', 'b']))\\n\\nprint(all([[1], [2]]))\\nprint(all([[], []]))\", 'print(all([True, True, True]))\\nprint(all([False, True, True]))\\n\\nprint(all([1, 2 ,3]))\\nprint(all([-1, 0, 1, 2 ,3]))\\n\\nprint(all([\\'a\\', \\'b\\']))\\nprint(all([\\'\\', \\'a\\', \\'b\\']))\\n\\nprint(all([[1], [2]]))\\nprint(all([[], []]))\\n\\nprint(all({0 : \"Apple\", 1 : \"Orange\"}))', 'print(all([True, True, True]))\\nprint(all([False, True, True]))\\n\\nprint(all([1, 2 ,3]))\\nprint(all([-1, 0, 1, 2 ,3]))\\n\\nprint(all([\\'a\\', \\'b\\']))\\nprint(all([\\'\\', \\'a\\', \\'b\\']))\\n\\nprint(all([[1], [2]]))\\nprint(all([[], []]))\\n\\nprint(all({0 : \"Apple\", 1 : \"Orange\"}))\\nprint(all({\"a\" : \"Apple\", \"b\" : \"Orange\"}))', 'print(all([True, True, True]))\\nprint(all([False, True, True]))\\n\\nprint(all([1, 2 ,3]))\\nprint(all([-1, 0, 1, 2 ,3]))\\n\\nprint(all([\\'a\\', \\'b\\']))\\nprint(all([\\'\\', \\'a\\', \\'b\\']))\\n\\nprint(all([[1], [2]]))\\nprint(all([[], []]))\\n\\nprint(all({\"a\" : \"Apple\", \"b\" : \"Orange\"}))\\nprint(all({0 : \"Apple\", 1 : \"Orange\"}))', 'print(all([True, True, True]))\\nprint(all([False, True, True]))\\n\\nprint(all([1, 2 ,3]))\\nprint(all([-1, 0, 1, 2 ,3]))\\n\\nprint(all([\\'a\\', \\'b\\']))\\nprint(all([\\'\\', \\'a\\', \\'b\\']))\\n\\nprint(all([[1], [2]]))\\nprint(all([[], []]))\\n\\nprint(all({\"a\" : \"Apple\", \"b\" : \"Orange\"}))\\nprint(all({0 : \"Apple\", 1 : \"Orange\"}))', 'print(any([True, True, True]))\\nprint(any([False, True, True]))\\n\\nprint(any([1, 2 ,3]))\\nprint(any([-1, 0, 1, 2 ,3]))\\n\\nprint(any([\\'a\\', \\'b\\']))\\nprint(any([\\'\\', \\'a\\', \\'b\\']))\\n\\nprint(any([[1], [2]]))\\nprint(any([[], []]))\\n\\nprint(any({\"a\" : \"Apple\", \"b\" : \"Orange\"}))\\nprint(any({0 : \"Apple\", 1 : \"Orange\"}))', 'print(any([False, False, True]))\\nprint(any([False, False, False]))\\n\\nprint(any([1, 2 ,3]))\\nprint(any([-1, 0, 1, 2 ,3]))\\n\\nprint(any([\\'a\\', \\'b\\']))\\nprint(any([\\'\\', \\'a\\', \\'b\\']))\\n\\nprint(any([[1], [2]]))\\nprint(any([[], []]))\\n\\nprint(any({\"a\" : \"Apple\", \"b\" : \"Orange\"}))\\nprint(any({0 : \"Apple\", 1 : \"Orange\"}))', 'print(any([False, False, True]))\\nprint(any([False, False, False]))\\n\\nprint(any([1, 2 ,3]))\\nprint(any([-1, 0, 0, 0 ,0]))\\n\\nprint(any([\\'a\\', \\'b\\']))\\nprint(any([\\'\\', \\'a\\', \\'b\\']))\\n\\nprint(any([[1], [2]]))\\nprint(any([[], []]))\\n\\nprint(any({\"a\" : \"Apple\", \"b\" : \"Orange\"}))\\nprint(any({0 : \"Apple\", 1 : \"Orange\"}))', 'print(any([False, False, True]))\\nprint(any([False, False, False]))\\n\\nprint(any([1, 2 ,3]))\\nprint(any([0, 0, 0,]))\\n\\nprint(any([\\'a\\', \\'b\\']))\\nprint(any([\\'\\', \\'a\\', \\'b\\']))\\n\\nprint(any([[1], [2]]))\\nprint(any([[], []]))\\n\\nprint(any({\"a\" : \"Apple\", \"b\" : \"Orange\"}))\\nprint(any({0 : \"Apple\", 1 : \"Orange\"}))', 'print(any([False, False, True]))\\nprint(any([False, False, False]))\\n\\nprint(any([1, 2 ,3]))\\nprint(any([0, 0, 0,]))\\n\\nprint(any([\\'a\\', \\'b\\']))\\nprint(any([\\'\\', \\' \\', \\'  \\']))\\n\\nprint(any([[1], [2]]))\\nprint(any([[], []]))\\n\\nprint(any({\"a\" : \"Apple\", \"b\" : \"Orange\"}))\\nprint(any({0 : \"Apple\", 1 : \"Orange\"}))', 'print(any([False, False, True]))\\nprint(any([False, False, False]))\\n\\nprint(any([1, 2 ,3]))\\nprint(any([0, 0, 0,]))\\n\\nprint(any([\\'a\\', \\'b\\']))\\nprint(any([\\'\\', \\' \\', \\'\\']))\\n\\nprint(any([[1], [2]]))\\nprint(any([[], []]))\\n\\nprint(any({\"a\" : \"Apple\", \"b\" : \"Orange\"}))\\nprint(any({0 : \"Apple\", 1 : \"Orange\"}))', 'print(any([False, False, True]))\\nprint(any([False, False, False]))\\n\\nprint(any([1, 2 ,3]))\\nprint(any([0, 0, 0,]))\\n\\nprint(any([\\'a\\', \\'b\\']))\\nprint(any([\\'\\', \\'\\', \\'\\']))\\n\\nprint(any([[1], [2]]))\\nprint(any([[], []]))\\n\\nprint(any({\"a\" : \"Apple\", \"b\" : \"Orange\"}))\\nprint(any({0 : \"Apple\", 1 : \"Orange\"}))', 'print(any([False, False, True]))\\nprint(any([False, False, False]))\\n\\nprint(any([1, 2 ,3]))\\nprint(any([0, 0, 0,]))\\n\\nprint(any([\\'a\\', \\'b\\']))\\nprint(any([\\'\\', \\'\\', \\'\\']))\\n\\nprint(any([[1], [2]]))\\nprint(any([[], []]))\\n\\nprint(any({\"a\" : \"Apple\", \"b\" : \"Orange\"}))\\nprint(any({0 : \"Apple\", \"\" : \"Orange\"}))', 'print(ascii(\"My name is Ståle\"))', \"print(bool(1))\\nprint(bool(''))\\nprint(bool([]))\\nprint(bool([0]))\\nprint(bool('text'))\", \"print(bool(1))\\nprint(bool(''))\\nprint(bool([]))\\nprint(bool([0]))\\nprint(bool({0: 'text'}))\", \"print(bool(1))\\nprint(bool(''))\\nprint(bool([]))\\nprint(bool([0]))\\nprint(bool({0: ''}))\", 'print(callable(1))', 'print(callable(1))\\n\\ndef test(a): a * 1\\nprint(callable(test))\\n\\ntest = lambda a : a\\nprint(callable(test))', 'print(callable(1))\\n\\ndef test(a): a * 1\\nprint(callable(test))\\n\\ntest = lambda a : a\\nprint(callable(test))', 'print(callable(1))\\n\\ndef test(a): a * 1\\nprint(callable(test))\\n\\ntest = lambda a : a\\nprint(callable(test))\\n\\nprint(callable([]))', 'print(callable(1))\\nprint(callable([]))\\nprint(callable({\"a\": 2}))\\n\\ndef test(a): a * 1\\nprint(callable(test))\\n\\ntest = lambda a : a\\nprint(callable(test))', 'class Person:\\n  name = \"John\"\\n  age = 36\\n  country = \"Norway\"\\n\\nprint(dir(Person))', 'class Person:\\n  name = \"John\"\\n  age = 36\\n  country = \"Norway\"\\n\\nperson = {\\n  \"name\": \"John\",\\n  \"age\": 36,\\n  \"country\": \"Norway\"\\n}\\n\\nprint(dir(Person))\\nprint(dir(person))', 'class PersonClass:\\n  name = \"John\"\\n  age = 36\\n  country = \"Norway\"\\n\\npersonDictionary = {\\n  \"name\": \"John\",\\n  \"age\": 36,\\n  \"country\": \"Norway\"\\n}\\n\\nprint(dir(PersonClass))\\nprint(dir(personDictionary))', 'class PersonClass:\\n  name = \"John\"\\n  age = 36\\n  country = \"Norway\"\\n\\npersonDictionary = {\\n  \"name\": \"John\",\\n  \"age\": 36,\\n  \"country\": \"Norway\"\\n}\\n\\nprint(dir(PersonClass))\\nprint(dir(personDictionary))\\nprint(dir([]))', 'class PersonClass:\\n  name = \"John\"\\n  age = 36\\n  country = \"Norway\"\\n\\npersonDictionary = {\\n  \"name\": \"John\",\\n  \"age\": 36,\\n  \"country\": \"Norway\"\\n}\\n\\nprint(dir(PersonClass))\\nprint(dir(personDictionary))\\nprint(dir([]))\\nprint(dir(2))', 'class PersonClass:\\n  name = \"John\"\\n  age = 36\\n  country = \"Norway\"\\n\\npersonDictionary = {\\n  \"name\": \"John\",\\n  \"age\": 36,\\n  \"country\": \"Norway\"\\n}\\n\\nprint(dir(PersonClass))\\nprint(dir(personDictionary))\\nprint(dir([]))\\nprint(dir(2))\\nprint(dir(\\'str\\'))', \"x = ('apple', 'banana', 'cherry')\\ny = enumerate(x)\\n\\nprint(y)\", \"x = ('apple', 'banana', 'cherry')\\ny = enumerate(x)\\n\\nprint(y)\\nprint(list(y))\", \"x = ('apple', 'banana', 'cherry')\\ny = enumerate(x)\\n\\nprint(y)\\nprint(type(y))\\nprint(list(y))\", \"x = ('apple', 'banana', 'cherry')\\ny = enumerate(x)\\n\\nprint(x)\\nprint(y)\\nprint(list(y))\", \"print(eval('print(55)'))\", \"eval('print(55)')\", \"eval('print(55)')\\neval('[3, 2, 1].sort()')\\neval('print(55)')\\neval('print(55)')\", \"eval('print(55)')\\neval('[3, 2, 1]')\\neval('print(55)')\\neval('print(55)')\", \"eval('print(55)')\\nprint(eval('[3, 2, 1]'))\\nprint(eval('print(55)'))\\neval('print(55)')\", \"eval('print(55)')\\nprint(eval('[3, 2, 1].sort()'))\\nprint(eval('print(55)'))\\neval('print(55)')\", \"eval('print(55)')\\nprint(eval('[3, 2, 1]'))\\nprint(eval('bool(0)'))\\neval('print(55)')\", \"eval('print(55)')\\nprint(eval('[3, 2, 1]'))\\nprint(eval('bool(0)'))\\nprint(eval('bool(1)'))\", \"eval('print(55)')\\nprint(eval('[3, 2, 1]'))\\nprint(eval('bool(0)'))\\nprint(eval('bool(1)'))\\nprint(eval('bool(1)sdsds'))\", \"eval('print(55)')\\nprint(eval('[3, 2, 1]'))\\nprint(eval('bool(0)'))\\nprint(eval('bool(1)'))\\ntry:\\n    print(eval('bool(1)sdsds'))\\nexcept e:\\n    print(e)\", 'eval(\\'print(55)\\')\\nprint(eval(\\'[3, 2, 1]\\'))\\nprint(eval(\\'bool(0)\\'))\\nprint(eval(\\'bool(1)\\'))\\ntry:\\n    print(eval(\\'bool(1)sdsds\\'))\\nexcept:\\n    print(\"Error\")', 'filter_fn = lambda x: x != 2\\nfilter(filter_fn, [1, 2, 3, 4, 5, 6, 2, 3,2, 4])', 'filter_fn = lambda x: x != 2\\nprint(filter(filter_fn, [1, 2, 3, 4, 5, 6, 2, 3,2, 4]))', 'filter_fn = lambda x: x != 2\\nprint(list(filter(filter_fn, [1, 2, 3, 4, 5, 6, 2, 3,2, 4])))', \"print(float(3))\\nprint(float('3'))\\nprint(float('3.123'))\", \"format(0.5, '%')\", \"print(format(0.5, '%'))\", \"print(format(0.5, '%'))\\nprint(format(0.5, 'g'))\", \"print(format(0.5, '%'))\\nprint(format(0.5, 'g'))\\nprint(format(0.5, '<'))\", \"print(format(0.5, '%'))\\nprint(format(0.5, 'g'))\\nprint(format(0.5, '<'))\\nprint(format(0.5, '+'))\", \"print(format(0.5, '%'))\\nprint(format(0.5, 'g'))\\nprint(format(0.5, '<'))\\nprint(format(0.5, '+'))\\nprint(format(0.5, '-'))\", \"print(format(0.5, '%'))\\nprint(format(0.5, 'g'))\\nprint(format(0.5, '<'))\\nprint(format(0.5, '+'))\\nprint(format(-0.5, '-'))\", \"print(format(0.5, '%'))\\nprint(format(0.5, 'g'))\\nprint(format(0.5, '<'))\\nprint(format(0.5, '+'))\\nprint(format(-0.5, '+'))\", \"print(format(0.5, '%'))\\nprint(format(0.5, 'g'))\\nprint(format(0.5, '<'))\\nprint(format(0.5, '+'))\\nprint(format(-0.5, '+'))\\nprint(format(-0.5, 'b'))\", \"print(format(0.5, '%'))\\nprint(format(0.5, 'g'))\\nprint(format(0.5, '<'))\\nprint(format(0.5, '+'))\\nprint(format(-0.5, '+'))\\nprint(format(5, 'b'))\", \"print(format(0.5, '%'))\\nprint(format(0.5, 'g'))\\nprint(format(0.5, '<'))\\nprint(format(0.5, '+'))\\nprint(format(-0.5, '+'))\\nprint(format(5, 'b'))\\nprint(format(5, 'd'))\", \"print(format(0.5, '%'))\\nprint(format(0.5, 'g'))\\nprint(format(0.5, '<'))\\nprint(format(0.5, '+'))\\nprint(format(-0.5, '+'))\\nprint(format(5, 'b'))\\nprint(format(5, 'd'))\\nprint(format('5', 'n'))\", \"print(format(0.5, '%'))\\nprint(format(0.5, 'g'))\\nprint(format(0.5, '<'))\\nprint(format(0.5, '+'))\\nprint(format(-0.5, '+'))\\nprint(format(5, 'b'))\\nprint(format(5, 'd'))\\nprint(format(5, 'n'))\", \"mylist = ['apple', 'banana', 'cherry']\\nprint(frozenset(mylist))\", \"mylist = ['1', '1', '2']\\nprint(frozenset(mylist))\", 'class Person:\\n  name = \"John\"\\n  age = 36\\n  country = \"Norway\"\\n\\nprint(getattr(Person, \\'age\\'))', 'class Person:\\n  name = \"John\"\\n  age = 36\\n  country = \"Norway\"\\n\\nprint(getattr(Person, \\'name\\'))\\nprint(getattr(Person, \\'age\\'))\\nprint(getattr(Person, \\'invalid\\'))', 'class Person:\\n  name = \"John\"\\n  age = 36\\n  country = \"Norway\"\\n\\nprint(getattr(Person, \\'name\\'))\\nprint(getattr(Person, \\'age\\'))\\nprint(getattr(Person, \\'invalid\\', \\'missing attribute\\'))', 'class Person:\\n  name = \"John\"\\n  age = 36\\n  country = \"Norway\"\\n\\nprint(getattr(Person, \\'name\\'))\\nprint(getattr(Person, \\'age\\'))\\nprint(getattr(Person, \\'invalid\\', \\'Error: missing attribute\\'))', 'print(globals())'], 'Out': {1: dict_keys([]), 5: 2, 6: 2, 16: {}, 17: [1, 3, 4, 5], 18: {1, 2, 3, 4}, 20: (1, 2, 3, 4, 5), 21: (1, 2, 3, 4, 5), 23: (1, 2, 3, 4, 5), 24: (1, 2, 3, 4, 5), 25: (1, 2, 3, 4, 5), 26: (1, 2, 3, 3, 4, 5), 27: (1, 1, 1, 2, 3, 4, 5), 29: (1, 1, 1, 2, 3, 4, 5), 30: {'test': 10}, 31: {'test': 10}, 32: {'test': 10}, 57: '{\"name\": \"John\"}', 58: '{\"name\": \"John\"}', 116: <filter object at 0x000001A294E95AE0>, 120: '50.000000%'}, 'get_ipython': <bound method InteractiveShell.get_ipython of <ipykernel.zmqshell.ZMQInteractiveShell object at 0x000001A2894C8750>>, 'exit': <IPython.core.autocall.ZMQExitAutocall object at 0x000001A2894D51D0>, 'quit': <IPython.core.autocall.ZMQExitAutocall object at 0x000001A2894D51D0>, 'open': <function open at 0x000001A2875E0C20>, '_': '50.000000%', '__': <filter object at 0x000001A294E95AE0>, '___': '{\"name\": \"John\"}', '__vsc_ipynb_file__': 'c:\\\\Boyko Boev\\\\Python-with-Django\\\\python_documentation\\\\python.ipynb', '_i': 'class Person:\\n  name = \"John\"\\n  age = 36\\n  country = \"Norway\"\\n\\nprint(getattr(Person, \\'name\\'))\\nprint(getattr(Person, \\'age\\'))\\nprint(getattr(Person, \\'invalid\\', \\'Error: missing attribute\\'))', '_ii': 'class Person:\\n  name = \"John\"\\n  age = 36\\n  country = \"Norway\"\\n\\nprint(getattr(Person, \\'name\\'))\\nprint(getattr(Person, \\'age\\'))\\nprint(getattr(Person, \\'invalid\\', \\'missing attribute\\'))', '_iii': 'class Person:\\n  name = \"John\"\\n  age = 36\\n  country = \"Norway\"\\n\\nprint(getattr(Person, \\'name\\'))\\nprint(getattr(Person, \\'age\\'))\\nprint(getattr(Person, \\'invalid\\'))', '_i1': 'dictionary = dict() #creates a new dictionary.\\n\\ndictionary.keys() #returns the keys of a dictionary.', 'dictionary': {}, '_1': dict_keys([]), '_i2': 'list() #creates a new list.\\n\\nlist.append(1) #adds an item to a list.\\n\\nlist.pop(1) #removes an item from a list.', '_i3': 'array = list() #creates a new list.\\n\\narray .append(1) #adds an item to a list.\\n\\narray .pop(1) #removes an item from a list.', 'array': [1, 3, 4, 5], '_i4': 'array = list() #creates a new list.\\n\\narray.append(1) #adds an item to a list.\\n\\narray.pop(1) #removes an item from a list.', '_i5': 'array = list() #creates a new list.\\n\\narray.append(1) #adds an item to a list.\\narray.append(2) #adds an item to a list.\\n\\narray.pop(1) #removes an item from a list.', '_5': 2, '_i6': 'array = list([1, 2, 3]) #creates a new list.\\n\\narray.append(1) #adds an item to a list.\\narray.append(2) #adds an item to a list.\\n\\narray.pop(1) #removes an item from a list.', '_6': 2, '_i7': 'array = list([1, 2, 3]) #creates a new list.\\n\\narray.append(1) #adds an item to a list.\\narray.append(2) #adds an item to a list.\\n\\narray.pop(1) #removes an item from a list.\\n\\nprint(list)', '_i8': 'array = list([1, 2, 3]) #creates a new list.\\n\\narray.append(1) #adds an item to a list.\\narray.append(2) #adds an item to a list.\\n\\narray.pop(1) #removes an item from a list.\\n\\nprint(array)', '_i9': 'array = list([1, 2, 3]) #creates a new list.\\n\\narray.append(4) #adds an item to a list.\\narray.append(5) #adds an item to a list.\\n\\narray.pop(1) #removes an item from a list.\\n\\nprint(array)', '_i10': 'example = set() #creates a new set.\\n\\nexample.add(2) #adds an item to a set.\\n\\nprint(example)', 'example': [1, 3, 4, 5], '_i11': 'example = set() #creates a new set.\\n\\nexample.add(2) #adds an item to a set.\\nexample.add(2)\\n\\nprint(example)', '_i12': 'example = set(1) #creates a new set.\\n\\nexample.add(2) #adds an item to a set.\\nexample.add(2)\\n\\nprint(example)', '_i13': 'example = set([1, 2, 3]) #creates a new set.\\n\\nexample.add(4) #adds an item to a set.\\nexample.add(4)\\n\\nprint(example)', '_i14': 'example = set([1, 1 , 2, 3]) #creates a new set.\\n\\nexample.add(4) #adds an item to a set.\\nexample.add(4)\\n\\nprint(example)', '_i15': 'dictionary = dict() #creates a new dictionary.\\n\\ndictionary.keys() #returns the keys of a dictionary.\\n\\nprint(dictionary)', '_i16': 'dictionary = dict() #creates a new dictionary.\\n\\ndictionary.keys() #returns the keys of a dictionary.\\n\\nprint(dictionary)\\ndictionary', '_16': {}, '_i17': 'array = list([1, 2, 3]) #creates a new list.\\n\\narray.append(4) #adds an item to a list.\\narray.append(5) #adds an item to a list.\\n\\narray.pop(1) #removes an item from a list.\\n\\nprint(array)\\narray', '_17': [1, 3, 4, 5], '_i18': 'example = set([1, 1 , 2, 3]) #creates a new set.\\n\\nexample.add(4) #adds an item to a set.\\nexample.add(4)\\n\\nprint(example)\\nexample', '_18': {1, 2, 3, 4}, '_i19': 'example = tuple([1, 2, 3, 4, 5]) #creates a new tuple.', '_i20': 'example = tuple([1, 2, 3, 4, 5]) #creates a new tuple.\\n\\nexample', '_20': (1, 2, 3, 4, 5), '_i21': 'example = tuple([1, 2, 3, 4, 5]) #creates a new tuple.\\n\\nprint(example.count)\\n\\nexample', '_21': (1, 2, 3, 4, 5), '_i22': 'example = tuple([1, 2, 3, 4, 5]) #creates a new tuple.\\n\\nprint(example.count())\\n\\nexample', '_i23': 'example = tuple([1, 2, 3, 4, 5]) #creates a new tuple.\\n\\nprint(example.count(2))\\n\\nexample', '_23': (1, 2, 3, 4, 5), '_i24': 'example = tuple([1, 2, 3, 4, 5]) #creates a new tuple.\\n\\nprint(example.count(2))\\nprint(example.index)\\n\\nexample', '_24': (1, 2, 3, 4, 5), '_i25': 'example = tuple([1, 2, 3, 4, 5]) #creates a new tuple.\\n\\nprint(example.count(2))\\nprint(example.index(2))\\n\\nexample', '_25': (1, 2, 3, 4, 5), '_i26': 'example = tuple([1, 2, 3, 3, 4, 5]) #creates a new tuple.\\n\\nprint(example.count(3))\\nprint(example.index(3))\\n\\nexample', '_26': (1, 2, 3, 3, 4, 5), '_i27': 'example = tuple([1, 1, 1, 2, 3, 4, 5]) #creates a new tuple.\\n\\nprint(example.count(1))\\nprint(example.index(1))\\n\\nexample', '_27': (1, 1, 1, 2, 3, 4, 5), '_i28': 'example = tuple([1, 1, 1, 2, 3, 4, 5]) #creates a new tuple.\\n\\nprint(example.count(1))\\nprint(example.index(1))\\n\\nprint(example.count(10))\\nprint(example.index(10))\\n\\nexample', '_i29': 'example = tuple([1, 1, 1, 2, 3, 4, 5]) #creates a new tuple.\\n\\nprint(example.count(1))\\nprint(example.index(1))\\n\\nprint(example.count(10))\\n# print(example.index(10)) # Error\\n\\nexample', '_29': (1, 1, 1, 2, 3, 4, 5), '_i30': 'example = dict({\"test\": 10}) #creates a new dictionary.\\n\\nexample.keys() #returns the keys of a dictionary.\\n\\nprint(example)\\nexample', '_30': {'test': 10}, '_i31': 'example = dict({\"test\": 10}) #creates a new dictionary.\\n\\nprint(example.keys()) #returns the keys of a dictionary.\\n\\nprint(example)\\nexample', '_31': {'test': 10}, '_i32': 'example = dict({\"test\": 10}) #creates a new dictionary.\\n\\nprint(example.keys()) #returns the keys of a dictionary.\\nprint(example.values())\\nprint(example.items())\\n\\nprint(example)\\nexample', '_32': {'test': 10}, '_i33': 'while condition: do_something() #while loop.\\nbreak #exits from a loop.\\n\\ncontinue #skips to the next iteration of a loop.\\n\\ntry: do_something() except: handle_error() #exception handling.', '_i34': 'def function_name(parameters): #defines a function.\\n\\nlambda x: x * x #anonymous (lambda) function.\\n\\nglobal variable #global variable.\\n\\nnonlocal variable #nonlocal variable in nested functions.', '_i35': 'import pandas #imports a module.\\n\\nimport numpy as pd #imports a module with an alias.\\n\\nfrom math import floor #imports a specific function from a module.', '_i36': 'import pandas #imports a module.\\n\\nimport numpy as pd #imports a module with an alias.\\n\\nfrom math import floor #imports a specific function from a module.', 'pandas': <module 'pandas' from 'c:\\\\Boyko Boev\\\\Python-with-Django\\\\.venv\\\\Lib\\\\site-packages\\\\pandas\\\\__init__.py'>, 'pd': <module 'numpy' from 'c:\\\\Boyko Boev\\\\Python-with-Django\\\\.venv\\\\Lib\\\\site-packages\\\\numpy\\\\__init__.py'>, 'floor': <built-in function floor>, '_i37': 'import pandas #imports a module.\\n\\nimport numpy as pd #imports a module with an alias.\\n\\nfrom math import floor #imports a specific function from a module.', '_i38': 'open(\"test.txt\") #opens a file.\\n\\nfile.read() #reads the content of a file.\\n\\nfile.write(\"Hello\") #writes to a file.\\n\\nfile.close() #closes a file.\\n\\nwith open(\"file.txt\") as file: #context management for files.\\n    print(\"file\")', '_i39': 'file = open(\"test.txt\") #opens a file.\\n\\nfile.read() #reads the content of a file.\\n\\nfile.write(\"Hello\") #writes to a file.\\n\\nfile.close() #closes a file.\\n\\nwith open(\"file.txt\") as file: #context management for files.\\n    print(\"file\")', '_i40': 'file = open(\"test.txt\") #opens a file.\\n\\nfile.read() #reads the content of a file.\\n\\nfile.write(\"Hello\") #writes to a file.\\n\\nfile.close() #closes a file.\\n\\nwith open(\"file.txt\") as file: #context management for files.\\n    print(\"file\")', 'file': <_io.TextIOWrapper name='test.txt' mode='w' encoding='cp1252'>, '_i41': 'file = open(\"test.txt\", \"rw\") #opens a file.\\n\\nfile.read() #reads the content of a file.\\n\\nfile.write(\"Hello\") #writes to a file.\\n\\nfile.close() #closes a file.\\n\\nwith open(\"file.txt\") as file: #context management for files.\\n    print(\"file\")', '_i42': 'file = open(\"test.txt\", \"w\") #opens a file.\\n\\nfile.read() #reads the content of a file.\\n\\nfile.write(\"Hello\") #writes to a file.\\n\\nfile.close() #closes a file.\\n\\nwith open(\"file.txt\") as file: #context management for files.\\n    print(\"file\")', '_i43': 'file = open(\"test.txt\", \"r\") #opens a file.\\nfile.read() #reads the content of a file.\\n\\nfile = open(\"test.txt\", \"w\") #opens a file.\\nfile.write(\"Hello\") #writes to a file.\\n\\nfile.close() #closes a file.\\n\\nwith open(\"file.txt\") as file: #context management for files.\\n    print(\"file\")', '_i44': 'file = open(\"test.txt\", \"r\") #opens a file.\\nfile.read() #reads the content of a file.\\n\\nfile = open(\"test.txt\", \"w\") #opens a file.\\nfile.write(\"Hello\") #writes to a file.\\n\\nfile.close() #closes a file.\\n\\n# with open(\"file.txt\") as file: #context management for files.\\n#     print(\"file\")', '_i45': '#converts to uppercase.\\nprint(\"Hello\".upper() )\\n\\n#converts to lowercase.\\nprint(\"Hello\".lower() )\\n\\n#replaces characters in a string.\\nprint(\"Hello\".replace(\"H\", \"J\") )\\n\\n#splits a string into a list.\\nprint(\"Hello\".split(\"e\") )\\n\\n#joins a list into a string.\\nprint(\",\".join([\"a\", \"b\", \"c\"]) )', '_i46': '#converts to uppercase.\\nprint(\"Hello\".upper() )\\n\\n#converts to lowercase.\\nprint(\"Hello\".lower() )\\n\\n#replaces characters in a string.\\nprint(\"Hello\".replace(\"l\", \"J\") )\\n\\n#splits a string into a list.\\nprint(\"Hello\".split(\"e\") )\\n\\n#joins a list into a string.\\nprint(\", \".join([\"a\", \"b\", \"c\"]) )', '_i47': '#absolute value.\\nprint(abs(-123))\\n\\n#rounds a number.\\nprint(round(123.456, 2))\\n\\n#exponentiation.\\nprint(pow(2, 3))\\n\\n#sums the elements of a list.\\nprint(sum([1, 2, 3]))', '_i48': \"#datetime module.\\nimport datetime\\n\\n#current date and time.\\nprint(datetime.datetime.now())\\n\\n#today's date.\\nprint(datetime.date.today())\\n\\n#time difference.\\nprint(datetime.timedelta(days=1))\", 'datetime': <module 'datetime' from 'C:\\\\Program Files\\\\Python311\\\\Lib\\\\datetime.py'>, '_i49': 'class MyClass: #class definition.\\n\\n    def __init__(self, value): #class constructor.\\n        self.attribute = value #class attribute.\\n\\n    @staticmethod #static method decorator.\\n    def static_method(value):\\n        # Static methods do not have access to instance or class attributes\\n        return value\\n\\n    @classmethod #class method decorator.\\n    def class_method(cls, value):\\n        # Class methods do not have direct access to instance attributes\\n        return value', 'MyClass': <class '__main__.MyClass'>, '_i50': \"class MyClass: #class definition.\\n\\n    def __init__(self, value): #class constructor.\\n        self.attribute = value #class attribute.\\n\\n    @staticmethod #static method decorator.\\n    def static_method(value):\\n        # Static methods do not have access to instance or class attributes\\n        return value\\n\\n    @classmethod #class method decorator.\\n    def class_method(cls, value):\\n        # Class methods do not have direct access to instance attributes\\n        return value\\n    \\nprint(MyClass.static_method('example value'))\\nprint(MyClass.class_method('example value'))\", '_i51': \"class MyClass: #class definition.\\n\\n    def __init__(self, value): #class constructor.\\n        self.attribute = value #class attribute.\\n\\n    @staticmethod #static method decorator.\\n    def static_method(value):\\n        # Static methods do not have access to instance or class attributes\\n        return value\\n\\n    @classmethod #class method decorator.\\n    def class_method(cls, value):\\n        # Class methods do not have direct access to instance attributes\\n        return value\\n    \\nprint(MyClass.static_method('Static methods do not have access to instance or class attributes'))\\nprint(MyClass.class_method('Class methods do not have direct access to instance attributes'))\", '_i52': \"class MyClass: #class definition.\\n\\n    def __init__(self, value): #class constructor.\\n        self.attribute = value #class attribute.\\n\\n    @staticmethod #static method decorator.\\n    def static_method(value):\\n        # Static methods do not have access to instance or class attributes\\n        return value\\n\\n    @classmethod #class method decorator.\\n    def class_method(cls, value):\\n        # Class methods do not have direct access to instance attributes\\n        return value\\n    \\n# Creating an instance of MyClass\\nobj = MyClass('initial value')\\n\\n# Using the static method\\nprint(MyClass.static_method('static value'))  # Output: 'static value'\\n\\n# Using the class method\\nprint(MyClass.class_method('class value'))  # Output: 'class value'\", 'obj': <__main__.MyClass object at 0x000001A294F0DA50>, '_i53': '# list comprehension \\nexample = [x for x in range(10)] # quick list creation.\\nprint(example)\\n\\n# dictionary comprehension\\nexample = {x: x*x for x in range(10)} # quick dictionary creation.\\nprint(example)\\n\\n# set comprehension\\nexample = {x for x in \"hello\"} # quick set creation.\\nprint(example)\\n\\n# generator expression \\nexample = (x for x in range(10)) #creating generators.\\nprint(example)', '_i54': 'import threading #threading module.\\n\\nthread = threading.Thread(target=function) #creating a new thread.\\n\\nimport asyncio #asyncio for asynchronous programming.\\n\\nawait asyncio.sleep(1) #asynchronous wait.', 'threading': <module 'threading' from 'C:\\\\Program Files\\\\Python311\\\\Lib\\\\threading.py'>, '_i55': 'import threading #threading module.\\n\\ndef my_function():\\n    print(\"my_function\")\\n\\nthread = threading.Thread(target=my_function) #creating a new thread.\\n\\nimport asyncio #asyncio for asynchronous programming.\\n\\nawait asyncio.sleep(1) #asynchronous wait.', 'my_function': <function my_function at 0x000001A294F51620>, 'thread': <Thread(Thread-112 (my_function), initial)>, 'asyncio': <module 'asyncio' from 'C:\\\\Program Files\\\\Python311\\\\Lib\\\\asyncio\\\\__init__.py'>, '_i56': 'import threading #threading module.\\n\\nasync def my_function():\\n    print(\"my_function\")\\n\\nthread = threading.Thread(target=my_function) #creating a new thread.\\n\\nimport asyncio #asyncio for asynchronous programming.\\n\\nawait asyncio.sleep(1) #asynchronous wait.', '_i57': 'import json #JSON handling module.\\n\\njson.loads(\\'{\"name\": \"John\"}\\') #JSON deserialization.\\n\\njson.dumps({\"name\": \"John\"}) #JSON serialization.\\n\\n# requests.get(url).json() #getting JSON from an API.', 'json': <module 'json' from 'C:\\\\Program Files\\\\Python311\\\\Lib\\\\json\\\\__init__.py'>, '_57': '{\"name\": \"John\"}', '_i58': 'import json #JSON handling module.\\n\\ndata = {\"name\": \"John\"}\\n\\nprint(type(data))\\n\\njson.loads(\\'{\"name\": \"John\"}\\') #JSON deserialization.\\n\\njson.dumps({\"name\": \"John\"}) #JSON serialization.\\n\\n# requests.get(url).json() #getting JSON from an API.', 'data': {'name': 'John'}, '_58': '{\"name\": \"John\"}', '_i59': 'import json #JSON handling module.\\n\\ndata = {\"name\": \"John\"}\\nprint(type(data))\\n\\ndata = json.loads(\\'{\"name\": \"John\"}\\') #JSON deserialization.\\nprint(type(data))\\n\\ndata = json.dumps({\"name\": \"John\"}) #JSON serialization.\\nprint(type(data))\\n\\n# requests.get(url).json() #getting JSON from an API.', '_i60': 'import json #JSON handling module.\\n\\ndata = {\"name\": \"John\"}\\nprint(type(data))\\n\\ndata = json.dumps(data) #JSON serialization.\\nprint(type(data))\\n\\ndata = json.loads(data) #JSON deserialization.\\nprint(type(data))\\n\\n# requests.get(url).json() #getting JSON from an API.', '_i61': 'def my_decorator(func): #creating a decorator.\\n\\n@my_decorator #applying a decorator to a function.', '_i62': 'example = list([1, 2, 3]) #creates a new list.\\nprint(example)\\n\\nexample.append(4) #adds an item to a list.\\nexample.append(5) #adds an item to a list.\\nprint(example)\\n\\nexample.pop(1) #removes an item from a list.\\nprint(example)', '_i63': 'def function_name(x): #defines a function.\\n    print(x)\\n\\nfunction_name= lambda a : a + 10\\nprint(function_name(5))', 'function_name': <function <lambda> at 0x000001A294F6E020>, '_i64': 'num_1 = -13\\nnum_2 = -13.7\\n\\nprint(abs(num_1))\\nprint(abs(num_2))', 'num_1': -13, 'num_2': -13.7, '_i65': 'mylist = [True, True, True]\\n\\nprint(all(mylist))', 'mylist': ['1', '1', '2'], '_i66': 'mylist = [True, True, True]\\n\\nprint(all(mylist))\\nprint(all([-1, 0, 1, 2 ,3]))', '_i67': 'mylist = [True, True, True]\\n\\nprint(all(mylist))\\nprint(all([-1, 0, 1, 2 ,3]))\\nprint(all([1, 2 ,3]))', '_i68': \"mylist = [True, True, True]\\n\\nprint(all(mylist))\\nprint(all([-1, 0, 1, 2 ,3]))\\nprint(all([1, 2 ,3]))\\nprint(all(['a', 'b']))\\nprint(all(['', 'a', 'b']))\", '_i69': \"print(all([True, True, True]))\\nprint(all([False, True, True]))\\n\\nprint(all([-1, 0, 1, 2 ,3]))\\nprint(all([1, 2 ,3]))\\n\\nprint(all(['a', 'b']))\\nprint(all(['', 'a', 'b']))\", '_i70': \"print(all([True, True, True]))\\nprint(all([False, True, True]))\\n\\nprint(all([1, 2 ,3]))\\nprint(all([-1, 0, 1, 2 ,3]))\\n\\nprint(all(['a', 'b']))\\nprint(all(['', 'a', 'b']))\", '_i71': \"print(all([True, True, True]))\\nprint(all([False, True, True]))\\n\\nprint(all([1, 2 ,3]))\\nprint(all([-1, 0, 1, 2 ,3]))\\n\\nprint(all(['a', 'b']))\\nprint(all(['', 'a', 'b']))\\n\\nprint(all([[], []]))\", '_i72': \"print(all([True, True, True]))\\nprint(all([False, True, True]))\\n\\nprint(all([1, 2 ,3]))\\nprint(all([-1, 0, 1, 2 ,3]))\\n\\nprint(all(['a', 'b']))\\nprint(all(['', 'a', 'b']))\\n\\nprint(all([[1], [2]]))\\nprint(all([[], []]))\", '_i73': \"print(all([True, True, True]))\\nprint(all([False, True, True]))\\n\\nprint(all([1, 2 ,3]))\\nprint(all([-1, 0, 1, 2 ,3]))\\n\\nprint(all(['a', 'b']))\\nprint(all(['', 'a', 'b']))\\n\\nprint(all([[1], [2]]))\\nprint(all([[], []]))\", '_i74': 'print(all([True, True, True]))\\nprint(all([False, True, True]))\\n\\nprint(all([1, 2 ,3]))\\nprint(all([-1, 0, 1, 2 ,3]))\\n\\nprint(all([\\'a\\', \\'b\\']))\\nprint(all([\\'\\', \\'a\\', \\'b\\']))\\n\\nprint(all([[1], [2]]))\\nprint(all([[], []]))\\n\\nprint(all({0 : \"Apple\", 1 : \"Orange\"}))', '_i75': 'print(all([True, True, True]))\\nprint(all([False, True, True]))\\n\\nprint(all([1, 2 ,3]))\\nprint(all([-1, 0, 1, 2 ,3]))\\n\\nprint(all([\\'a\\', \\'b\\']))\\nprint(all([\\'\\', \\'a\\', \\'b\\']))\\n\\nprint(all([[1], [2]]))\\nprint(all([[], []]))\\n\\nprint(all({0 : \"Apple\", 1 : \"Orange\"}))\\nprint(all({\"a\" : \"Apple\", \"b\" : \"Orange\"}))', '_i76': 'print(all([True, True, True]))\\nprint(all([False, True, True]))\\n\\nprint(all([1, 2 ,3]))\\nprint(all([-1, 0, 1, 2 ,3]))\\n\\nprint(all([\\'a\\', \\'b\\']))\\nprint(all([\\'\\', \\'a\\', \\'b\\']))\\n\\nprint(all([[1], [2]]))\\nprint(all([[], []]))\\n\\nprint(all({\"a\" : \"Apple\", \"b\" : \"Orange\"}))\\nprint(all({0 : \"Apple\", 1 : \"Orange\"}))', '_i77': 'print(all([True, True, True]))\\nprint(all([False, True, True]))\\n\\nprint(all([1, 2 ,3]))\\nprint(all([-1, 0, 1, 2 ,3]))\\n\\nprint(all([\\'a\\', \\'b\\']))\\nprint(all([\\'\\', \\'a\\', \\'b\\']))\\n\\nprint(all([[1], [2]]))\\nprint(all([[], []]))\\n\\nprint(all({\"a\" : \"Apple\", \"b\" : \"Orange\"}))\\nprint(all({0 : \"Apple\", 1 : \"Orange\"}))', '_i78': 'print(any([True, True, True]))\\nprint(any([False, True, True]))\\n\\nprint(any([1, 2 ,3]))\\nprint(any([-1, 0, 1, 2 ,3]))\\n\\nprint(any([\\'a\\', \\'b\\']))\\nprint(any([\\'\\', \\'a\\', \\'b\\']))\\n\\nprint(any([[1], [2]]))\\nprint(any([[], []]))\\n\\nprint(any({\"a\" : \"Apple\", \"b\" : \"Orange\"}))\\nprint(any({0 : \"Apple\", 1 : \"Orange\"}))', '_i79': 'print(any([False, False, True]))\\nprint(any([False, False, False]))\\n\\nprint(any([1, 2 ,3]))\\nprint(any([-1, 0, 1, 2 ,3]))\\n\\nprint(any([\\'a\\', \\'b\\']))\\nprint(any([\\'\\', \\'a\\', \\'b\\']))\\n\\nprint(any([[1], [2]]))\\nprint(any([[], []]))\\n\\nprint(any({\"a\" : \"Apple\", \"b\" : \"Orange\"}))\\nprint(any({0 : \"Apple\", 1 : \"Orange\"}))', '_i80': 'print(any([False, False, True]))\\nprint(any([False, False, False]))\\n\\nprint(any([1, 2 ,3]))\\nprint(any([-1, 0, 0, 0 ,0]))\\n\\nprint(any([\\'a\\', \\'b\\']))\\nprint(any([\\'\\', \\'a\\', \\'b\\']))\\n\\nprint(any([[1], [2]]))\\nprint(any([[], []]))\\n\\nprint(any({\"a\" : \"Apple\", \"b\" : \"Orange\"}))\\nprint(any({0 : \"Apple\", 1 : \"Orange\"}))', '_i81': 'print(any([False, False, True]))\\nprint(any([False, False, False]))\\n\\nprint(any([1, 2 ,3]))\\nprint(any([0, 0, 0,]))\\n\\nprint(any([\\'a\\', \\'b\\']))\\nprint(any([\\'\\', \\'a\\', \\'b\\']))\\n\\nprint(any([[1], [2]]))\\nprint(any([[], []]))\\n\\nprint(any({\"a\" : \"Apple\", \"b\" : \"Orange\"}))\\nprint(any({0 : \"Apple\", 1 : \"Orange\"}))', '_i82': 'print(any([False, False, True]))\\nprint(any([False, False, False]))\\n\\nprint(any([1, 2 ,3]))\\nprint(any([0, 0, 0,]))\\n\\nprint(any([\\'a\\', \\'b\\']))\\nprint(any([\\'\\', \\' \\', \\'  \\']))\\n\\nprint(any([[1], [2]]))\\nprint(any([[], []]))\\n\\nprint(any({\"a\" : \"Apple\", \"b\" : \"Orange\"}))\\nprint(any({0 : \"Apple\", 1 : \"Orange\"}))', '_i83': 'print(any([False, False, True]))\\nprint(any([False, False, False]))\\n\\nprint(any([1, 2 ,3]))\\nprint(any([0, 0, 0,]))\\n\\nprint(any([\\'a\\', \\'b\\']))\\nprint(any([\\'\\', \\' \\', \\'\\']))\\n\\nprint(any([[1], [2]]))\\nprint(any([[], []]))\\n\\nprint(any({\"a\" : \"Apple\", \"b\" : \"Orange\"}))\\nprint(any({0 : \"Apple\", 1 : \"Orange\"}))', '_i84': 'print(any([False, False, True]))\\nprint(any([False, False, False]))\\n\\nprint(any([1, 2 ,3]))\\nprint(any([0, 0, 0,]))\\n\\nprint(any([\\'a\\', \\'b\\']))\\nprint(any([\\'\\', \\'\\', \\'\\']))\\n\\nprint(any([[1], [2]]))\\nprint(any([[], []]))\\n\\nprint(any({\"a\" : \"Apple\", \"b\" : \"Orange\"}))\\nprint(any({0 : \"Apple\", 1 : \"Orange\"}))', '_i85': 'print(any([False, False, True]))\\nprint(any([False, False, False]))\\n\\nprint(any([1, 2 ,3]))\\nprint(any([0, 0, 0,]))\\n\\nprint(any([\\'a\\', \\'b\\']))\\nprint(any([\\'\\', \\'\\', \\'\\']))\\n\\nprint(any([[1], [2]]))\\nprint(any([[], []]))\\n\\nprint(any({\"a\" : \"Apple\", \"b\" : \"Orange\"}))\\nprint(any({0 : \"Apple\", \"\" : \"Orange\"}))', '_i86': 'print(ascii(\"My name is Ståle\"))', '_i87': \"print(bool(1))\\nprint(bool(''))\\nprint(bool([]))\\nprint(bool([0]))\\nprint(bool('text'))\", '_i88': \"print(bool(1))\\nprint(bool(''))\\nprint(bool([]))\\nprint(bool([0]))\\nprint(bool({0: 'text'}))\", '_i89': \"print(bool(1))\\nprint(bool(''))\\nprint(bool([]))\\nprint(bool([0]))\\nprint(bool({0: ''}))\", '_i90': 'print(callable(1))', '_i91': 'print(callable(1))\\n\\ndef test(a): a * 1\\nprint(callable(test))\\n\\ntest = lambda a : a\\nprint(callable(test))', 'test': <function <lambda> at 0x000001A294F2D9E0>, '_i92': 'print(callable(1))\\n\\ndef test(a): a * 1\\nprint(callable(test))\\n\\ntest = lambda a : a\\nprint(callable(test))', '_i93': 'print(callable(1))\\n\\ndef test(a): a * 1\\nprint(callable(test))\\n\\ntest = lambda a : a\\nprint(callable(test))\\n\\nprint(callable([]))', '_i94': 'print(callable(1))\\nprint(callable([]))\\nprint(callable({\"a\": 2}))\\n\\ndef test(a): a * 1\\nprint(callable(test))\\n\\ntest = lambda a : a\\nprint(callable(test))', '_i95': 'class Person:\\n  name = \"John\"\\n  age = 36\\n  country = \"Norway\"\\n\\nprint(dir(Person))', 'Person': <class '__main__.Person'>, '_i96': 'class Person:\\n  name = \"John\"\\n  age = 36\\n  country = \"Norway\"\\n\\nperson = {\\n  \"name\": \"John\",\\n  \"age\": 36,\\n  \"country\": \"Norway\"\\n}\\n\\nprint(dir(Person))\\nprint(dir(person))', 'person': {'name': 'John', 'age': 36, 'country': 'Norway'}, '_i97': 'class PersonClass:\\n  name = \"John\"\\n  age = 36\\n  country = \"Norway\"\\n\\npersonDictionary = {\\n  \"name\": \"John\",\\n  \"age\": 36,\\n  \"country\": \"Norway\"\\n}\\n\\nprint(dir(PersonClass))\\nprint(dir(personDictionary))', 'PersonClass': <class '__main__.PersonClass'>, 'personDictionary': {'name': 'John', 'age': 36, 'country': 'Norway'}, '_i98': 'class PersonClass:\\n  name = \"John\"\\n  age = 36\\n  country = \"Norway\"\\n\\npersonDictionary = {\\n  \"name\": \"John\",\\n  \"age\": 36,\\n  \"country\": \"Norway\"\\n}\\n\\nprint(dir(PersonClass))\\nprint(dir(personDictionary))\\nprint(dir([]))', '_i99': 'class PersonClass:\\n  name = \"John\"\\n  age = 36\\n  country = \"Norway\"\\n\\npersonDictionary = {\\n  \"name\": \"John\",\\n  \"age\": 36,\\n  \"country\": \"Norway\"\\n}\\n\\nprint(dir(PersonClass))\\nprint(dir(personDictionary))\\nprint(dir([]))\\nprint(dir(2))', '_i100': 'class PersonClass:\\n  name = \"John\"\\n  age = 36\\n  country = \"Norway\"\\n\\npersonDictionary = {\\n  \"name\": \"John\",\\n  \"age\": 36,\\n  \"country\": \"Norway\"\\n}\\n\\nprint(dir(PersonClass))\\nprint(dir(personDictionary))\\nprint(dir([]))\\nprint(dir(2))\\nprint(dir(\\'str\\'))', '_i101': \"x = ('apple', 'banana', 'cherry')\\ny = enumerate(x)\\n\\nprint(y)\", 'x': ('apple', 'banana', 'cherry'), 'y': <enumerate object at 0x000001A289B00A90>, '_i102': \"x = ('apple', 'banana', 'cherry')\\ny = enumerate(x)\\n\\nprint(y)\\nprint(list(y))\", '_i103': \"x = ('apple', 'banana', 'cherry')\\ny = enumerate(x)\\n\\nprint(y)\\nprint(type(y))\\nprint(list(y))\", '_i104': \"x = ('apple', 'banana', 'cherry')\\ny = enumerate(x)\\n\\nprint(x)\\nprint(y)\\nprint(list(y))\", '_i105': \"print(eval('print(55)'))\", '_i106': \"eval('print(55)')\", '_i107': \"eval('print(55)')\\neval('[3, 2, 1].sort()')\\neval('print(55)')\\neval('print(55)')\", '_i108': \"eval('print(55)')\\neval('[3, 2, 1]')\\neval('print(55)')\\neval('print(55)')\", '_i109': \"eval('print(55)')\\nprint(eval('[3, 2, 1]'))\\nprint(eval('print(55)'))\\neval('print(55)')\", '_i110': \"eval('print(55)')\\nprint(eval('[3, 2, 1].sort()'))\\nprint(eval('print(55)'))\\neval('print(55)')\", '_i111': \"eval('print(55)')\\nprint(eval('[3, 2, 1]'))\\nprint(eval('bool(0)'))\\neval('print(55)')\", '_i112': \"eval('print(55)')\\nprint(eval('[3, 2, 1]'))\\nprint(eval('bool(0)'))\\nprint(eval('bool(1)'))\", '_i113': \"eval('print(55)')\\nprint(eval('[3, 2, 1]'))\\nprint(eval('bool(0)'))\\nprint(eval('bool(1)'))\\nprint(eval('bool(1)sdsds'))\", '_i114': \"eval('print(55)')\\nprint(eval('[3, 2, 1]'))\\nprint(eval('bool(0)'))\\nprint(eval('bool(1)'))\\ntry:\\n    print(eval('bool(1)sdsds'))\\nexcept e:\\n    print(e)\", '_i115': 'eval(\\'print(55)\\')\\nprint(eval(\\'[3, 2, 1]\\'))\\nprint(eval(\\'bool(0)\\'))\\nprint(eval(\\'bool(1)\\'))\\ntry:\\n    print(eval(\\'bool(1)sdsds\\'))\\nexcept:\\n    print(\"Error\")', '_i116': 'filter_fn = lambda x: x != 2\\nfilter(filter_fn, [1, 2, 3, 4, 5, 6, 2, 3,2, 4])', 'filter_fn': <function <lambda> at 0x000001A294FAD1C0>, '_116': <filter object at 0x000001A294E95AE0>, '_i117': 'filter_fn = lambda x: x != 2\\nprint(filter(filter_fn, [1, 2, 3, 4, 5, 6, 2, 3,2, 4]))', '_i118': 'filter_fn = lambda x: x != 2\\nprint(list(filter(filter_fn, [1, 2, 3, 4, 5, 6, 2, 3,2, 4])))', '_i119': \"print(float(3))\\nprint(float('3'))\\nprint(float('3.123'))\", '_i120': \"format(0.5, '%')\", '_120': '50.000000%', '_i121': \"print(format(0.5, '%'))\", '_i122': \"print(format(0.5, '%'))\\nprint(format(0.5, 'g'))\", '_i123': \"print(format(0.5, '%'))\\nprint(format(0.5, 'g'))\\nprint(format(0.5, '<'))\", '_i124': \"print(format(0.5, '%'))\\nprint(format(0.5, 'g'))\\nprint(format(0.5, '<'))\\nprint(format(0.5, '+'))\", '_i125': \"print(format(0.5, '%'))\\nprint(format(0.5, 'g'))\\nprint(format(0.5, '<'))\\nprint(format(0.5, '+'))\\nprint(format(0.5, '-'))\", '_i126': \"print(format(0.5, '%'))\\nprint(format(0.5, 'g'))\\nprint(format(0.5, '<'))\\nprint(format(0.5, '+'))\\nprint(format(-0.5, '-'))\", '_i127': \"print(format(0.5, '%'))\\nprint(format(0.5, 'g'))\\nprint(format(0.5, '<'))\\nprint(format(0.5, '+'))\\nprint(format(-0.5, '+'))\", '_i128': \"print(format(0.5, '%'))\\nprint(format(0.5, 'g'))\\nprint(format(0.5, '<'))\\nprint(format(0.5, '+'))\\nprint(format(-0.5, '+'))\\nprint(format(-0.5, 'b'))\", '_i129': \"print(format(0.5, '%'))\\nprint(format(0.5, 'g'))\\nprint(format(0.5, '<'))\\nprint(format(0.5, '+'))\\nprint(format(-0.5, '+'))\\nprint(format(5, 'b'))\", '_i130': \"print(format(0.5, '%'))\\nprint(format(0.5, 'g'))\\nprint(format(0.5, '<'))\\nprint(format(0.5, '+'))\\nprint(format(-0.5, '+'))\\nprint(format(5, 'b'))\\nprint(format(5, 'd'))\", '_i131': \"print(format(0.5, '%'))\\nprint(format(0.5, 'g'))\\nprint(format(0.5, '<'))\\nprint(format(0.5, '+'))\\nprint(format(-0.5, '+'))\\nprint(format(5, 'b'))\\nprint(format(5, 'd'))\\nprint(format('5', 'n'))\", '_i132': \"print(format(0.5, '%'))\\nprint(format(0.5, 'g'))\\nprint(format(0.5, '<'))\\nprint(format(0.5, '+'))\\nprint(format(-0.5, '+'))\\nprint(format(5, 'b'))\\nprint(format(5, 'd'))\\nprint(format(5, 'n'))\", '_i133': \"mylist = ['apple', 'banana', 'cherry']\\nprint(frozenset(mylist))\", '_i134': \"mylist = ['1', '1', '2']\\nprint(frozenset(mylist))\", '_i135': 'class Person:\\n  name = \"John\"\\n  age = 36\\n  country = \"Norway\"\\n\\nprint(getattr(Person, \\'age\\'))', '_i136': 'class Person:\\n  name = \"John\"\\n  age = 36\\n  country = \"Norway\"\\n\\nprint(getattr(Person, \\'name\\'))\\nprint(getattr(Person, \\'age\\'))\\nprint(getattr(Person, \\'invalid\\'))', '_i137': 'class Person:\\n  name = \"John\"\\n  age = 36\\n  country = \"Norway\"\\n\\nprint(getattr(Person, \\'name\\'))\\nprint(getattr(Person, \\'age\\'))\\nprint(getattr(Person, \\'invalid\\', \\'missing attribute\\'))', '_i138': 'class Person:\\n  name = \"John\"\\n  age = 36\\n  country = \"Norway\"\\n\\nprint(getattr(Person, \\'name\\'))\\nprint(getattr(Person, \\'age\\'))\\nprint(getattr(Person, \\'invalid\\', \\'Error: missing attribute\\'))', '_i139': 'print(globals())'}\n"
     ]
    }
   ],
   "source": [
    "print(globals())"
   ]
  },
  {
   "cell_type": "markdown",
   "metadata": {},
   "source": [
    "### `hasattr()`\n",
    "\n",
    "The hasattr() function returns True if the specified object has the specified attribute, otherwise False."
   ]
  },
  {
   "cell_type": "code",
   "execution_count": 140,
   "metadata": {},
   "outputs": [
    {
     "name": "stdout",
     "output_type": "stream",
     "text": [
      "True\n",
      "False\n"
     ]
    }
   ],
   "source": [
    "class Person:\n",
    "  name = \"John\"\n",
    "  age = 36\n",
    "  country = \"Norway\"\n",
    "\n",
    "print(hasattr(Person, 'age'))\n",
    "print(hasattr(Person, 'invalid'))"
   ]
  },
  {
   "cell_type": "markdown",
   "metadata": {},
   "source": [
    "### `int()`\n",
    "\n",
    "Returns an integer number\n"
   ]
  },
  {
   "cell_type": "code",
   "execution_count": 145,
   "metadata": {},
   "outputs": [
    {
     "name": "stdout",
     "output_type": "stream",
     "text": [
      "3\n",
      "3\n",
      "3\n"
     ]
    }
   ],
   "source": [
    "print(int(3.9))\n",
    "print(int(3.1))\n",
    "print(int('3'))"
   ]
  },
  {
   "cell_type": "markdown",
   "metadata": {},
   "source": [
    "### `isinstance()`\n",
    "\n",
    "The isinstance() function returns True if the specified object is of the specified type, otherwise False. If the type parameter is a tuple, this function will return True if the object is one of the types in the tuple."
   ]
  },
  {
   "cell_type": "code",
   "execution_count": 148,
   "metadata": {},
   "outputs": [
    {
     "name": "stdout",
     "output_type": "stream",
     "text": [
      "True\n",
      "True\n",
      "False\n",
      "True\n"
     ]
    }
   ],
   "source": [
    "class myObj:\n",
    "  name = \"John\"\n",
    "\n",
    "y = myObj()\n",
    "\n",
    "print(isinstance(y, myObj))\n",
    "print(isinstance(5, int))\n",
    "print(isinstance(5, float))\n",
    "print(isinstance(\"Hello\", (float, int, str, list, dict, tuple)))"
   ]
  },
  {
   "cell_type": "markdown",
   "metadata": {},
   "source": [
    "### `iter()`\n",
    "\n",
    "The iter() function returns an iterator object."
   ]
  },
  {
   "cell_type": "code",
   "execution_count": 153,
   "metadata": {},
   "outputs": [
    {
     "name": "stdout",
     "output_type": "stream",
     "text": [
      "<list_iterator object at 0x000001A294E16920>\n",
      "apple\n",
      "banana\n",
      "cherry\n",
      "[]\n"
     ]
    }
   ],
   "source": [
    "x = iter([\"apple\", \"banana\", \"cherry\"])\n",
    "print(x)\n",
    "print(next(x))\n",
    "print(next(x))\n",
    "print(next(x))\n",
    "print(list(x))"
   ]
  },
  {
   "cell_type": "markdown",
   "metadata": {},
   "source": [
    "### `len()`\n",
    "\n",
    "The len() function returns the number of items in an object. When the object is a string, the len() function returns the number of characters in the string."
   ]
  },
  {
   "cell_type": "code",
   "execution_count": 156,
   "metadata": {},
   "outputs": [
    {
     "name": "stdout",
     "output_type": "stream",
     "text": [
      "2\n",
      "0\n",
      "2\n",
      "3\n"
     ]
    }
   ],
   "source": [
    "print(len([1, 2]))\n",
    "print(len([]))\n",
    "print(len({0: '1', 1: '2'}))\n",
    "print(len('123'))"
   ]
  },
  {
   "cell_type": "markdown",
   "metadata": {},
   "source": [
    "### `map()`\n",
    "\n",
    "The map() function executes a specified function for each item in an iterable. The item is sent to the function as a parameter."
   ]
  },
  {
   "cell_type": "code",
   "execution_count": 164,
   "metadata": {},
   "outputs": [
    {
     "name": "stdout",
     "output_type": "stream",
     "text": [
      "[5, 6, 6]\n",
      "['appleorange', 'bananalemon', 'cherrypineapple']\n",
      "[2, 4, 6]\n",
      "[1, 2, 3]\n"
     ]
    }
   ],
   "source": [
    "def myFunc(x): return len(x)\n",
    "print(list(map(myFunc, ('apple', 'banana', 'cherry'))))\n",
    "\n",
    "def myFunc(a, b): return a + b\n",
    "print(list(map(myFunc, ('apple', 'banana', 'cherry'), ('orange', 'lemon', 'pineapple'))))\n",
    "\n",
    "myList = [1, 2, 3]\n",
    "print(list(map(lambda x: x * 2, myList)))\n",
    "print(myList)"
   ]
  },
  {
   "cell_type": "markdown",
   "metadata": {},
   "source": [
    "### `max()`\n",
    "\n",
    "The max() function returns the item with the highest value, or the item with the highest value in an iterable. If the values are strings, an alphabetically comparison is done."
   ]
  },
  {
   "cell_type": "code",
   "execution_count": 171,
   "metadata": {},
   "outputs": [
    {
     "name": "stdout",
     "output_type": "stream",
     "text": [
      "10\n",
      "Vicky\n",
      "c\n",
      "3\n"
     ]
    }
   ],
   "source": [
    "print(max(5, 10))\n",
    "print(max(\"Mike\", \"John\", \"Vicky\"))\n",
    "print(max(\"aa\", \"b\", \"c\"))\n",
    "print(max(\"3\", \"2\", \"1\"))"
   ]
  },
  {
   "cell_type": "markdown",
   "metadata": {},
   "source": [
    "### `min()`\n",
    "\n",
    "The min() function returns the item with the lowest value, or the item with the lowest value in an iterable. If the values are strings, an alphabetically comparison is done."
   ]
  },
  {
   "cell_type": "code",
   "execution_count": 169,
   "metadata": {},
   "outputs": [
    {
     "name": "stdout",
     "output_type": "stream",
     "text": [
      "5\n",
      "John\n",
      "aa\n",
      "1\n"
     ]
    }
   ],
   "source": [
    "print(min(5, 10))\n",
    "print(min(\"Mike\", \"John\", \"Vicky\"))\n",
    "print(min(\"aa\", \"b\", \"c\"))\n",
    "print(min(\"3\", \"2\", \"1\"))"
   ]
  },
  {
   "cell_type": "markdown",
   "metadata": {},
   "source": [
    "### `next()`\n",
    "\n",
    "The next() function returns the next item in an iterator. You can add a default return value, to return if the iterator has reached to its end."
   ]
  },
  {
   "cell_type": "code",
   "execution_count": 170,
   "metadata": {},
   "outputs": [
    {
     "name": "stdout",
     "output_type": "stream",
     "text": [
      "apple\n",
      "banana\n",
      "cherry\n",
      "orange\n"
     ]
    }
   ],
   "source": [
    "mylist = iter([\"apple\", \"banana\", \"cherry\"])\n",
    "print(next(mylist, \"orange\"))\n",
    "print(next(mylist, \"orange\"))\n",
    "print(next(mylist, \"orange\"))\n",
    "print(next(mylist, \"orange\"))"
   ]
  },
  {
   "cell_type": "markdown",
   "metadata": {},
   "source": [
    "### `range()`\n",
    "\n",
    "The range() function returns a sequence of numbers, starting from 0 by default, and increments by 1 (by default), and stops before a specified number."
   ]
  },
  {
   "cell_type": "code",
   "execution_count": 175,
   "metadata": {},
   "outputs": [
    {
     "name": "stdout",
     "output_type": "stream",
     "text": [
      "range(0, 5)\n",
      "[0, 1, 2, 3, 4]\n",
      "[5, 6, 7, 8, 9]\n",
      "[10, 12, 14, 16, 18]\n"
     ]
    }
   ],
   "source": [
    "print(range(5))\n",
    "print(list(range(5)))\n",
    "print(list(range(5, 10)))\n",
    "print(list(range(10, 20, 2)))"
   ]
  },
  {
   "cell_type": "markdown",
   "metadata": {},
   "source": [
    "### `reversed()`\n",
    "\n",
    "The reversed() function returns a reversed iterator object.\n",
    "\n"
   ]
  },
  {
   "cell_type": "code",
   "execution_count": 178,
   "metadata": {},
   "outputs": [
    {
     "name": "stdout",
     "output_type": "stream",
     "text": [
      "<list_reverseiterator object at 0x000001A294FF47F0>\n",
      "['d', 'c', 'b', 'a']\n"
     ]
    }
   ],
   "source": [
    "print(reversed([\"a\", \"b\", \"c\", \"d\"]))\n",
    "print(list(reversed([\"a\", \"b\", \"c\", \"d\"])))"
   ]
  },
  {
   "cell_type": "markdown",
   "metadata": {},
   "source": [
    "### `round()`\n",
    "\n",
    "The round() function returns a floating point number that is a rounded version of the specified number, with the specified number of decimals. The default number of decimals is 0, meaning that the function will return the nearest integer."
   ]
  },
  {
   "cell_type": "code",
   "execution_count": 184,
   "metadata": {},
   "outputs": [
    {
     "name": "stdout",
     "output_type": "stream",
     "text": [
      "6\n",
      "5\n",
      "6\n",
      "6\n",
      "5.77\n",
      "5.765\n",
      "5\n"
     ]
    }
   ],
   "source": [
    "print(round(5.76543))\n",
    "print(round(5.4))\n",
    "print(round(5.5))\n",
    "print(round(5.6))\n",
    "print(round(5.76543, 2))\n",
    "print(round(5.76543, 3))\n",
    "print(round(5, 3))"
   ]
  },
  {
   "cell_type": "markdown",
   "metadata": {},
   "source": [
    "### `slice()`\n",
    "\n",
    "The slice() function returns a slice object. A slice object is used to specify how to slice a sequence. You can specify where to start the slicing, and where to end. You can also specify the step, which allows you to e.g. slice only every other item."
   ]
  },
  {
   "cell_type": "code",
   "execution_count": 186,
   "metadata": {},
   "outputs": [
    {
     "name": "stdout",
     "output_type": "stream",
     "text": [
      "('a', 'b')\n",
      "('d', 'e')\n",
      "('a', 'd', 'g')\n"
     ]
    }
   ],
   "source": [
    "data = (\"a\", \"b\", \"c\", \"d\", \"e\", \"f\", \"g\", \"h\")\n",
    "\n",
    "print(data[slice(2)])\n",
    "print(data[slice(3, 5)])\n",
    "print(data[slice(0, 8, 3)])"
   ]
  },
  {
   "cell_type": "markdown",
   "metadata": {},
   "source": [
    "### `sorted()`\n",
    "\n",
    "The sorted() function returns a sorted list of the specified iterable object. You can specify ascending or descending order. Strings are sorted alphabetically, and numbers are sorted numerically. Note: You cannot sort a list that contains BOTH string values AND numeric values."
   ]
  },
  {
   "cell_type": "code",
   "execution_count": 193,
   "metadata": {},
   "outputs": [
    {
     "name": "stdout",
     "output_type": "stream",
     "text": [
      "[1, 2, 11]\n",
      "['a', 'b', 'c', 'd', 'e', 'f', 'g', 'h']\n",
      "['h', 'g', 'f', 'e', 'd', 'c', 'b', 'a']\n",
      "['Jane', 'Sally', 'Jenifer']\n",
      "[11, 12, 5, 3, 17, 2, 1]\n",
      "('b', 'g', 'a', 'd', 'f', 'c', 'h', 'e')\n"
     ]
    }
   ],
   "source": [
    "a = (\"b\", \"g\", \"a\", \"d\", \"f\", \"c\", \"h\", \"e\")\n",
    "\n",
    "print(sorted((1, 11, 2)))\n",
    "print(sorted(a))\n",
    "print(sorted(a, reverse=True))\n",
    "print(sorted((\"Jenifer\", \"Sally\", \"Jane\"), key=len))\n",
    "print(sorted((5, 3, 1, 11, 2, 12, 17), key=lambda n: abs(10-n) ))\n",
    "\n",
    "print(a)"
   ]
  },
  {
   "cell_type": "markdown",
   "metadata": {},
   "source": [
    "### `sum()`\n",
    "\n",
    "The sum() function returns a number, the sum of all items in an iterable."
   ]
  },
  {
   "cell_type": "code",
   "execution_count": 197,
   "metadata": {},
   "outputs": [
    {
     "name": "stdout",
     "output_type": "stream",
     "text": [
      "15\n",
      "22\n"
     ]
    }
   ],
   "source": [
    "print(sum((1, 2, 3, 4, 5)))\n",
    "print(sum((1, 2, 3, 4, 5), 7))"
   ]
  },
  {
   "cell_type": "markdown",
   "metadata": {},
   "source": [
    "### `zip()`\n",
    "\n",
    "The zip() function returns a zip object, which is an iterator of tuples where the first item in each passed iterator is paired together, and then the second item in each passed iterator are paired together etc.\n",
    "\n",
    "If the passed iterables have different lengths, the iterable with the least items decides the length of the new iterator."
   ]
  },
  {
   "cell_type": "code",
   "execution_count": 203,
   "metadata": {},
   "outputs": [
    {
     "name": "stdout",
     "output_type": "stream",
     "text": [
      "<zip object at 0x000001A294D2F740>\n",
      "[('John', 'Jenny'), ('Charles', 'Christy'), ('Mike', 'Monica')]\n",
      "[('John', 'Jenny', 'John', 'Jenny'), ('Charles', 'Christy', 'Charles', 'Christy'), ('Mike', 'Monica', 'Mike', 'Monica')]\n"
     ]
    }
   ],
   "source": [
    "a = (\"John\", \"Charles\", \"Mike\")\n",
    "b = (\"Jenny\", \"Christy\", \"Monica\", \"Vicky\")\n",
    "\n",
    "print(zip(a, b))\n",
    "print(list(zip(a, b)))\n",
    "print(list(zip(a, b, a, b)))"
   ]
  }
 ],
 "metadata": {
  "kernelspec": {
   "display_name": ".venv",
   "language": "python",
   "name": "python3"
  },
  "language_info": {
   "codemirror_mode": {
    "name": "ipython",
    "version": 3
   },
   "file_extension": ".py",
   "mimetype": "text/x-python",
   "name": "python",
   "nbconvert_exporter": "python",
   "pygments_lexer": "ipython3",
   "version": "3.11.8"
  }
 },
 "nbformat": 4,
 "nbformat_minor": 2
}
